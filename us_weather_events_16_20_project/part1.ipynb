{
 "cells": [
  {
   "cell_type": "markdown",
   "metadata": {},
   "source": [
    "# Information Visualization Project - Part 1\n",
    "\n",
    "The dataset the group will dive into describes different kinds of weather phenomena <br>\n",
    "in the United States. It can be found through the following [LINK](https://openml.org/search?type=data&id=43380) \n",
    "accessing the OpenML website."
   ]
  },
  {
   "cell_type": "markdown",
   "metadata": {},
   "source": [
    "## A brief description"
   ]
  },
  {
   "cell_type": "markdown",
   "metadata": {},
   "source": [
    "The US Weather Dataset (2016-2020) compiles the climate data from 2 thousand airports<br>\n",
    "Throughout the country of the United States, it covers 49 states and all the data <br>\n",
    "streches from January 2016 up to December 2020."
   ]
  },
  {
   "cell_type": "markdown",
   "metadata": {},
   "source": [
    "## Libraries Imports"
   ]
  },
  {
   "cell_type": "code",
   "execution_count": 1,
   "metadata": {},
   "outputs": [],
   "source": [
    "# Basic libraries\n",
    "import numpy as np\n",
    "import pandas as pd\n",
    "import matplotlib.pyplot as plt\n",
    "import seaborn as sns\n",
    "\n",
    "# Vega Altair\n",
    "import altair as alt\n",
    "\n",
    "# Download Data\n",
    "import openml "
   ]
  },
  {
   "cell_type": "markdown",
   "metadata": {},
   "source": [
    "To use altair with larger datasets:"
   ]
  },
  {
   "cell_type": "code",
   "execution_count": 2,
   "metadata": {},
   "outputs": [
    {
     "data": {
      "text/plain": [
       "DataTransformerRegistry.enable('vegafusion')"
      ]
     },
     "execution_count": 2,
     "metadata": {},
     "output_type": "execute_result"
    }
   ],
   "source": [
    "alt.data_transformers.enable(\"vegafusion\")"
   ]
  },
  {
   "cell_type": "markdown",
   "metadata": {},
   "source": [
    "## Downloading data"
   ]
  },
  {
   "cell_type": "code",
   "execution_count": 3,
   "metadata": {},
   "outputs": [],
   "source": [
    "dataset = openml.datasets.get_dataset(43380)"
   ]
  },
  {
   "cell_type": "code",
   "execution_count": 4,
   "metadata": {},
   "outputs": [
    {
     "data": {
      "text/plain": [
       "OpenML Dataset\n",
       "==============\n",
       "Name.........: US-Weather-Events-(2016---2020)\n",
       "Version......: 1\n",
       "Format.......: arff\n",
       "Upload Date..: 2022-03-23 12:51:42\n",
       "Licence......: CC BY-NC-SA 4.0\n",
       "Download URL.: https://api.openml.org/data/v1/download/22102205/US-Weather-Events-(2016---2020).arff\n",
       "OpenML URL...: https://www.openml.org/d/43380\n",
       "# of features: None"
      ]
     },
     "execution_count": 4,
     "metadata": {},
     "output_type": "execute_result"
    }
   ],
   "source": [
    "dataset"
   ]
  },
  {
   "cell_type": "code",
   "execution_count": 5,
   "metadata": {},
   "outputs": [],
   "source": [
    "X, y, _, _ = dataset.get_data(dataset_format=\"dataframe\")"
   ]
  },
  {
   "cell_type": "code",
   "execution_count": 6,
   "metadata": {},
   "outputs": [
    {
     "data": {
      "text/html": [
       "<div>\n",
       "<style scoped>\n",
       "    .dataframe tbody tr th:only-of-type {\n",
       "        vertical-align: middle;\n",
       "    }\n",
       "\n",
       "    .dataframe tbody tr th {\n",
       "        vertical-align: top;\n",
       "    }\n",
       "\n",
       "    .dataframe thead th {\n",
       "        text-align: right;\n",
       "    }\n",
       "</style>\n",
       "<table border=\"1\" class=\"dataframe\">\n",
       "  <thead>\n",
       "    <tr style=\"text-align: right;\">\n",
       "      <th></th>\n",
       "      <th>EventId</th>\n",
       "      <th>Type</th>\n",
       "      <th>Severity</th>\n",
       "      <th>StartTime(UTC)</th>\n",
       "      <th>EndTime(UTC)</th>\n",
       "      <th>Precipitation(in)</th>\n",
       "      <th>TimeZone</th>\n",
       "      <th>AirportCode</th>\n",
       "      <th>LocationLat</th>\n",
       "      <th>LocationLng</th>\n",
       "      <th>City</th>\n",
       "      <th>County</th>\n",
       "      <th>State</th>\n",
       "      <th>ZipCode</th>\n",
       "    </tr>\n",
       "  </thead>\n",
       "  <tbody>\n",
       "    <tr>\n",
       "      <th>0</th>\n",
       "      <td>W-1</td>\n",
       "      <td>Snow</td>\n",
       "      <td>Light</td>\n",
       "      <td>2016-01-06 23:14:00</td>\n",
       "      <td>2016-01-07 00:34:00</td>\n",
       "      <td>0.00</td>\n",
       "      <td>US/Mountain</td>\n",
       "      <td>K04V</td>\n",
       "      <td>38.0972</td>\n",
       "      <td>-106.1689</td>\n",
       "      <td>Saguache</td>\n",
       "      <td>Saguache</td>\n",
       "      <td>CO</td>\n",
       "      <td>81149.0</td>\n",
       "    </tr>\n",
       "    <tr>\n",
       "      <th>1</th>\n",
       "      <td>W-2</td>\n",
       "      <td>Snow</td>\n",
       "      <td>Light</td>\n",
       "      <td>2016-01-07 04:14:00</td>\n",
       "      <td>2016-01-07 04:54:00</td>\n",
       "      <td>0.00</td>\n",
       "      <td>US/Mountain</td>\n",
       "      <td>K04V</td>\n",
       "      <td>38.0972</td>\n",
       "      <td>-106.1689</td>\n",
       "      <td>Saguache</td>\n",
       "      <td>Saguache</td>\n",
       "      <td>CO</td>\n",
       "      <td>81149.0</td>\n",
       "    </tr>\n",
       "    <tr>\n",
       "      <th>2</th>\n",
       "      <td>W-3</td>\n",
       "      <td>Snow</td>\n",
       "      <td>Light</td>\n",
       "      <td>2016-01-07 05:54:00</td>\n",
       "      <td>2016-01-07 15:34:00</td>\n",
       "      <td>0.03</td>\n",
       "      <td>US/Mountain</td>\n",
       "      <td>K04V</td>\n",
       "      <td>38.0972</td>\n",
       "      <td>-106.1689</td>\n",
       "      <td>Saguache</td>\n",
       "      <td>Saguache</td>\n",
       "      <td>CO</td>\n",
       "      <td>81149.0</td>\n",
       "    </tr>\n",
       "    <tr>\n",
       "      <th>3</th>\n",
       "      <td>W-4</td>\n",
       "      <td>Snow</td>\n",
       "      <td>Light</td>\n",
       "      <td>2016-01-08 05:34:00</td>\n",
       "      <td>2016-01-08 05:54:00</td>\n",
       "      <td>0.00</td>\n",
       "      <td>US/Mountain</td>\n",
       "      <td>K04V</td>\n",
       "      <td>38.0972</td>\n",
       "      <td>-106.1689</td>\n",
       "      <td>Saguache</td>\n",
       "      <td>Saguache</td>\n",
       "      <td>CO</td>\n",
       "      <td>81149.0</td>\n",
       "    </tr>\n",
       "    <tr>\n",
       "      <th>4</th>\n",
       "      <td>W-5</td>\n",
       "      <td>Snow</td>\n",
       "      <td>Light</td>\n",
       "      <td>2016-01-08 13:54:00</td>\n",
       "      <td>2016-01-08 15:54:00</td>\n",
       "      <td>0.00</td>\n",
       "      <td>US/Mountain</td>\n",
       "      <td>K04V</td>\n",
       "      <td>38.0972</td>\n",
       "      <td>-106.1689</td>\n",
       "      <td>Saguache</td>\n",
       "      <td>Saguache</td>\n",
       "      <td>CO</td>\n",
       "      <td>81149.0</td>\n",
       "    </tr>\n",
       "  </tbody>\n",
       "</table>\n",
       "</div>"
      ],
      "text/plain": [
       "  EventId  Type Severity       StartTime(UTC)         EndTime(UTC)  \\\n",
       "0     W-1  Snow    Light  2016-01-06 23:14:00  2016-01-07 00:34:00   \n",
       "1     W-2  Snow    Light  2016-01-07 04:14:00  2016-01-07 04:54:00   \n",
       "2     W-3  Snow    Light  2016-01-07 05:54:00  2016-01-07 15:34:00   \n",
       "3     W-4  Snow    Light  2016-01-08 05:34:00  2016-01-08 05:54:00   \n",
       "4     W-5  Snow    Light  2016-01-08 13:54:00  2016-01-08 15:54:00   \n",
       "\n",
       "   Precipitation(in)     TimeZone AirportCode  LocationLat  LocationLng  \\\n",
       "0               0.00  US/Mountain        K04V      38.0972    -106.1689   \n",
       "1               0.00  US/Mountain        K04V      38.0972    -106.1689   \n",
       "2               0.03  US/Mountain        K04V      38.0972    -106.1689   \n",
       "3               0.00  US/Mountain        K04V      38.0972    -106.1689   \n",
       "4               0.00  US/Mountain        K04V      38.0972    -106.1689   \n",
       "\n",
       "       City    County State  ZipCode  \n",
       "0  Saguache  Saguache    CO  81149.0  \n",
       "1  Saguache  Saguache    CO  81149.0  \n",
       "2  Saguache  Saguache    CO  81149.0  \n",
       "3  Saguache  Saguache    CO  81149.0  \n",
       "4  Saguache  Saguache    CO  81149.0  "
      ]
     },
     "execution_count": 6,
     "metadata": {},
     "output_type": "execute_result"
    }
   ],
   "source": [
    "X.head()"
   ]
  },
  {
   "cell_type": "code",
   "execution_count": 7,
   "metadata": {},
   "outputs": [
    {
     "name": "stdout",
     "output_type": "stream",
     "text": [
      "<class 'pandas.core.frame.DataFrame'>\n",
      "RangeIndex: 7479165 entries, 0 to 7479164\n",
      "Data columns (total 14 columns):\n",
      " #   Column             Dtype  \n",
      "---  ------             -----  \n",
      " 0   EventId            object \n",
      " 1   Type               object \n",
      " 2   Severity           object \n",
      " 3   StartTime(UTC)     object \n",
      " 4   EndTime(UTC)       object \n",
      " 5   Precipitation(in)  float64\n",
      " 6   TimeZone           object \n",
      " 7   AirportCode        object \n",
      " 8   LocationLat        float64\n",
      " 9   LocationLng        float64\n",
      " 10  City               object \n",
      " 11  County             object \n",
      " 12  State              object \n",
      " 13  ZipCode            float64\n",
      "dtypes: float64(4), object(10)\n",
      "memory usage: 798.9+ MB\n"
     ]
    }
   ],
   "source": [
    "X.info()"
   ]
  },
  {
   "cell_type": "markdown",
   "metadata": {},
   "source": [
    "## Data Exploration"
   ]
  },
  {
   "cell_type": "markdown",
   "metadata": {},
   "source": [
    "### Describing the variables"
   ]
  },
  {
   "cell_type": "markdown",
   "metadata": {},
   "source": [
    "EventID: \n",
    "\n",
    "The variable has no duplicates and has no meaning attached to it."
   ]
  },
  {
   "cell_type": "code",
   "execution_count": 8,
   "metadata": {},
   "outputs": [
    {
     "data": {
      "text/plain": [
       "7479165"
      ]
     },
     "execution_count": 8,
     "metadata": {},
     "output_type": "execute_result"
    }
   ],
   "source": [
    "X['EventId'].nunique()"
   ]
  },
  {
   "cell_type": "markdown",
   "metadata": {},
   "source": [
    "Type:\n",
    "\n",
    "There are 7 kinds of events: \n",
    "- Snow, Fog, Cold, Storm, Rain, Precipitation "
   ]
  },
  {
   "cell_type": "code",
   "execution_count": 9,
   "metadata": {},
   "outputs": [
    {
     "data": {
      "text/plain": [
       "array(['Snow', 'Fog', 'Cold', 'Storm', 'Rain', 'Precipitation', 'Hail'],\n",
       "      dtype=object)"
      ]
     },
     "execution_count": 9,
     "metadata": {},
     "output_type": "execute_result"
    }
   ],
   "source": [
    "X['Type'].unique()"
   ]
  },
  {
   "cell_type": "code",
   "execution_count": 10,
   "metadata": {},
   "outputs": [
    {
     "data": {
      "text/plain": [
       "Type\n",
       "Rain             4397546\n",
       "Fog              1722738\n",
       "Snow              980411\n",
       "Cold              197691\n",
       "Precipitation     128836\n",
       "Storm              49203\n",
       "Hail                2740\n",
       "Name: count, dtype: int64"
      ]
     },
     "execution_count": 10,
     "metadata": {},
     "output_type": "execute_result"
    }
   ],
   "source": [
    "X['Type'].value_counts()"
   ]
  },
  {
   "cell_type": "code",
   "execution_count": 11,
   "metadata": {},
   "outputs": [],
   "source": [
    "title = alt.TitleParams('Contagem por tipo de Evento', anchor='middle', fontSize=15)\n",
    "base = alt.Chart(X, title=title).encode(\n",
    "    alt.X(\n",
    "        'Type',\n",
    "        sort=alt.EncodingSortField(field=\"Letters\", op=\"count\", order='descending'), \n",
    "        axis=alt.Axis(labelAngle=0),\n",
    "        title='Tipo de Evento'),\n",
    "    alt.Y('count()', title='Contagem'),\n",
    "    text=alt.Text('count()', format=',.0f')\n",
    ").properties(\n",
    "    width=500,\n",
    "    height=400\n",
    ")\n",
    "p = base.mark_bar() + base.mark_text(align='center', dx=0, yOffset=-10)\n",
    "p.save('/Users/administrador/Documents/Pessoal/repositorios/information_visualization/images/events_count.png', ppi=300)"
   ]
  },
  {
   "cell_type": "markdown",
   "metadata": {},
   "source": [
    "Severity:\n",
    "\n",
    "There are 6 level for severity: \n",
    "- Light, Severe, Moderate, Heavy, UNK and Other"
   ]
  },
  {
   "cell_type": "code",
   "execution_count": 12,
   "metadata": {},
   "outputs": [
    {
     "data": {
      "text/plain": [
       "array(['Light', 'Severe', 'Moderate', 'Heavy', 'UNK', 'Other'],\n",
       "      dtype=object)"
      ]
     },
     "execution_count": 12,
     "metadata": {},
     "output_type": "execute_result"
    }
   ],
   "source": [
    "X['Severity'].unique()"
   ]
  },
  {
   "cell_type": "code",
   "execution_count": 13,
   "metadata": {},
   "outputs": [],
   "source": [
    "title = alt.TitleParams('Contagem por tipo de Severidade', anchor='middle', fontSize=15)\n",
    "base = alt.Chart(X, title=title).encode(\n",
    "    alt.X(\n",
    "        'Severity',\n",
    "        sort=alt.EncodingSortField(field=\"Letters\", op=\"count\", order='descending'), \n",
    "        axis=alt.Axis(labelAngle=0),\n",
    "        title='Severidade'),\n",
    "    alt.Y('count()', title='Contagem'),\n",
    "    text=alt.Text('count()', format=',.0f')\n",
    ").properties(\n",
    "    width=500,\n",
    "    height=400\n",
    ")\n",
    "p = base.mark_bar() + base.mark_text(align='center', dx=0, yOffset=-10)\n",
    "p.save('/Users/administrador/Documents/Pessoal/repositorios/information_visualization/images/severity_count.png', ppi=300)"
   ]
  },
  {
   "cell_type": "markdown",
   "metadata": {},
   "source": [
    "Start Time and End Time:"
   ]
  },
  {
   "cell_type": "code",
   "execution_count": 14,
   "metadata": {},
   "outputs": [
    {
     "data": {
      "text/html": [
       "<div>\n",
       "<style scoped>\n",
       "    .dataframe tbody tr th:only-of-type {\n",
       "        vertical-align: middle;\n",
       "    }\n",
       "\n",
       "    .dataframe tbody tr th {\n",
       "        vertical-align: top;\n",
       "    }\n",
       "\n",
       "    .dataframe thead th {\n",
       "        text-align: right;\n",
       "    }\n",
       "</style>\n",
       "<table border=\"1\" class=\"dataframe\">\n",
       "  <thead>\n",
       "    <tr style=\"text-align: right;\">\n",
       "      <th></th>\n",
       "      <th>StartTime(UTC)</th>\n",
       "      <th>EndTime(UTC)</th>\n",
       "    </tr>\n",
       "  </thead>\n",
       "  <tbody>\n",
       "    <tr>\n",
       "      <th>0</th>\n",
       "      <td>2016-01-06 23:14:00</td>\n",
       "      <td>2016-01-07 00:34:00</td>\n",
       "    </tr>\n",
       "    <tr>\n",
       "      <th>1</th>\n",
       "      <td>2016-01-07 04:14:00</td>\n",
       "      <td>2016-01-07 04:54:00</td>\n",
       "    </tr>\n",
       "    <tr>\n",
       "      <th>2</th>\n",
       "      <td>2016-01-07 05:54:00</td>\n",
       "      <td>2016-01-07 15:34:00</td>\n",
       "    </tr>\n",
       "    <tr>\n",
       "      <th>3</th>\n",
       "      <td>2016-01-08 05:34:00</td>\n",
       "      <td>2016-01-08 05:54:00</td>\n",
       "    </tr>\n",
       "    <tr>\n",
       "      <th>4</th>\n",
       "      <td>2016-01-08 13:54:00</td>\n",
       "      <td>2016-01-08 15:54:00</td>\n",
       "    </tr>\n",
       "  </tbody>\n",
       "</table>\n",
       "</div>"
      ],
      "text/plain": [
       "        StartTime(UTC)         EndTime(UTC)\n",
       "0  2016-01-06 23:14:00  2016-01-07 00:34:00\n",
       "1  2016-01-07 04:14:00  2016-01-07 04:54:00\n",
       "2  2016-01-07 05:54:00  2016-01-07 15:34:00\n",
       "3  2016-01-08 05:34:00  2016-01-08 05:54:00\n",
       "4  2016-01-08 13:54:00  2016-01-08 15:54:00"
      ]
     },
     "execution_count": 14,
     "metadata": {},
     "output_type": "execute_result"
    }
   ],
   "source": [
    "X[['StartTime(UTC)', 'EndTime(UTC)']].head()"
   ]
  },
  {
   "cell_type": "code",
   "execution_count": 15,
   "metadata": {},
   "outputs": [
    {
     "data": {
      "text/html": [
       "<div>\n",
       "<style scoped>\n",
       "    .dataframe tbody tr th:only-of-type {\n",
       "        vertical-align: middle;\n",
       "    }\n",
       "\n",
       "    .dataframe tbody tr th {\n",
       "        vertical-align: top;\n",
       "    }\n",
       "\n",
       "    .dataframe thead th {\n",
       "        text-align: right;\n",
       "    }\n",
       "</style>\n",
       "<table border=\"1\" class=\"dataframe\">\n",
       "  <thead>\n",
       "    <tr style=\"text-align: right;\">\n",
       "      <th></th>\n",
       "      <th>StartTime(UTC)</th>\n",
       "      <th>EndTime(UTC)</th>\n",
       "    </tr>\n",
       "  </thead>\n",
       "  <tbody>\n",
       "    <tr>\n",
       "      <th>count</th>\n",
       "      <td>7479165</td>\n",
       "      <td>7479165</td>\n",
       "    </tr>\n",
       "    <tr>\n",
       "      <th>unique</th>\n",
       "      <td>1980059</td>\n",
       "      <td>1940056</td>\n",
       "    </tr>\n",
       "    <tr>\n",
       "      <th>top</th>\n",
       "      <td>2017-03-12 06:15:00</td>\n",
       "      <td>2016-03-13 06:15:00</td>\n",
       "    </tr>\n",
       "    <tr>\n",
       "      <th>freq</th>\n",
       "      <td>116</td>\n",
       "      <td>103</td>\n",
       "    </tr>\n",
       "  </tbody>\n",
       "</table>\n",
       "</div>"
      ],
      "text/plain": [
       "             StartTime(UTC)         EndTime(UTC)\n",
       "count               7479165              7479165\n",
       "unique              1980059              1940056\n",
       "top     2017-03-12 06:15:00  2016-03-13 06:15:00\n",
       "freq                    116                  103"
      ]
     },
     "execution_count": 15,
     "metadata": {},
     "output_type": "execute_result"
    }
   ],
   "source": [
    "X[['StartTime(UTC)', 'EndTime(UTC)']].describe()"
   ]
  },
  {
   "cell_type": "markdown",
   "metadata": {},
   "source": [
    "Precipitation:\n",
    "\n",
    "Extreme unbalanced data, the proportion of events in which it didn't rain<br>\n",
    "is far greater than the ones with some precipitation."
   ]
  },
  {
   "cell_type": "code",
   "execution_count": 16,
   "metadata": {},
   "outputs": [
    {
     "data": {
      "text/plain": [
       "count    7.479165e+06\n",
       "mean     9.518492e-02\n",
       "std      9.185906e-01\n",
       "min      0.000000e+00\n",
       "25%      0.000000e+00\n",
       "50%      0.000000e+00\n",
       "75%      5.000000e-02\n",
       "max      1.104130e+03\n",
       "Name: Precipitation(in), dtype: float64"
      ]
     },
     "execution_count": 16,
     "metadata": {},
     "output_type": "execute_result"
    }
   ],
   "source": [
    "X['Precipitation(in)'].describe()"
   ]
  },
  {
   "cell_type": "code",
   "execution_count": 17,
   "metadata": {},
   "outputs": [],
   "source": [
    "title = alt.TitleParams('Histograma de Precipitação (polegadas)', anchor='middle', fontSize=15)\n",
    "base = alt.Chart(X, title=title).encode(\n",
    "    alt.X(\n",
    "        'Precipitation(in)',\n",
    "        #axis=alt.Axis(labelAngle=0),\n",
    "        title='Precipitação (polegadas)'),\n",
    "    alt.Y('count()', title='Contagem').scale(type='log')\n",
    ").properties(\n",
    "    width=500,\n",
    "    height=400\n",
    ")\n",
    "p = base.mark_bar() + base.mark_text(align='center', dx=0, yOffset=-10)\n",
    "p.save('/Users/administrador/Documents/Pessoal/repositorios/information_visualization/images/preci_hist.png', ppi=300)"
   ]
  },
  {
   "cell_type": "markdown",
   "metadata": {},
   "source": [
    "TimeZone"
   ]
  },
  {
   "cell_type": "code",
   "execution_count": 18,
   "metadata": {},
   "outputs": [
    {
     "data": {
      "text/plain": [
       "0    US/Mountain\n",
       "1    US/Mountain\n",
       "2    US/Mountain\n",
       "3    US/Mountain\n",
       "4    US/Mountain\n",
       "Name: TimeZone, dtype: object"
      ]
     },
     "execution_count": 18,
     "metadata": {},
     "output_type": "execute_result"
    }
   ],
   "source": [
    "X['TimeZone'].head()"
   ]
  },
  {
   "cell_type": "code",
   "execution_count": 19,
   "metadata": {},
   "outputs": [
    {
     "data": {
      "text/plain": [
       "array(['US/Mountain', 'US/Central', 'US/Eastern', 'US/Pacific'],\n",
       "      dtype=object)"
      ]
     },
     "execution_count": 19,
     "metadata": {},
     "output_type": "execute_result"
    }
   ],
   "source": [
    "X['TimeZone'].unique()"
   ]
  },
  {
   "cell_type": "code",
   "execution_count": 20,
   "metadata": {},
   "outputs": [],
   "source": [
    "title = alt.TitleParams('Contagem por Fuso horário', anchor='middle', fontSize=15)\n",
    "base = alt.Chart(X, title=title).encode(\n",
    "    alt.X(\n",
    "        'TimeZone',\n",
    "        sort=alt.EncodingSortField(field=\"Letters\", op=\"count\", order='descending'), \n",
    "        axis=alt.Axis(labelAngle=0),\n",
    "        title='Fuso horário'),\n",
    "    alt.Y('count()', title='Contagem'),\n",
    "    text=alt.Text('count()', format=',.0f')\n",
    ").properties(\n",
    "    width=500,\n",
    "    height=400\n",
    ")\n",
    "p = base.mark_bar() + base.mark_text(align='center', dx=0, yOffset=-10)\n",
    "p.save('/Users/administrador/Documents/Pessoal/repositorios/information_visualization/images/4.timezone_count.png', ppi=300)"
   ]
  },
  {
   "cell_type": "markdown",
   "metadata": {},
   "source": [
    "AirportCode"
   ]
  },
  {
   "cell_type": "code",
   "execution_count": 21,
   "metadata": {},
   "outputs": [
    {
     "data": {
      "text/plain": [
       "0    K04V\n",
       "1    K04V\n",
       "2    K04V\n",
       "3    K04V\n",
       "4    K04V\n",
       "Name: AirportCode, dtype: object"
      ]
     },
     "execution_count": 21,
     "metadata": {},
     "output_type": "execute_result"
    }
   ],
   "source": [
    "X['AirportCode'].head()"
   ]
  },
  {
   "cell_type": "code",
   "execution_count": 22,
   "metadata": {},
   "outputs": [
    {
     "data": {
      "text/plain": [
       "2071"
      ]
     },
     "execution_count": 22,
     "metadata": {},
     "output_type": "execute_result"
    }
   ],
   "source": [
    "X['AirportCode'].nunique()"
   ]
  },
  {
   "cell_type": "code",
   "execution_count": 23,
   "metadata": {},
   "outputs": [
    {
     "data": {
      "text/plain": [
       "array(['K04V', 'KAXS', 'KAEL', ..., 'KB23', 'KARL', 'KBVR'], dtype=object)"
      ]
     },
     "execution_count": 23,
     "metadata": {},
     "output_type": "execute_result"
    }
   ],
   "source": [
    "X['AirportCode'].unique()"
   ]
  },
  {
   "cell_type": "code",
   "execution_count": 24,
   "metadata": {},
   "outputs": [],
   "source": [
    "title = alt.TitleParams('Contagem por código de aeroporto', anchor='middle', fontSize=15)\n",
    "base = alt.Chart(X, title=title).encode(\n",
    "    alt.X(\n",
    "        'AirportCode',\n",
    "        sort=alt.EncodingSortField(field=\"Letters\", op=\"count\", order='descending'), \n",
    "        axis=alt.Axis(labels=False, tickSize=0),\n",
    "        title='Código do Aeroporto'),\n",
    "    alt.Y('count()', title='Contagem')\n",
    ").properties(\n",
    "    width=800,\n",
    "    height=400\n",
    ")\n",
    "p = base.mark_bar() + base.mark_text(align='center', dx=0, yOffset=-10)\n",
    "p.save('/Users/administrador/Documents/Pessoal/repositorios/information_visualization/images/5.airportcode_count.png', ppi=300)"
   ]
  },
  {
   "cell_type": "markdown",
   "metadata": {},
   "source": [
    "Wheather Stations Locations (Latitude and Longitude)"
   ]
  },
  {
   "cell_type": "code",
   "execution_count": 25,
   "metadata": {},
   "outputs": [
    {
     "data": {
      "text/plain": [
       "2056"
      ]
     },
     "execution_count": 25,
     "metadata": {},
     "output_type": "execute_result"
    }
   ],
   "source": [
    "X['LocationLat'].nunique()"
   ]
  },
  {
   "cell_type": "code",
   "execution_count": 26,
   "metadata": {},
   "outputs": [
    {
     "data": {
      "text/plain": [
       "2063"
      ]
     },
     "execution_count": 26,
     "metadata": {},
     "output_type": "execute_result"
    }
   ],
   "source": [
    "X['LocationLng'].nunique()"
   ]
  },
  {
   "cell_type": "code",
   "execution_count": 27,
   "metadata": {},
   "outputs": [],
   "source": [
    "from vega_datasets import data"
   ]
  },
  {
   "cell_type": "code",
   "execution_count": 156,
   "metadata": {},
   "outputs": [],
   "source": [
    "states = alt.topo_feature(data.us_10m.url, 'states')\n",
    "#capitals = data.us_state_capitals.url"
   ]
  },
  {
   "cell_type": "code",
   "execution_count": 157,
   "metadata": {},
   "outputs": [],
   "source": [
    "# US states background\n",
    "title = alt.Title('Localização das estações meteorológicas', fontSize=15)\n",
    "background = alt.Chart(states, title=title).mark_geoshape(\n",
    "    fill='lightgray',\n",
    "    stroke='black'\n",
    ").properties(\n",
    "    width=650,\n",
    "    height=400\n",
    ").project('albersUsa')"
   ]
  },
  {
   "cell_type": "code",
   "execution_count": 30,
   "metadata": {},
   "outputs": [],
   "source": [
    "# Points and text\n",
    "hover = alt.selection_point(on='pointerover', nearest=True,\n",
    "                      fields=['lat', 'lon'])\n"
   ]
  },
  {
   "cell_type": "code",
   "execution_count": 126,
   "metadata": {},
   "outputs": [],
   "source": [
    "base = alt.Chart(X[['LocationLat', 'LocationLng']].drop_duplicates()).encode(\n",
    "    longitude='LocationLng:Q',\n",
    "    latitude='LocationLat:Q',\n",
    ")"
   ]
  },
  {
   "cell_type": "code",
   "execution_count": 32,
   "metadata": {},
   "outputs": [],
   "source": [
    "text = base.mark_text(dy=-5, align='right').encode(\n",
    "    alt.Text('city:N'),\n",
    "    opacity=alt.condition(~hover, alt.value(0), alt.value(1))\n",
    ")"
   ]
  },
  {
   "cell_type": "code",
   "execution_count": 127,
   "metadata": {},
   "outputs": [],
   "source": [
    "points = base.mark_point().encode(\n",
    "    color=alt.value('blue'),\n",
    "    size= alt.value(5),#alt.condition(~hover, alt.value(5), alt.value(5))\n",
    "    opacity=alt.value(0.3)\n",
    ")#.add_params(hover)"
   ]
  },
  {
   "cell_type": "code",
   "execution_count": 158,
   "metadata": {},
   "outputs": [
    {
     "data": {
      "text/html": [
       "\n",
       "<style>\n",
       "  #altair-viz-502c8b9e9b9d4b09a6dc5de47b1f2f9b.vega-embed {\n",
       "    width: 100%;\n",
       "    display: flex;\n",
       "  }\n",
       "\n",
       "  #altair-viz-502c8b9e9b9d4b09a6dc5de47b1f2f9b.vega-embed details,\n",
       "  #altair-viz-502c8b9e9b9d4b09a6dc5de47b1f2f9b.vega-embed details summary {\n",
       "    position: relative;\n",
       "  }\n",
       "</style>\n",
       "<div id=\"altair-viz-502c8b9e9b9d4b09a6dc5de47b1f2f9b\"></div>\n",
       "<script type=\"text/javascript\">\n",
       "  var VEGA_DEBUG = (typeof VEGA_DEBUG == \"undefined\") ? {} : VEGA_DEBUG;\n",
       "  (function(spec, embedOpt){\n",
       "    let outputDiv = document.currentScript.previousElementSibling;\n",
       "    if (outputDiv.id !== \"altair-viz-502c8b9e9b9d4b09a6dc5de47b1f2f9b\") {\n",
       "      outputDiv = document.getElementById(\"altair-viz-502c8b9e9b9d4b09a6dc5de47b1f2f9b\");\n",
       "    }\n",
       "    const paths = {\n",
       "      \"vega\": \"https://cdn.jsdelivr.net/npm/vega@5?noext\",\n",
       "      \"vega-lib\": \"https://cdn.jsdelivr.net/npm/vega-lib?noext\",\n",
       "      \"vega-lite\": \"https://cdn.jsdelivr.net/npm/vega-lite@5.20.1?noext\",\n",
       "      \"vega-embed\": \"https://cdn.jsdelivr.net/npm/vega-embed@6?noext\",\n",
       "    };\n",
       "\n",
       "    function maybeLoadScript(lib, version) {\n",
       "      var key = `${lib.replace(\"-\", \"\")}_version`;\n",
       "      return (VEGA_DEBUG[key] == version) ?\n",
       "        Promise.resolve(paths[lib]) :\n",
       "        new Promise(function(resolve, reject) {\n",
       "          var s = document.createElement('script');\n",
       "          document.getElementsByTagName(\"head\")[0].appendChild(s);\n",
       "          s.async = true;\n",
       "          s.onload = () => {\n",
       "            VEGA_DEBUG[key] = version;\n",
       "            return resolve(paths[lib]);\n",
       "          };\n",
       "          s.onerror = () => reject(`Error loading script: ${paths[lib]}`);\n",
       "          s.src = paths[lib];\n",
       "        });\n",
       "    }\n",
       "\n",
       "    function showError(err) {\n",
       "      outputDiv.innerHTML = `<div class=\"error\" style=\"color:red;\">${err}</div>`;\n",
       "      throw err;\n",
       "    }\n",
       "\n",
       "    function displayChart(vegaEmbed) {\n",
       "      vegaEmbed(outputDiv, spec, embedOpt)\n",
       "        .catch(err => showError(`Javascript Error: ${err.message}<br>This usually means there's a typo in your chart specification. See the javascript console for the full traceback.`));\n",
       "    }\n",
       "\n",
       "    if(typeof define === \"function\" && define.amd) {\n",
       "      requirejs.config({paths});\n",
       "      require([\"vega-embed\"], displayChart, err => showError(`Error loading script: ${err.message}`));\n",
       "    } else {\n",
       "      maybeLoadScript(\"vega\", \"5\")\n",
       "        .then(() => maybeLoadScript(\"vega-lite\", \"5.20.1\"))\n",
       "        .then(() => maybeLoadScript(\"vega-embed\", \"6\"))\n",
       "        .catch(showError)\n",
       "        .then(() => displayChart(vegaEmbed));\n",
       "    }\n",
       "  })({\"$schema\": \"https://vega.github.io/schema/vega/v5.json\", \"data\": [{\"name\": \"_server_source_1\", \"values\": [{\"LocationLat\": 38.0972, \"LocationLng\": -106.1689}, {\"LocationLat\": 34.6986, \"LocationLng\": -99.3381}, {\"LocationLat\": 43.6822, \"LocationLng\": -93.3722}, {\"LocationLat\": 30.5378, \"LocationLng\": -91.1468}, {\"LocationLat\": 43.9581, \"LocationLng\": -90.7397}, {\"LocationLat\": 43.745, \"LocationLng\": -111.0912}, {\"LocationLat\": 42.8808, \"LocationLng\": -85.5228}, {\"LocationLat\": 38.0655, \"LocationLng\": -97.8606}, {\"LocationLat\": 41.8241, \"LocationLng\": -110.557}, {\"LocationLat\": 42.4269, \"LocationLng\": -73.289}, {\"LocationLat\": 39.1209, \"LocationLng\": -94.5972}, {\"LocationLat\": 36.0425, \"LocationLng\": -95.99}, {\"LocationLat\": 32.2885, \"LocationLng\": -106.9132}, {\"LocationLat\": 35.0222, \"LocationLng\": -76.4625}, {\"LocationLat\": 34.9157, \"LocationLng\": -81.9565}, {\"LocationLat\": 35.5825, \"LocationLng\": -79.1014}, {\"LocationLat\": 41.3509, \"LocationLng\": -71.8054}, {\"LocationLat\": 42.2706, \"LocationLng\": -71.8731}, {\"LocationLat\": 42.5764, \"LocationLng\": -84.8124}, {\"LocationLat\": 37.2416, \"LocationLng\": -76.7167}, {\"LocationLat\": 42.955, \"LocationLng\": -87.9044}, {\"LocationLat\": 41.2638, \"LocationLng\": -72.8868}, {\"LocationLat\": 45.7691, \"LocationLng\": -122.8637}, {\"LocationLat\": 46.7973, \"LocationLng\": -102.8019}, {\"LocationLat\": 44.5483, \"LocationLng\": -95.0804}, {\"LocationLat\": 45.5511, \"LocationLng\": -122.4089}, {\"LocationLat\": 46.0244, \"LocationLng\": -92.8991}, {\"LocationLat\": 36.9394, \"LocationLng\": -121.79}, {\"LocationLat\": 36.4259, \"LocationLng\": -105.2903}, {\"LocationLat\": 42.1534, \"LocationLng\": -79.258}, {\"LocationLat\": 45.868, \"LocationLng\": -95.394}, {\"LocationLat\": 37.4393, \"LocationLng\": -105.8618}, {\"LocationLat\": 40.9181, \"LocationLng\": -81.4434}, {\"LocationLat\": 44.3048, \"LocationLng\": -96.8169}, {\"LocationLat\": 35.3022, \"LocationLng\": -112.1942}, {\"LocationLat\": 39.1906, \"LocationLng\": -119.7319}, {\"LocationLat\": 41.534, \"LocationLng\": -93.6531}, {\"LocationLat\": 31.8111, \"LocationLng\": -106.3758}, {\"LocationLat\": 41.1533, \"LocationLng\": -104.1302}, {\"LocationLat\": 33.3544, \"LocationLng\": -84.5689}, {\"LocationLat\": 38.5876, \"LocationLng\": -90.9938}, {\"LocationLat\": 34.2487, \"LocationLng\": -82.1591}, {\"LocationLat\": 45.0625, \"LocationLng\": -93.3508}, {\"LocationLat\": 31.1387, \"LocationLng\": -97.7145}, {\"LocationLat\": 42.7274, \"LocationLng\": -114.4547}, {\"LocationLat\": 45.2907, \"LocationLng\": -118.0088}, {\"LocationLat\": 41.1881, \"LocationLng\": -103.6774}, {\"LocationLat\": 38.9597, \"LocationLng\": -94.3714}, {\"LocationLat\": 36.023, \"LocationLng\": -84.2336}, {\"LocationLat\": 44.9324, \"LocationLng\": -93.0559}, {\"LocationLat\": 38.0505, \"LocationLng\": -117.0904}, {\"LocationLat\": 38.9467, \"LocationLng\": -92.6827}, {\"LocationLat\": 31.0425, \"LocationLng\": -86.3117}, {\"LocationLat\": 39.0136, \"LocationLng\": -87.6485}, {\"LocationLat\": 33.2338, \"LocationLng\": -119.4559}, {\"LocationLat\": 34.5995, \"LocationLng\": -91.575}, {\"LocationLat\": 44.9358, \"LocationLng\": -74.8455}, {\"LocationLat\": 42.1208, \"LocationLng\": -87.9047}, {\"LocationLat\": 40.6675, \"LocationLng\": -89.6839}, {\"LocationLat\": 46.1731, \"LocationLng\": -98.0799}, {\"LocationLat\": 47.0792, \"LocationLng\": -122.5808}, {\"LocationLat\": 39.2281, \"LocationLng\": -106.3161}, {\"LocationLat\": 40.7242, \"LocationLng\": -95.0222}, {\"LocationLat\": 40.2345, \"LocationLng\": -85.3936}, {\"LocationLat\": 41.5971, \"LocationLng\": -71.4121}, {\"LocationLat\": 37.0906, \"LocationLng\": -113.5931}, {\"LocationLat\": 36.7661, \"LocationLng\": -80.8236}, {\"LocationLat\": 26.5381, \"LocationLng\": -81.7567}, {\"LocationLat\": 42.5709, \"LocationLng\": -77.7131}, {\"LocationLat\": 37.2958, \"LocationLng\": -81.2077}, {\"LocationLat\": 31.554, \"LocationLng\": -81.8825}, {\"LocationLat\": 31.4671, \"LocationLng\": -89.3371}, {\"LocationLat\": 36.8211, \"LocationLng\": -76.0283}, {\"LocationLat\": 46.0946, \"LocationLng\": -118.2858}, {\"LocationLat\": 47.166, \"LocationLng\": -88.4807}, {\"LocationLat\": 41.7016, \"LocationLng\": -74.795}, {\"LocationLat\": 34.2291, \"LocationLng\": -86.2558}, {\"LocationLat\": 40.2184, \"LocationLng\": -76.8552}, {\"LocationLat\": 48.8844, \"LocationLng\": -99.6208}, {\"LocationLat\": 38.5037, \"LocationLng\": -122.811}, {\"LocationLat\": 39.2953, \"LocationLng\": -114.8466}, {\"LocationLat\": 41.0521, \"LocationLng\": -91.9834}, {\"LocationLat\": 36.4483, \"LocationLng\": -103.1537}, {\"LocationLat\": 43.6424, \"LocationLng\": -70.3044}, {\"LocationLat\": 31.1525, \"LocationLng\": -97.4078}, {\"LocationLat\": 37.5211, \"LocationLng\": -76.7647}, {\"LocationLat\": 41.7865, \"LocationLng\": -111.8519}, {\"LocationLat\": 40.2044, \"LocationLng\": -84.5319}, {\"LocationLat\": 43.3906, \"LocationLng\": -99.8422}, {\"LocationLat\": 31.2504, \"LocationLng\": -82.3957}, {\"LocationLat\": 45.6044, \"LocationLng\": -103.5464}, {\"LocationLat\": 36.7418, \"LocationLng\": -104.5076}, {\"LocationLat\": 40.9611, \"LocationLng\": -98.3136}, {\"LocationLat\": 40.6392, \"LocationLng\": -73.7639}, {\"LocationLat\": 27.9126, \"LocationLng\": -82.6855}, {\"LocationLat\": 38.146, \"LocationLng\": -76.4285}, {\"LocationLat\": 32.9147, \"LocationLng\": -85.9628}, {\"LocationLat\": 48.3008, \"LocationLng\": -102.4064}, {\"LocationLat\": 46.8715, \"LocationLng\": -68.0179}, {\"LocationLat\": 41.1579, \"LocationLng\": -104.8081}, {\"LocationLat\": 31.6412, \"LocationLng\": -96.5144}, {\"LocationLat\": 27.1816, \"LocationLng\": -80.2252}, {\"LocationLat\": 45.6689, \"LocationLng\": -96.9914}, {\"LocationLat\": 46.2865, \"LocationLng\": -96.1534}, {\"LocationLat\": 30.8721, \"LocationLng\": -96.6222}, {\"LocationLat\": 42.9895, \"LocationLng\": -96.0606}, {\"LocationLat\": 36.0103, \"LocationLng\": -94.1678}, {\"LocationLat\": 42.1078, \"LocationLng\": -77.9842}, {\"LocationLat\": 39.3662, \"LocationLng\": -75.0778}, {\"LocationLat\": 33.6192, \"LocationLng\": -114.7169}, {\"LocationLat\": 44.7297, \"LocationLng\": -96.2623}, {\"LocationLat\": 38.2638, \"LocationLng\": -78.8964}, {\"LocationLat\": 46.8285, \"LocationLng\": -95.8857}, {\"LocationLat\": 32.8519, \"LocationLng\": -106.1085}, {\"LocationLat\": 36.212, \"LocationLng\": -115.194}, {\"LocationLat\": 29.9928, \"LocationLng\": -90.2508}, {\"LocationLat\": 47.4903, \"LocationLng\": -122.7648}, {\"LocationLat\": 36.9599, \"LocationLng\": -113.0139}, {\"LocationLat\": 41.7635, \"LocationLng\": -96.1779}, {\"LocationLat\": 39.6682, \"LocationLng\": -119.8764}, {\"LocationLat\": 30.0481, \"LocationLng\": -102.2131}, {\"LocationLat\": 37.6472, \"LocationLng\": -97.4294}, {\"LocationLat\": 42.9203, \"LocationLng\": -112.5711}, {\"LocationLat\": 33.902, \"LocationLng\": -87.314}, {\"LocationLat\": 37.4059, \"LocationLng\": -122.049}, {\"LocationLat\": 37.3262, \"LocationLng\": -79.2028}, {\"LocationLat\": 42.743, \"LocationLng\": -93.7592}, {\"LocationLat\": 32.6261, \"LocationLng\": -116.4683}, {\"LocationLat\": 31.0673, \"LocationLng\": -97.8289}, {\"LocationLat\": 35.2202, \"LocationLng\": -101.7173}, {\"LocationLat\": 40.0853, \"LocationLng\": -78.5122}, {\"LocationLat\": 41.9875, \"LocationLng\": -87.9319}, {\"LocationLat\": 42.1106, \"LocationLng\": -92.9161}, {\"LocationLat\": 36.3712, \"LocationLng\": -82.1734}, {\"LocationLat\": 39.8261, \"LocationLng\": -84.0483}, {\"LocationLat\": 48.48, \"LocationLng\": -99.236}, {\"LocationLat\": 31.6839, \"LocationLng\": -83.2709}, {\"LocationLat\": 38.3289, \"LocationLng\": -96.1939}, {\"LocationLat\": 44.8394, \"LocationLng\": -87.4219}, {\"LocationLat\": 48.7991, \"LocationLng\": -122.5406}, {\"LocationLat\": 41.0185, \"LocationLng\": -93.3608}, {\"LocationLat\": 42.6046, \"LocationLng\": -82.8353}, {\"LocationLat\": 43.208, \"LocationLng\": -95.8352}, {\"LocationLat\": 38.9092, \"LocationLng\": -121.3513}, {\"LocationLat\": 32.5425, \"LocationLng\": -93.7447}, {\"LocationLat\": 38.1319, \"LocationLng\": -91.7653}, {\"LocationLat\": 35.9301, \"LocationLng\": -95.0025}, {\"LocationLat\": 41.9085, \"LocationLng\": -70.7279}, {\"LocationLat\": 43.5208, \"LocationLng\": -112.0661}, {\"LocationLat\": 31.3087, \"LocationLng\": -86.3938}, {\"LocationLat\": 35.2574, \"LocationLng\": -93.0949}, {\"LocationLat\": 31.885, \"LocationLng\": -82.647}, {\"LocationLat\": 26.1597, \"LocationLng\": -97.3378}, {\"LocationLat\": 37.062, \"LocationLng\": -81.7977}, {\"LocationLat\": 43.6217, \"LocationLng\": -96.2139}, {\"LocationLat\": 48.3552, \"LocationLng\": -122.6635}, {\"LocationLat\": 43.6496, \"LocationLng\": -94.9884}, {\"LocationLat\": 45.7057, \"LocationLng\": -94.9308}, {\"LocationLat\": 38.2506, \"LocationLng\": -86.9472}, {\"LocationLat\": 39.7945, \"LocationLng\": -105.7639}, {\"LocationLat\": 34.3122, \"LocationLng\": -84.4222}, {\"LocationLat\": 38.1847, \"LocationLng\": -84.9033}, {\"LocationLat\": 34.086, \"LocationLng\": -118.0348}, {\"LocationLat\": 24.7263, \"LocationLng\": -81.0477}, {\"LocationLat\": 40.1822, \"LocationLng\": -74.1207}, {\"LocationLat\": 31.5401, \"LocationLng\": -82.5074}, {\"LocationLat\": 42.57, \"LocationLng\": -72.2869}, {\"LocationLat\": 39.7556, \"LocationLng\": -82.6571}, {\"LocationLat\": 43.3504, \"LocationLng\": -76.3832}, {\"LocationLat\": 39.6182, \"LocationLng\": -78.7598}, {\"LocationLat\": 34.9908, \"LocationLng\": -117.8631}, {\"LocationLat\": 33.205, \"LocationLng\": -97.2006}, {\"LocationLat\": 36.3135, \"LocationLng\": -119.3884}, {\"LocationLat\": 35.3446, \"LocationLng\": -77.9458}, {\"LocationLat\": 43.5038, \"LocationLng\": -114.2956}, {\"LocationLat\": 48.3904, \"LocationLng\": -100.0243}, {\"LocationLat\": 46.218, \"LocationLng\": -100.245}, {\"LocationLat\": 47.2381, \"LocationLng\": -123.1408}, {\"LocationLat\": 36.4129, \"LocationLng\": -100.7516}, {\"LocationLat\": 36.4797, \"LocationLng\": -82.3989}, {\"LocationLat\": 42.2283, \"LocationLng\": -85.546}, {\"LocationLat\": 34.8364, \"LocationLng\": -92.2619}, {\"LocationLat\": 36.6869, \"LocationLng\": -77.4828}, {\"LocationLat\": 35.9766, \"LocationLng\": -115.1322}, {\"LocationLat\": 39.5513, \"LocationLng\": -97.6508}, {\"LocationLat\": 43.4393, \"LocationLng\": -85.9949}, {\"LocationLat\": 34.9837, \"LocationLng\": -105.9958}, {\"LocationLat\": 39.9275, \"LocationLng\": -74.2924}, {\"LocationLat\": 39.275, \"LocationLng\": -120.7097}, {\"LocationLat\": 33.9726, \"LocationLng\": -86.0891}, {\"LocationLat\": 42.2314, \"LocationLng\": -83.3308}, {\"LocationLat\": 40.6322, \"LocationLng\": -79.1055}, {\"LocationLat\": 41.2612, \"LocationLng\": -95.7604}, {\"LocationLat\": 31.8872, \"LocationLng\": -81.5624}, {\"LocationLat\": 36.9036, \"LocationLng\": -76.1919}, {\"LocationLat\": 41.5263, \"LocationLng\": -85.7862}, {\"LocationLat\": 38.5054, \"LocationLng\": -107.8981}, {\"LocationLat\": 44.3827, \"LocationLng\": -100.286}, {\"LocationLat\": 43.3221, \"LocationLng\": -84.6879}, {\"LocationLat\": 44.0206, \"LocationLng\": -92.4829}, {\"LocationLat\": 48.929, \"LocationLng\": -103.297}, {\"LocationLat\": 38.7578, \"LocationLng\": -104.3013}, {\"LocationLat\": 38.6572, \"LocationLng\": -90.6558}, {\"LocationLat\": 36.6871, \"LocationLng\": -82.0333}, {\"LocationLat\": 35.6442, \"LocationLng\": -80.5236}, {\"LocationLat\": 39.32, \"LocationLng\": -120.1396}, {\"LocationLat\": 45.4071, \"LocationLng\": -83.8129}, {\"LocationLat\": 33.9829, \"LocationLng\": -83.9584}, {\"LocationLat\": 44.7603, \"LocationLng\": -106.9741}, {\"LocationLat\": 36.3392, \"LocationLng\": -97.9165}, {\"LocationLat\": 41.5844, \"LocationLng\": -95.3397}, {\"LocationLat\": 34.294, \"LocationLng\": -116.1472}, {\"LocationLat\": 38.5452, \"LocationLng\": -89.8352}, {\"LocationLat\": 39.1361, \"LocationLng\": -121.4366}, {\"LocationLat\": 33.4608, \"LocationLng\": -111.7283}, {\"LocationLat\": 33.9422, \"LocationLng\": -96.3944}, {\"LocationLat\": 32.3336, \"LocationLng\": -104.2584}, {\"LocationLat\": 30.2896, \"LocationLng\": -87.6718}, {\"LocationLat\": 45.5628, \"LocationLng\": -93.2644}, {\"LocationLat\": 48.7531, \"LocationLng\": -98.3937}, {\"LocationLat\": 40.4814, \"LocationLng\": -80.2083}, {\"LocationLat\": 36.2967, \"LocationLng\": -99.7689}, {\"LocationLat\": 38.0495, \"LocationLng\": -103.5133}, {\"LocationLat\": 30.0692, \"LocationLng\": -93.8036}, {\"LocationLat\": 41.9905, \"LocationLng\": -93.6185}, {\"LocationLat\": 36.0969, \"LocationLng\": -79.9432}, {\"LocationLat\": 33.9292, \"LocationLng\": -78.0722}, {\"LocationLat\": 39.3215, \"LocationLng\": -76.4065}, {\"LocationLat\": 33.6011, \"LocationLng\": -97.7735}, {\"LocationLat\": 42.0572, \"LocationLng\": -102.8}, {\"LocationLat\": 31.1059, \"LocationLng\": -98.1975}, {\"LocationLat\": 43.7659, \"LocationLng\": -99.3216}, {\"LocationLat\": 37.1584, \"LocationLng\": -95.7784}, {\"LocationLat\": 32.2393, \"LocationLng\": -90.9284}, {\"LocationLat\": 32.7092, \"LocationLng\": -96.2674}, {\"LocationLat\": 32.4469, \"LocationLng\": -93.8242}, {\"LocationLat\": 42.7586, \"LocationLng\": -87.8178}, {\"LocationLat\": 38.5095, \"LocationLng\": -89.09}, {\"LocationLat\": 43.5349, \"LocationLng\": -72.9514}, {\"LocationLat\": 30.6118, \"LocationLng\": -81.4612}, {\"LocationLat\": 41.5524, \"LocationLng\": -112.0622}, {\"LocationLat\": 40.779, \"LocationLng\": -73.9692}, {\"LocationLat\": 33.9753, \"LocationLng\": -117.6361}, {\"LocationLat\": 36.0229, \"LocationLng\": -78.3341}, {\"LocationLat\": 39.1696, \"LocationLng\": -77.1655}, {\"LocationLat\": 46.8128, \"LocationLng\": -101.8602}, {\"LocationLat\": 30.7763, \"LocationLng\": -83.2739}, {\"LocationLat\": 34.8839, \"LocationLng\": -82.2208}, {\"LocationLat\": 38.2667, \"LocationLng\": -121.95}, {\"LocationLat\": 33.5904, \"LocationLng\": -85.8479}, {\"LocationLat\": 31.7358, \"LocationLng\": -93.0992}, {\"LocationLat\": 43.1711, \"LocationLng\": -86.2367}, {\"LocationLat\": 27.7409, \"LocationLng\": -98.0269}, {\"LocationLat\": 46.9412, \"LocationLng\": -98.018}, {\"LocationLat\": 39.4743, \"LocationLng\": -88.2723}, {\"LocationLat\": 37.5913, \"LocationLng\": -83.3137}, {\"LocationLat\": 39.3451, \"LocationLng\": -81.4392}, {\"LocationLat\": 40.1589, \"LocationLng\": -89.3389}, {\"LocationLat\": 36.7696, \"LocationLng\": -88.5847}, {\"LocationLat\": 36.6541, \"LocationLng\": -83.2178}, {\"LocationLat\": 36.3635, \"LocationLng\": -78.5289}, {\"LocationLat\": 39.43, \"LocationLng\": -101.0511}, {\"LocationLat\": 43.5484, \"LocationLng\": -109.6903}, {\"LocationLat\": 28.5465, \"LocationLng\": -81.3354}, {\"LocationLat\": 33.953, \"LocationLng\": -117.4349}, {\"LocationLat\": 40.7187, \"LocationLng\": -114.0309}, {\"LocationLat\": 37.6705, \"LocationLng\": -95.4846}, {\"LocationLat\": 39.1432, \"LocationLng\": -86.6168}, {\"LocationLat\": 48.52, \"LocationLng\": -123.0264}, {\"LocationLat\": 43.0665, \"LocationLng\": -83.2716}, {\"LocationLat\": 29.4447, \"LocationLng\": -90.2611}, {\"LocationLat\": 38.5033, \"LocationLng\": -77.3013}, {\"LocationLat\": 33.6267, \"LocationLng\": -116.1594}, {\"LocationLat\": 36.4372, \"LocationLng\": -79.851}, {\"LocationLat\": 39.2733, \"LocationLng\": -103.6674}, {\"LocationLat\": 26.9688, \"LocationLng\": -99.2489}, {\"LocationLat\": 32.5019, \"LocationLng\": -93.6626}, {\"LocationLat\": 36.8949, \"LocationLng\": -81.3499}, {\"LocationLat\": 42.5429, \"LocationLng\": -83.1779}, {\"LocationLat\": 30.2189, \"LocationLng\": -96.3742}, {\"LocationLat\": 32.6875, \"LocationLng\": -103.217}, {\"LocationLat\": 42.4708, \"LocationLng\": -93.27}, {\"LocationLat\": 29.7268, \"LocationLng\": -85.0248}, {\"LocationLat\": 44.0556, \"LocationLng\": -75.7195}, {\"LocationLat\": 41.073, \"LocationLng\": -71.9235}, {\"LocationLat\": 46.9006, \"LocationLng\": -95.0678}, {\"LocationLat\": 33.6438, \"LocationLng\": -88.4438}, {\"LocationLat\": 33.0956, \"LocationLng\": -94.9614}, {\"LocationLat\": 46.6833, \"LocationLng\": -92.0925}, {\"LocationLat\": 34.4778, \"LocationLng\": -97.9616}, {\"LocationLat\": 37.1824, \"LocationLng\": -88.7489}, {\"LocationLat\": 37.1522, \"LocationLng\": -94.4952}, {\"LocationLat\": 34.4978, \"LocationLng\": -82.7097}, {\"LocationLat\": 31.5883, \"LocationLng\": -110.3442}, {\"LocationLat\": 35.8502, \"LocationLng\": -77.8952}, {\"LocationLat\": 42.595, \"LocationLng\": -87.9381}, {\"LocationLat\": 32.6566, \"LocationLng\": -114.606}, {\"LocationLat\": 38.715, \"LocationLng\": -77.181}, {\"LocationLat\": 44.0459, \"LocationLng\": -103.0544}, {\"LocationLat\": 35.135, \"LocationLng\": -118.4392}, {\"LocationLat\": 34.7273, \"LocationLng\": -92.2357}, {\"LocationLat\": 31.4, \"LocationLng\": -93.2833}, {\"LocationLat\": 31.6531, \"LocationLng\": -97.0707}, {\"LocationLat\": 42.1601, \"LocationLng\": -72.7124}, {\"LocationLat\": 41.7737, \"LocationLng\": -122.4682}, {\"LocationLat\": 38.3443, \"LocationLng\": -98.8592}, {\"LocationLat\": 40.4774, \"LocationLng\": -88.9143}, {\"LocationLat\": 35.5946, \"LocationLng\": -92.4455}, {\"LocationLat\": 27.0716, \"LocationLng\": -82.4403}, {\"LocationLat\": 31.4584, \"LocationLng\": -109.6068}, {\"LocationLat\": 45.5644, \"LocationLng\": -84.7929}, {\"LocationLat\": 41.0093, \"LocationLng\": -74.7363}, {\"LocationLat\": 35.5931, \"LocationLng\": -88.9167}, {\"LocationLat\": 37.7497, \"LocationLng\": -97.2191}, {\"LocationLat\": 36.6272, \"LocationLng\": -80.0133}, {\"LocationLat\": 44.4515, \"LocationLng\": -83.3942}, {\"LocationLat\": 45.8886, \"LocationLng\": -93.269}, {\"LocationLat\": 45.1426, \"LocationLng\": -93.2127}, {\"LocationLat\": 41.0467, \"LocationLng\": -78.4117}, {\"LocationLat\": 32.6922, \"LocationLng\": -117.2098}, {\"LocationLat\": 47.4733, \"LocationLng\": -111.3822}, {\"LocationLat\": 32.6809, \"LocationLng\": -96.8682}, {\"LocationLat\": 35.1575, \"LocationLng\": -114.5594}, {\"LocationLat\": 38.7501, \"LocationLng\": -109.7626}, {\"LocationLat\": 41.8065, \"LocationLng\": -107.1952}, {\"LocationLat\": 33.8738, \"LocationLng\": -88.4897}, {\"LocationLat\": 29.1735, \"LocationLng\": -81.0719}, {\"LocationLat\": 42.3914, \"LocationLng\": -96.3792}, {\"LocationLat\": 34.3061, \"LocationLng\": -81.6414}, {\"LocationLat\": 39.2619, \"LocationLng\": -85.8963}, {\"LocationLat\": 47.1039, \"LocationLng\": -122.2872}, {\"LocationLat\": 45.9017, \"LocationLng\": -94.8727}, {\"LocationLat\": 45.0949, \"LocationLng\": -94.5084}, {\"LocationLat\": 34.2156, \"LocationLng\": -118.4917}, {\"LocationLat\": 31.924, \"LocationLng\": -98.5977}, {\"LocationLat\": 40.9329, \"LocationLng\": -90.4334}, {\"LocationLat\": 33.3116, \"LocationLng\": -84.7698}, {\"LocationLat\": 41.7358, \"LocationLng\": -83.6553}, {\"LocationLat\": 36.6686, \"LocationLng\": -87.4962}, {\"LocationLat\": 33.4503, \"LocationLng\": -88.5914}, {\"LocationLat\": 46.9258, \"LocationLng\": -98.6691}, {\"LocationLat\": 46.4794, \"LocationLng\": -84.3572}, {\"LocationLat\": 44.1288, \"LocationLng\": -87.6806}, {\"LocationLat\": 41.4836, \"LocationLng\": -120.5615}, {\"LocationLat\": 44.5754, \"LocationLng\": -71.1759}, {\"LocationLat\": 38.0304, \"LocationLng\": -120.4146}, {\"LocationLat\": 42.5519, \"LocationLng\": -71.7558}, {\"LocationLat\": 43.967, \"LocationLng\": -88.5581}, {\"LocationLat\": 43.2337, \"LocationLng\": -123.3577}, {\"LocationLat\": 35.2578, \"LocationLng\": -113.9331}, {\"LocationLat\": 34.8536, \"LocationLng\": -116.7858}, {\"LocationLat\": 37.3594, \"LocationLng\": -121.9244}, {\"LocationLat\": 36.9851, \"LocationLng\": -120.1106}, {\"LocationLat\": 32.631, \"LocationLng\": -108.1466}, {\"LocationLat\": 30.5155, \"LocationLng\": -96.7041}, {\"LocationLat\": 41.94, \"LocationLng\": -83.4347}, {\"LocationLat\": 44.5202, \"LocationLng\": -109.0238}, {\"LocationLat\": 34.6294, \"LocationLng\": -118.0831}, {\"LocationLat\": 40.4615, \"LocationLng\": -91.4274}, {\"LocationLat\": 43.9392, \"LocationLng\": -90.2532}, {\"LocationLat\": 35.6577, \"LocationLng\": -95.3658}, {\"LocationLat\": 44.3394, \"LocationLng\": -105.5419}, {\"LocationLat\": 31.1793, \"LocationLng\": -99.3239}, {\"LocationLat\": 37.9917, \"LocationLng\": -122.0519}, {\"LocationLat\": 30.6808, \"LocationLng\": -97.6767}, {\"LocationLat\": 38.5388, \"LocationLng\": -106.0494}, {\"LocationLat\": 43.677, \"LocationLng\": -92.1742}, {\"LocationLat\": 30.7406, \"LocationLng\": -98.2353}, {\"LocationLat\": 40.746, \"LocationLng\": -122.9223}, {\"LocationLat\": 34.7229, \"LocationLng\": -80.8546}, {\"LocationLat\": 40.4381, \"LocationLng\": -76.5643}, {\"LocationLat\": 35.5408, \"LocationLng\": -78.3903}, {\"LocationLat\": 38.3557, \"LocationLng\": -119.5188}, {\"LocationLat\": 40.1519, \"LocationLng\": -122.2548}, {\"LocationLat\": 40.6499, \"LocationLng\": -75.4477}, {\"LocationLat\": 41.5412, \"LocationLng\": -87.5282}, {\"LocationLat\": 40.0781, \"LocationLng\": -83.0781}, {\"LocationLat\": 34.478, \"LocationLng\": -93.0962}, {\"LocationLat\": 26.2464, \"LocationLng\": -80.111}, {\"LocationLat\": 41.1795, \"LocationLng\": -78.8933}, {\"LocationLat\": 32.8542, \"LocationLng\": -96.8551}, {\"LocationLat\": 47.3076, \"LocationLng\": -119.5159}, {\"LocationLat\": 34.1159, \"LocationLng\": -84.8506}, {\"LocationLat\": 40.2768, \"LocationLng\": -74.8159}, {\"LocationLat\": 43.8321, \"LocationLng\": -111.8075}, {\"LocationLat\": 31.9478, \"LocationLng\": -102.2086}, {\"LocationLat\": 47.7743, \"LocationLng\": -116.8196}, {\"LocationLat\": 33.1855, \"LocationLng\": -80.0362}, {\"LocationLat\": 39.4752, \"LocationLng\": -106.1523}, {\"LocationLat\": 38.2578, \"LocationLng\": -122.6053}, {\"LocationLat\": 41.5175, \"LocationLng\": -88.179}, {\"LocationLat\": 47.2521, \"LocationLng\": -91.4098}, {\"LocationLat\": 34.5184, \"LocationLng\": -109.3801}, {\"LocationLat\": 43.6551, \"LocationLng\": -95.5792}, {\"LocationLat\": 43.0436, \"LocationLng\": -115.8724}, {\"LocationLat\": 41.6404, \"LocationLng\": -85.0851}, {\"LocationLat\": 43.7774, \"LocationLng\": -82.9827}, {\"LocationLat\": 29.6375, \"LocationLng\": -95.2824}, {\"LocationLat\": 28.615, \"LocationLng\": -80.6945}, {\"LocationLat\": 36.5729, \"LocationLng\": -79.3361}, {\"LocationLat\": 40.95, \"LocationLng\": -95.9178}, {\"LocationLat\": 44.4029, \"LocationLng\": -118.9672}, {\"LocationLat\": 30.837, \"LocationLng\": -85.1835}, {\"LocationLat\": 38.5339, \"LocationLng\": -106.933}, {\"LocationLat\": 35.7636, \"LocationLng\": -80.9473}, {\"LocationLat\": 30.071, \"LocationLng\": -94.216}, {\"LocationLat\": 28.2422, \"LocationLng\": -80.608}, {\"LocationLat\": 41.3779, \"LocationLng\": -79.8604}, {\"LocationLat\": 35.2228, \"LocationLng\": -83.415}, {\"LocationLat\": 38.0097, \"LocationLng\": -77.97}, {\"LocationLat\": 40.9845, \"LocationLng\": -122.6934}, {\"LocationLat\": 30.4833, \"LocationLng\": -86.5254}, {\"LocationLat\": 31.3514, \"LocationLng\": -100.4939}, {\"LocationLat\": 32.4113, \"LocationLng\": -99.6819}, {\"LocationLat\": 32.921, \"LocationLng\": -80.6406}, {\"LocationLat\": 35.3896, \"LocationLng\": -80.7074}, {\"LocationLat\": 35.858, \"LocationLng\": -102.013}, {\"LocationLat\": 43.4195, \"LocationLng\": -124.2437}, {\"LocationLat\": 43.073, \"LocationLng\": -92.6132}, {\"LocationLat\": 41.367, \"LocationLng\": -91.1406}, {\"LocationLat\": 44.2228, \"LocationLng\": -93.9193}, {\"LocationLat\": 31.0217, \"LocationLng\": -92.9107}, {\"LocationLat\": 43.5813, \"LocationLng\": -116.5231}, {\"LocationLat\": 29.7086, \"LocationLng\": -98.0453}, {\"LocationLat\": 35.5086, \"LocationLng\": -108.7932}, {\"LocationLat\": 43.2794, \"LocationLng\": -70.9243}, {\"LocationLat\": 35.0147, \"LocationLng\": -80.6242}, {\"LocationLat\": 42.4536, \"LocationLng\": -91.9476}, {\"LocationLat\": 37.9275, \"LocationLng\": -100.7244}, {\"LocationLat\": 43.2049, \"LocationLng\": -71.5026}, {\"LocationLat\": 32.01, \"LocationLng\": -81.1457}, {\"LocationLat\": 42.5748, \"LocationLng\": -99.9983}, {\"LocationLat\": 32.1422, \"LocationLng\": -111.1746}, {\"LocationLat\": 36.7003, \"LocationLng\": -76.9021}, {\"LocationLat\": 36.1189, \"LocationLng\": -86.6892}, {\"LocationLat\": 42.7956, \"LocationLng\": -109.8069}, {\"LocationLat\": 36.1984, \"LocationLng\": -95.8881}, {\"LocationLat\": 35.0417, \"LocationLng\": -106.6147}, {\"LocationLat\": 36.6106, \"LocationLng\": -83.7374}, {\"LocationLat\": 35.4881, \"LocationLng\": -97.8236}, {\"LocationLat\": 41.1008, \"LocationLng\": -92.4445}, {\"LocationLat\": 42.1566, \"LocationLng\": -120.3972}, {\"LocationLat\": 25.995, \"LocationLng\": -81.6725}, {\"LocationLat\": 34.8251, \"LocationLng\": -77.6189}, {\"LocationLat\": 45.6928, \"LocationLng\": -85.5662}, {\"LocationLat\": 45.331, \"LocationLng\": -95.6469}, {\"LocationLat\": 44.5691, \"LocationLng\": -72.018}, {\"LocationLat\": 42.08, \"LocationLng\": -80.1825}, {\"LocationLat\": 27.2067, \"LocationLng\": -98.1211}, {\"LocationLat\": 40.7081, \"LocationLng\": -84.0214}, {\"LocationLat\": 39.9061, \"LocationLng\": -84.2186}, {\"LocationLat\": 44.6252, \"LocationLng\": -86.2008}, {\"LocationLat\": 41.4535, \"LocationLng\": -86.9981}, {\"LocationLat\": 37.578, \"LocationLng\": -84.77}, {\"LocationLat\": 33.2578, \"LocationLng\": -81.3883}, {\"LocationLat\": 36.7311, \"LocationLng\": -97.0997}, {\"LocationLat\": 41.0624, \"LocationLng\": -73.7046}, {\"LocationLat\": 34.2622, \"LocationLng\": -88.7713}, {\"LocationLat\": 40.7012, \"LocationLng\": -74.009}, {\"LocationLat\": 44.523, \"LocationLng\": -114.2161}, {\"LocationLat\": 43.1702, \"LocationLng\": -88.725}, {\"LocationLat\": 28.0997, \"LocationLng\": -80.6356}, {\"LocationLat\": 35.2435, \"LocationLng\": -97.4708}, {\"LocationLat\": 40.6481, \"LocationLng\": -86.1521}, {\"LocationLat\": 37.7178, \"LocationLng\": -122.2329}, {\"LocationLat\": 46.6987, \"LocationLng\": -92.5034}, {\"LocationLat\": 32.5633, \"LocationLng\": -82.9854}, {\"LocationLat\": 40.2964, \"LocationLng\": -78.32}, {\"LocationLat\": 38.7842, \"LocationLng\": -93.8029}, {\"LocationLat\": 44.9675, \"LocationLng\": -95.7116}, {\"LocationLat\": 37.7067, \"LocationLng\": -113.097}, {\"LocationLat\": 34.1469, \"LocationLng\": -97.1225}, {\"LocationLat\": 47.6151, \"LocationLng\": -117.6558}, {\"LocationLat\": 29.9767, \"LocationLng\": -99.0855}, {\"LocationLat\": 30.2129, \"LocationLng\": -81.8707}, {\"LocationLat\": 34.181, \"LocationLng\": -79.335}, {\"LocationLat\": 36.2927, \"LocationLng\": -95.4796}, {\"LocationLat\": 41.5045, \"LocationLng\": -74.0999}, {\"LocationLat\": 40.0789, \"LocationLng\": -75.0134}, {\"LocationLat\": 41.7425, \"LocationLng\": -72.1825}, {\"LocationLat\": 43.5949, \"LocationLng\": -118.9579}, {\"LocationLat\": 31.8693, \"LocationLng\": -95.2174}, {\"LocationLat\": 36.5321, \"LocationLng\": -93.2005}, {\"LocationLat\": 46.9727, \"LocationLng\": -123.9302}, {\"LocationLat\": 32.1315, \"LocationLng\": -110.9564}, {\"LocationLat\": 43.7696, \"LocationLng\": -88.4907}, {\"LocationLat\": 35.889, \"LocationLng\": -101.03}, {\"LocationLat\": 39.4944, \"LocationLng\": -121.6222}, {\"LocationLat\": 41.0655, \"LocationLng\": -86.1817}, {\"LocationLat\": 30.4967, \"LocationLng\": -97.9659}, {\"LocationLat\": 42.3984, \"LocationLng\": -90.7091}, {\"LocationLat\": 48.1142, \"LocationLng\": -98.9088}, {\"LocationLat\": 34.8822, \"LocationLng\": -95.7831}, {\"LocationLat\": 39.0712, \"LocationLng\": -88.5292}, {\"LocationLat\": 38.8095, \"LocationLng\": -104.6887}, {\"LocationLat\": 46.3111, \"LocationLng\": -85.4572}, {\"LocationLat\": 45.4436, \"LocationLng\": -98.4138}, {\"LocationLat\": 27.2663, \"LocationLng\": -80.8487}, {\"LocationLat\": 29.3842, \"LocationLng\": -98.5811}, {\"LocationLat\": 36.1622, \"LocationLng\": -97.0892}, {\"LocationLat\": 35.9458, \"LocationLng\": -112.1554}, {\"LocationLat\": 29.3333, \"LocationLng\": -89.4075}, {\"LocationLat\": 45.5643, \"LocationLng\": -93.608}, {\"LocationLat\": 39.774, \"LocationLng\": -90.2419}, {\"LocationLat\": 34.6217, \"LocationLng\": -79.7344}, {\"LocationLat\": 39.8233, \"LocationLng\": -93.5792}, {\"LocationLat\": 40.3149, \"LocationLng\": -78.8307}, {\"LocationLat\": 35.1443, \"LocationLng\": -111.6664}, {\"LocationLat\": 27.6556, \"LocationLng\": -80.4179}, {\"LocationLat\": 45.4935, \"LocationLng\": -90.9985}, {\"LocationLat\": 44.5359, \"LocationLng\": -72.6162}, {\"LocationLat\": 34.0147, \"LocationLng\": -84.5964}, {\"LocationLat\": 33.636, \"LocationLng\": -91.7555}, {\"LocationLat\": 42.0486, \"LocationLng\": -93.8486}, {\"LocationLat\": 33.5297, \"LocationLng\": -82.5164}, {\"LocationLat\": 34.2719, \"LocationLng\": -83.8303}, {\"LocationLat\": 45.5464, \"LocationLng\": -100.4078}, {\"LocationLat\": 28.4567, \"LocationLng\": -99.2183}, {\"LocationLat\": 44.739, \"LocationLng\": -85.5679}, {\"LocationLat\": 32.4674, \"LocationLng\": -100.4666}, {\"LocationLat\": 41.196, \"LocationLng\": -96.1123}, {\"LocationLat\": 38.8472, \"LocationLng\": -77.0345}, {\"LocationLat\": 31.5365, \"LocationLng\": -84.1957}, {\"LocationLat\": 39.5599, \"LocationLng\": -104.8484}, {\"LocationLat\": 44.7521, \"LocationLng\": -95.5591}, {\"LocationLat\": 36.4582, \"LocationLng\": -105.6724}, {\"LocationLat\": 44.7792, \"LocationLng\": -95.0303}, {\"LocationLat\": 31.7936, \"LocationLng\": -98.9565}, {\"LocationLat\": 34.2836, \"LocationLng\": -80.5649}, {\"LocationLat\": 45.7227, \"LocationLng\": -87.0937}, {\"LocationLat\": 29.1637, \"LocationLng\": -82.221}, {\"LocationLat\": 30.4781, \"LocationLng\": -87.1869}, {\"LocationLat\": 41.6134, \"LocationLng\": -90.5948}, {\"LocationLat\": 40.9479, \"LocationLng\": -87.1826}, {\"LocationLat\": 34.8954, \"LocationLng\": -79.7575}, {\"LocationLat\": 43.3421, \"LocationLng\": -72.5213}, {\"LocationLat\": 40.1611, \"LocationLng\": -105.1604}, {\"LocationLat\": 41.0687, \"LocationLng\": -87.8537}, {\"LocationLat\": 35.4381, \"LocationLng\": -94.8028}, {\"LocationLat\": 38.8169, \"LocationLng\": -92.2183}, {\"LocationLat\": 41.4365, \"LocationLng\": -99.6385}, {\"LocationLat\": 30.902, \"LocationLng\": -83.881}, {\"LocationLat\": 44.2714, \"LocationLng\": -86.2377}, {\"LocationLat\": 38.2132, \"LocationLng\": -122.2807}, {\"LocationLat\": 38.4225, \"LocationLng\": -113.0109}, {\"LocationLat\": 26.0787, \"LocationLng\": -80.1622}, {\"LocationLat\": 43.567, \"LocationLng\": -116.2405}, {\"LocationLat\": 31.3963, \"LocationLng\": -92.2827}, {\"LocationLat\": 34.7893, \"LocationLng\": -81.1958}, {\"LocationLat\": 32.747, \"LocationLng\": -96.5304}, {\"LocationLat\": 33.6228, \"LocationLng\": -92.7634}, {\"LocationLat\": 42.5972, \"LocationLng\": -95.2399}, {\"LocationLat\": 42.8374, \"LocationLng\": -103.0981}, {\"LocationLat\": 33.0678, \"LocationLng\": -96.0653}, {\"LocationLat\": 31.5778, \"LocationLng\": -94.7094}, {\"LocationLat\": 40.9233, \"LocationLng\": -88.6213}, {\"LocationLat\": 43.1561, \"LocationLng\": -90.6775}, {\"LocationLat\": 38.3284, \"LocationLng\": -88.8529}, {\"LocationLat\": 44.9867, \"LocationLng\": -85.2022}, {\"LocationLat\": 45.8229, \"LocationLng\": -92.3706}, {\"LocationLat\": 42.6, \"LocationLng\": -123.3656}, {\"LocationLat\": 40.5146, \"LocationLng\": -122.2977}, {\"LocationLat\": 34.2803, \"LocationLng\": -87.6004}, {\"LocationLat\": 42.6213, \"LocationLng\": -89.0419}, {\"LocationLat\": 38.1418, \"LocationLng\": -122.5546}, {\"LocationLat\": 37.2076, \"LocationLng\": -80.4078}, {\"LocationLat\": 41.6878, \"LocationLng\": -93.5694}, {\"LocationLat\": 34.2753, \"LocationLng\": -78.7146}, {\"LocationLat\": 26.1554, \"LocationLng\": -81.7746}, {\"LocationLat\": 40.684, \"LocationLng\": -92.901}, {\"LocationLat\": 40.0264, \"LocationLng\": -82.4634}, {\"LocationLat\": 32.4444, \"LocationLng\": -97.8169}, {\"LocationLat\": 34.1878, \"LocationLng\": -79.7308}, {\"LocationLat\": 34.4275, \"LocationLng\": -100.2833}, {\"LocationLat\": 42.0744, \"LocationLng\": -124.29}, {\"LocationLat\": 34.6525, \"LocationLng\": -86.9453}, {\"LocationLat\": 44.1191, \"LocationLng\": -93.2569}, {\"LocationLat\": 42.147, \"LocationLng\": -121.7255}, {\"LocationLat\": 41.4482, \"LocationLng\": -90.5236}, {\"LocationLat\": 35.1753, \"LocationLng\": -79.0077}, {\"LocationLat\": 38.8042, \"LocationLng\": -76.069}, {\"LocationLat\": 31.8411, \"LocationLng\": -99.4036}, {\"LocationLat\": 35.2115, \"LocationLng\": -84.7998}, {\"LocationLat\": 43.7771, \"LocationLng\": -71.756}, {\"LocationLat\": 41.3072, \"LocationLng\": -85.0644}, {\"LocationLat\": 43.5281, \"LocationLng\": -84.0813}, {\"LocationLat\": 35.8628, \"LocationLng\": -98.4225}, {\"LocationLat\": 41.393, \"LocationLng\": -70.6159}, {\"LocationLat\": 40.7707, \"LocationLng\": -111.965}, {\"LocationLat\": 43.6624, \"LocationLng\": -84.2621}, {\"LocationLat\": 44.8742, \"LocationLng\": -87.9096}, {\"LocationLat\": 43.9905, \"LocationLng\": -95.781}, {\"LocationLat\": 32.1108, \"LocationLng\": -84.1888}, {\"LocationLat\": 36.6656, \"LocationLng\": -76.3206}, {\"LocationLat\": 45.8258, \"LocationLng\": -119.2611}, {\"LocationLat\": 40.3734, \"LocationLng\": -75.9593}, {\"LocationLat\": 38.8984, \"LocationLng\": -119.9962}, {\"LocationLat\": 39.4662, \"LocationLng\": -76.1688}, {\"LocationLat\": 42.2186, \"LocationLng\": -92.0258}, {\"LocationLat\": 38.7004, \"LocationLng\": -87.1297}, {\"LocationLat\": 39.7619, \"LocationLng\": -101.7963}, {\"LocationLat\": 31.8331, \"LocationLng\": -104.8098}, {\"LocationLat\": 37.7388, \"LocationLng\": -87.1668}, {\"LocationLat\": 42.3606, \"LocationLng\": -71.0097}, {\"LocationLat\": 36.2925, \"LocationLng\": -92.5851}, {\"LocationLat\": 37.7013, \"LocationLng\": -112.149}, {\"LocationLat\": 43.4011, \"LocationLng\": -94.7472}, {\"LocationLat\": 34.0928, \"LocationLng\": -117.7794}, {\"LocationLat\": 32.4603, \"LocationLng\": -96.9107}, {\"LocationLat\": 32.5832, \"LocationLng\": -96.7209}, {\"LocationLat\": 33.1542, \"LocationLng\": -83.2406}, {\"LocationLat\": 38.5067, \"LocationLng\": -121.496}, {\"LocationLat\": 40.8764, \"LocationLng\": -74.2828}, {\"LocationLat\": 31.1784, \"LocationLng\": -90.4719}, {\"LocationLat\": 47.82, \"LocationLng\": -92.6817}, {\"LocationLat\": 33.4943, \"LocationLng\": -90.0847}, {\"LocationLat\": 41.253, \"LocationLng\": -70.061}, {\"LocationLat\": 44.9049, \"LocationLng\": -123.001}, {\"LocationLat\": 37.755, \"LocationLng\": -89.0111}, {\"LocationLat\": 35.5705, \"LocationLng\": -77.0498}, {\"LocationLat\": 33.6903, \"LocationLng\": -112.0662}, {\"LocationLat\": 41.0107, \"LocationLng\": -95.2624}, {\"LocationLat\": 42.8975, \"LocationLng\": -106.4731}, {\"LocationLat\": 31.0858, \"LocationLng\": -97.6865}, {\"LocationLat\": 47.1387, \"LocationLng\": -104.8072}, {\"LocationLat\": 32.3481, \"LocationLng\": -91.0299}, {\"LocationLat\": 31.0448, \"LocationLng\": -93.1916}, {\"LocationLat\": 35.3786, \"LocationLng\": -78.7336}, {\"LocationLat\": 45.0717, \"LocationLng\": -83.5644}, {\"LocationLat\": 38.9439, \"LocationLng\": -104.5684}, {\"LocationLat\": 42.8154, \"LocationLng\": -108.7261}, {\"LocationLat\": 44.4736, \"LocationLng\": -93.0145}, {\"LocationLat\": 27.9471, \"LocationLng\": -81.7811}, {\"LocationLat\": 44.2507, \"LocationLng\": -90.8553}, {\"LocationLat\": 37.7608, \"LocationLng\": -99.9683}, {\"LocationLat\": 38.6676, \"LocationLng\": -121.4006}, {\"LocationLat\": 32.699, \"LocationLng\": -94.9489}, {\"LocationLat\": 42.1912, \"LocationLng\": -71.1733}, {\"LocationLat\": 30.7503, \"LocationLng\": -92.6883}, {\"LocationLat\": 41.7837, \"LocationLng\": -124.238}, {\"LocationLat\": 44.4201, \"LocationLng\": -72.0193}, {\"LocationLat\": 42.8586, \"LocationLng\": -100.5514}, {\"LocationLat\": 47.4542, \"LocationLng\": -115.6697}, {\"LocationLat\": 43.4226, \"LocationLng\": -88.1326}, {\"LocationLat\": 45.0326, \"LocationLng\": -102.02}, {\"LocationLat\": 43.1096, \"LocationLng\": -88.0305}, {\"LocationLat\": 30.068, \"LocationLng\": -95.5562}, {\"LocationLat\": 35.4606, \"LocationLng\": -77.9649}, {\"LocationLat\": 31.9206, \"LocationLng\": -102.3867}, {\"LocationLat\": 32.8566, \"LocationLng\": -109.636}, {\"LocationLat\": 45.6536, \"LocationLng\": -84.5192}, {\"LocationLat\": 44.2559, \"LocationLng\": -121.1406}, {\"LocationLat\": 38.6897, \"LocationLng\": -75.3624}, {\"LocationLat\": 36.7739, \"LocationLng\": -90.3249}, {\"LocationLat\": 39.6744, \"LocationLng\": -75.6057}, {\"LocationLat\": 39.0854, \"LocationLng\": -76.7594}, {\"LocationLat\": 42.8935, \"LocationLng\": -73.2486}, {\"LocationLat\": 36.1753, \"LocationLng\": -96.1518}, {\"LocationLat\": 38.564, \"LocationLng\": -90.1487}, {\"LocationLat\": 45.8663, \"LocationLng\": -84.6344}, {\"LocationLat\": 38.428, \"LocationLng\": -105.1058}, {\"LocationLat\": 42.2617, \"LocationLng\": -84.4615}, {\"LocationLat\": 44.0702, \"LocationLng\": -93.5534}, {\"LocationLat\": 32.2126, \"LocationLng\": -101.5216}, {\"LocationLat\": 26.3785, \"LocationLng\": -80.1077}, {\"LocationLat\": 42.194, \"LocationLng\": -72.5348}, {\"LocationLat\": 26.2285, \"LocationLng\": -97.6544}, {\"LocationLat\": 35.9373, \"LocationLng\": -77.5465}, {\"LocationLat\": 46.4267, \"LocationLng\": -105.8825}, {\"LocationLat\": 43.1111, \"LocationLng\": -76.1038}, {\"LocationLat\": 42.4785, \"LocationLng\": -114.4774}, {\"LocationLat\": 41.3715, \"LocationLng\": -73.4822}, {\"LocationLat\": 41.6234, \"LocationLng\": -98.9488}, {\"LocationLat\": 30.7873, \"LocationLng\": -98.6608}, {\"LocationLat\": 40.8478, \"LocationLng\": -96.7647}, {\"LocationLat\": 46.1204, \"LocationLng\": -89.8802}, {\"LocationLat\": 47.6214, \"LocationLng\": -117.5278}, {\"LocationLat\": 47.9611, \"LocationLng\": -97.4012}, {\"LocationLat\": 34.5666, \"LocationLng\": -117.6704}, {\"LocationLat\": 39.8308, \"LocationLng\": -88.8719}, {\"LocationLat\": 34.2706, \"LocationLng\": -77.9026}, {\"LocationLat\": 47.193, \"LocationLng\": -119.3145}, {\"LocationLat\": 32.3537, \"LocationLng\": -97.4338}, {\"LocationLat\": 41.6584, \"LocationLng\": -70.5214}, {\"LocationLat\": 45.6478, \"LocationLng\": -68.6925}, {\"LocationLat\": 46.6667, \"LocationLng\": -120.45}, {\"LocationLat\": 35.611, \"LocationLng\": -106.0957}, {\"LocationLat\": 33.7963, \"LocationLng\": -118.0418}, {\"LocationLat\": 35.4167, \"LocationLng\": -80.1508}, {\"LocationLat\": 34.6722, \"LocationLng\": -82.8814}, {\"LocationLat\": 48.7261, \"LocationLng\": -94.6121}, {\"LocationLat\": 31.618, \"LocationLng\": -97.2283}, {\"LocationLat\": 41.9308, \"LocationLng\": -85.0543}, {\"LocationLat\": 43.9856, \"LocationLng\": -94.553}, {\"LocationLat\": 37.2848, \"LocationLng\": -120.5139}, {\"LocationLat\": 47.0492, \"LocationLng\": -91.745}, {\"LocationLat\": 32.4638, \"LocationLng\": -87.954}, {\"LocationLat\": 45.2249, \"LocationLng\": -96.0041}, {\"LocationLat\": 45.7828, \"LocationLng\": -96.5461}, {\"LocationLat\": 41.6257, \"LocationLng\": -73.8816}, {\"LocationLat\": 46.1514, \"LocationLng\": -89.2108}, {\"LocationLat\": 48.381, \"LocationLng\": -102.898}, {\"LocationLat\": 42.578, \"LocationLng\": -110.1097}, {\"LocationLat\": 36.2615, \"LocationLng\": -93.1547}, {\"LocationLat\": 38.3104, \"LocationLng\": -75.124}, {\"LocationLat\": 32.8875, \"LocationLng\": -112.72}, {\"LocationLat\": 35.8922, \"LocationLng\": -78.7819}, {\"LocationLat\": 33.5281, \"LocationLng\": -112.2926}, {\"LocationLat\": 29.067, \"LocationLng\": -81.2837}, {\"LocationLat\": 36.4567, \"LocationLng\": -80.5548}, {\"LocationLat\": 32.7339, \"LocationLng\": -117.1845}, {\"LocationLat\": 40.3315, \"LocationLng\": -103.807}, {\"LocationLat\": 46.9252, \"LocationLng\": -103.9821}, {\"LocationLat\": 39.4279, \"LocationLng\": -83.7921}, {\"LocationLat\": 32.5156, \"LocationLng\": -92.0299}, {\"LocationLat\": 37.4514, \"LocationLng\": -106.8003}, {\"LocationLat\": 38.7303, \"LocationLng\": -93.5479}, {\"LocationLat\": 44.3853, \"LocationLng\": -74.2062}, {\"LocationLat\": 30.7771, \"LocationLng\": -86.5194}, {\"LocationLat\": 37.5828, \"LocationLng\": -109.4831}, {\"LocationLat\": 32.6453, \"LocationLng\": -81.5971}, {\"LocationLat\": 45.621, \"LocationLng\": -122.6542}, {\"LocationLat\": 27.8493, \"LocationLng\": -82.5212}, {\"LocationLat\": 31.9516, \"LocationLng\": -85.1312}, {\"LocationLat\": 40.9785, \"LocationLng\": -124.1048}, {\"LocationLat\": 34.3983, \"LocationLng\": -96.1481}, {\"LocationLat\": 33.063, \"LocationLng\": -80.279}, {\"LocationLat\": 45.3108, \"LocationLng\": -92.6948}, {\"LocationLat\": 36.9875, \"LocationLng\": -82.53}, {\"LocationLat\": 33.4537, \"LocationLng\": -93.991}, {\"LocationLat\": 41.209, \"LocationLng\": -81.2479}, {\"LocationLat\": 34.047, \"LocationLng\": -94.3994}, {\"LocationLat\": 36.3689, \"LocationLng\": -92.4705}, {\"LocationLat\": 40.4374, \"LocationLng\": -104.6332}, {\"LocationLat\": 36.4324, \"LocationLng\": -81.4197}, {\"LocationLat\": 41.4741, \"LocationLng\": -73.1354}, {\"LocationLat\": 42.5902, \"LocationLng\": -117.8646}, {\"LocationLat\": 48.2994, \"LocationLng\": -116.56}, {\"LocationLat\": 38.1462, \"LocationLng\": -89.7024}, {\"LocationLat\": 26.4338, \"LocationLng\": -81.4014}, {\"LocationLat\": 43.2755, \"LocationLng\": -91.7433}, {\"LocationLat\": 40.0536, \"LocationLng\": -106.3689}, {\"LocationLat\": 32.7816, \"LocationLng\": -98.0602}, {\"LocationLat\": 36.6646, \"LocationLng\": -88.3728}, {\"LocationLat\": 37.624, \"LocationLng\": -118.838}, {\"LocationLat\": 36.7436, \"LocationLng\": -108.2293}, {\"LocationLat\": 30.4278, \"LocationLng\": -86.6893}, {\"LocationLat\": 45.1111, \"LocationLng\": -95.1258}, {\"LocationLat\": 41.9197, \"LocationLng\": -84.5853}, {\"LocationLat\": 44.1246, \"LocationLng\": -123.212}, {\"LocationLat\": 38.8042, \"LocationLng\": -97.6488}, {\"LocationLat\": 39.452, \"LocationLng\": -74.567}, {\"LocationLat\": 35.7238, \"LocationLng\": -96.8203}, {\"LocationLat\": 39.2972, \"LocationLng\": -94.7306}, {\"LocationLat\": 42.6973, \"LocationLng\": -73.1696}, {\"LocationLat\": 30.3934, \"LocationLng\": -86.4674}, {\"LocationLat\": 43.2111, \"LocationLng\": -90.1873}, {\"LocationLat\": 40.3302, \"LocationLng\": -75.1229}, {\"LocationLat\": 29.9521, \"LocationLng\": -94.0261}, {\"LocationLat\": 41.1183, \"LocationLng\": -95.9125}, {\"LocationLat\": 41.3302, \"LocationLng\": -86.6648}, {\"LocationLat\": 35.613, \"LocationLng\": -100.9963}, {\"LocationLat\": 42.1933, \"LocationLng\": -89.0933}, {\"LocationLat\": 44.5174, \"LocationLng\": -108.0752}, {\"LocationLat\": 40.0307, \"LocationLng\": -86.2514}, {\"LocationLat\": 30.1715, \"LocationLng\": -96.9784}, {\"LocationLat\": 29.5337, \"LocationLng\": -98.4698}, {\"LocationLat\": 48.1501, \"LocationLng\": -94.512}, {\"LocationLat\": 43.91, \"LocationLng\": -95.1072}, {\"LocationLat\": 45.0002, \"LocationLng\": -92.8549}, {\"LocationLat\": 45.8184, \"LocationLng\": -88.1146}, {\"LocationLat\": 35.3992, \"LocationLng\": -84.5618}, {\"LocationLat\": 29.5291, \"LocationLng\": -97.4643}, {\"LocationLat\": 38.6446, \"LocationLng\": -88.9612}, {\"LocationLat\": 26.5849, \"LocationLng\": -81.8615}, {\"LocationLat\": 37.3071, \"LocationLng\": -108.6264}, {\"LocationLat\": 39.078, \"LocationLng\": -77.5575}, {\"LocationLat\": 39.8466, \"LocationLng\": -104.6562}, {\"LocationLat\": 30.0292, \"LocationLng\": -91.8845}, {\"LocationLat\": 41.9389, \"LocationLng\": -72.6832}, {\"LocationLat\": 41.037, \"LocationLng\": -107.4998}, {\"LocationLat\": 35.998, \"LocationLng\": -89.4066}, {\"LocationLat\": 46.4502, \"LocationLng\": -95.2135}, {\"LocationLat\": 34.8578, \"LocationLng\": -102.3264}, {\"LocationLat\": 41.9855, \"LocationLng\": -97.4351}, {\"LocationLat\": 43.6405, \"LocationLng\": -116.6302}, {\"LocationLat\": 29.714, \"LocationLng\": -95.395}, {\"LocationLat\": 40.1206, \"LocationLng\": -76.2945}, {\"LocationLat\": 31.2589, \"LocationLng\": -81.4661}, {\"LocationLat\": 34.2001, \"LocationLng\": -119.2041}, {\"LocationLat\": 35.0028, \"LocationLng\": -105.6628}, {\"LocationLat\": 37.3278, \"LocationLng\": -95.5042}, {\"LocationLat\": 39.5855, \"LocationLng\": -85.7998}, {\"LocationLat\": 41.3518, \"LocationLng\": -89.1496}, {\"LocationLat\": 32.1441, \"LocationLng\": -94.8539}, {\"LocationLat\": 34.7583, \"LocationLng\": -82.3764}, {\"LocationLat\": 32.3541, \"LocationLng\": -95.4024}, {\"LocationLat\": 39.7252, \"LocationLng\": -86.2816}, {\"LocationLat\": 44.2708, \"LocationLng\": -71.3035}, {\"LocationLat\": 32.1314, \"LocationLng\": -81.2023}, {\"LocationLat\": 30.8794, \"LocationLng\": -96.9711}, {\"LocationLat\": 48.7838, \"LocationLng\": -97.6296}, {\"LocationLat\": 40.0788, \"LocationLng\": -95.592}, {\"LocationLat\": 41.5097, \"LocationLng\": -72.8278}, {\"LocationLat\": 33.1615, \"LocationLng\": -95.6189}, {\"LocationLat\": 30.7157, \"LocationLng\": -96.3314}, {\"LocationLat\": 40.8967, \"LocationLng\": -97.6228}, {\"LocationLat\": 44.9839, \"LocationLng\": -96.1788}, {\"LocationLat\": 42.4073, \"LocationLng\": -83.0089}, {\"LocationLat\": 44.095, \"LocationLng\": -121.2}, {\"LocationLat\": 29.0569, \"LocationLng\": -80.9491}, {\"LocationLat\": 30.3678, \"LocationLng\": -89.4547}, {\"LocationLat\": 37.7081, \"LocationLng\": -77.4344}, {\"LocationLat\": 41.8678, \"LocationLng\": -84.0794}, {\"LocationLat\": 40.0684, \"LocationLng\": -118.5702}, {\"LocationLat\": 41.2984, \"LocationLng\": -93.1114}, {\"LocationLat\": 42.224, \"LocationLng\": -83.7397}, {\"LocationLat\": 32.4208, \"LocationLng\": -99.8546}, {\"LocationLat\": 30.46, \"LocationLng\": -87.877}, {\"LocationLat\": 32.7561, \"LocationLng\": -91.8806}, {\"LocationLat\": 40.204, \"LocationLng\": -100.5904}, {\"LocationLat\": 41.5725, \"LocationLng\": -86.7345}, {\"LocationLat\": 47.5047, \"LocationLng\": -111.1873}, {\"LocationLat\": 33.7141, \"LocationLng\": -96.6737}, {\"LocationLat\": 39.001, \"LocationLng\": -80.2712}, {\"LocationLat\": 44.5926, \"LocationLng\": -92.4844}, {\"LocationLat\": 39.531, \"LocationLng\": -84.3953}, {\"LocationLat\": 28.804, \"LocationLng\": -82.318}, {\"LocationLat\": 46.3405, \"LocationLng\": -87.3953}, {\"LocationLat\": 35.818, \"LocationLng\": -83.9857}, {\"LocationLat\": 35.6667, \"LocationLng\": -75.9}, {\"LocationLat\": 40.4518, \"LocationLng\": -105.0113}, {\"LocationLat\": 44.4505, \"LocationLng\": -95.8219}, {\"LocationLat\": 37.0513, \"LocationLng\": -84.6168}, {\"LocationLat\": 47.9689, \"LocationLng\": -117.4211}, {\"LocationLat\": 47.4274, \"LocationLng\": -92.4972}, {\"LocationLat\": 45.1601, \"LocationLng\": -93.846}, {\"LocationLat\": 32.701, \"LocationLng\": -80.003}, {\"LocationLat\": 37.8128, \"LocationLng\": -88.5449}, {\"LocationLat\": 30.3842, \"LocationLng\": -103.6836}, {\"LocationLat\": 40.1376, \"LocationLng\": -75.2684}, {\"LocationLat\": 41.1195, \"LocationLng\": -101.7697}, {\"LocationLat\": 41.1642, \"LocationLng\": -73.1266}, {\"LocationLat\": 34.8043, \"LocationLng\": -96.6712}, {\"LocationLat\": 36.1256, \"LocationLng\": -90.9215}, {\"LocationLat\": 46.7245, \"LocationLng\": -92.0445}, {\"LocationLat\": 42.6294, \"LocationLng\": -83.9842}, {\"LocationLat\": 34.0235, \"LocationLng\": -118.2912}, {\"LocationLat\": 46.4021, \"LocationLng\": -94.1273}, {\"LocationLat\": 47.9492, \"LocationLng\": -97.1761}, {\"LocationLat\": 32.6889, \"LocationLng\": -83.6529}, {\"LocationLat\": 44.7588, \"LocationLng\": -94.0905}, {\"LocationLat\": 32.3829, \"LocationLng\": -86.3658}, {\"LocationLat\": 46.3809, \"LocationLng\": -94.8066}, {\"LocationLat\": 39.9012, \"LocationLng\": -83.1369}, {\"LocationLat\": 33.9208, \"LocationLng\": -80.8013}, {\"LocationLat\": 39.5827, \"LocationLng\": -79.3418}, {\"LocationLat\": 32.0843, \"LocationLng\": -97.0958}, {\"LocationLat\": 38.7007, \"LocationLng\": -121.5948}, {\"LocationLat\": 39.6391, \"LocationLng\": -90.7818}, {\"LocationLat\": 38.0431, \"LocationLng\": -87.5203}, {\"LocationLat\": 35.2322, \"LocationLng\": -75.6225}, {\"LocationLat\": 38.9767, \"LocationLng\": -76.33}, {\"LocationLat\": 46.1155, \"LocationLng\": -122.8927}, {\"LocationLat\": 42.9667, \"LocationLng\": -83.7494}, {\"LocationLat\": 45.6317, \"LocationLng\": -89.4822}, {\"LocationLat\": 26.4417, \"LocationLng\": -98.1222}, {\"LocationLat\": 29.2543, \"LocationLng\": -96.1544}, {\"LocationLat\": 40.0378, \"LocationLng\": -105.2274}, {\"LocationLat\": 43.4588, \"LocationLng\": -83.4455}, {\"LocationLat\": 31.3558, \"LocationLng\": -85.7511}, {\"LocationLat\": 33.4568, \"LocationLng\": -80.8595}, {\"LocationLat\": 30.5271, \"LocationLng\": -98.3588}, {\"LocationLat\": 41.3357, \"LocationLng\": -84.4285}, {\"LocationLat\": 34.7128, \"LocationLng\": -79.9622}, {\"LocationLat\": 40.7729, \"LocationLng\": -91.1254}, {\"LocationLat\": 34.3007, \"LocationLng\": -97.0089}, {\"LocationLat\": 43.3384, \"LocationLng\": -73.6102}, {\"LocationLat\": 42.2204, \"LocationLng\": -91.1604}, {\"LocationLat\": 40.6196, \"LocationLng\": -111.9902}, {\"LocationLat\": 34.4241, \"LocationLng\": -119.8425}, {\"LocationLat\": 37.2622, \"LocationLng\": -104.3318}, {\"LocationLat\": 33.4224, \"LocationLng\": -112.3736}, {\"LocationLat\": 45.1238, \"LocationLng\": -113.8813}, {\"LocationLat\": 37.3559, \"LocationLng\": -87.3982}, {\"LocationLat\": 34.2638, \"LocationLng\": -116.856}, {\"LocationLat\": 31.7801, \"LocationLng\": -103.2018}, {\"LocationLat\": 41.2731, \"LocationLng\": -111.0306}, {\"LocationLat\": 40.6006, \"LocationLng\": -98.4258}, {\"LocationLat\": 32.9359, \"LocationLng\": -111.4265}, {\"LocationLat\": 38.6673, \"LocationLng\": -88.4527}, {\"LocationLat\": 35.1939, \"LocationLng\": -83.8618}, {\"LocationLat\": 41.1941, \"LocationLng\": -112.0168}, {\"LocationLat\": 36.2577, \"LocationLng\": -76.1716}, {\"LocationLat\": 40.7989, \"LocationLng\": -74.4163}, {\"LocationLat\": 28.4183, \"LocationLng\": -81.3241}, {\"LocationLat\": 28.3692, \"LocationLng\": -97.7953}, {\"LocationLat\": 32.8974, \"LocationLng\": -97.022}, {\"LocationLat\": 41.6031, \"LocationLng\": -88.1016}, {\"LocationLat\": 41.7713, \"LocationLng\": -88.4815}, {\"LocationLat\": 44.6629, \"LocationLng\": -104.5678}, {\"LocationLat\": 46.689, \"LocationLng\": -68.0448}, {\"LocationLat\": 32.9686, \"LocationLng\": -96.8364}, {\"LocationLat\": 34.8544, \"LocationLng\": -83.9973}, {\"LocationLat\": 33.3117, \"LocationLng\": -79.3196}, {\"LocationLat\": 41.6875, \"LocationLng\": -69.9933}, {\"LocationLat\": 25.9146, \"LocationLng\": -97.4231}, {\"LocationLat\": 37.0912, \"LocationLng\": -95.5726}, {\"LocationLat\": 34.021, \"LocationLng\": -118.4471}, {\"LocationLat\": 41.6121, \"LocationLng\": -87.4091}, {\"LocationLat\": 41.8756, \"LocationLng\": -71.0211}, {\"LocationLat\": 34.0903, \"LocationLng\": -117.2471}, {\"LocationLat\": 45.2466, \"LocationLng\": -122.7709}, {\"LocationLat\": 32.8157, \"LocationLng\": -117.1396}, {\"LocationLat\": 30.5979, \"LocationLng\": -84.5574}, {\"LocationLat\": 48.5594, \"LocationLng\": -93.3956}, {\"LocationLat\": 42.5512, \"LocationLng\": -94.1918}, {\"LocationLat\": 37.9514, \"LocationLng\": -79.8339}, {\"LocationLat\": 41.6791, \"LocationLng\": -70.9591}, {\"LocationLat\": 44.6799, \"LocationLng\": -75.4642}, {\"LocationLat\": 37.0008, \"LocationLng\": -101.88}, {\"LocationLat\": 46.4119, \"LocationLng\": -86.6508}, {\"LocationLat\": 43.1544, \"LocationLng\": -93.3261}, {\"LocationLat\": 42.796, \"LocationLng\": -105.3804}, {\"LocationLat\": 37.3329, \"LocationLng\": -121.8198}, {\"LocationLat\": 45.1945, \"LocationLng\": -123.1361}, {\"LocationLat\": 42.4681, \"LocationLng\": -71.2946}, {\"LocationLat\": 38.9949, \"LocationLng\": -79.1459}, {\"LocationLat\": 41.7014, \"LocationLng\": -94.9205}, {\"LocationLat\": 30.4628, \"LocationLng\": -88.5292}, {\"LocationLat\": 43.9888, \"LocationLng\": -76.0262}, {\"LocationLat\": 38.228, \"LocationLng\": -85.6637}, {\"LocationLat\": 33.8162, \"LocationLng\": -78.7204}, {\"LocationLat\": 28.866, \"LocationLng\": -82.5741}, {\"LocationLat\": 32.3311, \"LocationLng\": -102.5294}, {\"LocationLat\": 32.384, \"LocationLng\": -94.7115}, {\"LocationLat\": 41.4148, \"LocationLng\": -96.109}, {\"LocationLat\": 47.2765, \"LocationLng\": -121.3382}, {\"LocationLat\": 31.4158, \"LocationLng\": -87.044}, {\"LocationLat\": 43.7748, \"LocationLng\": -87.849}, {\"LocationLat\": 38.0718, \"LocationLng\": -102.6874}, {\"LocationLat\": 39.5351, \"LocationLng\": -89.3294}, {\"LocationLat\": 44.8942, \"LocationLng\": -116.0998}, {\"LocationLat\": 36.5857, \"LocationLng\": -115.6901}, {\"LocationLat\": 38.9509, \"LocationLng\": -95.6636}, {\"LocationLat\": 47.8245, \"LocationLng\": -91.8307}, {\"LocationLat\": 44.0219, \"LocationLng\": -82.7931}, {\"LocationLat\": 40.0993, \"LocationLng\": -102.2431}, {\"LocationLat\": 35.0675, \"LocationLng\": -77.0472}, {\"LocationLat\": 25.4949, \"LocationLng\": -80.3732}, {\"LocationLat\": 45.506, \"LocationLng\": -91.981}, {\"LocationLat\": 37.5115, \"LocationLng\": -77.3234}, {\"LocationLat\": 42.129, \"LocationLng\": -86.4151}, {\"LocationLat\": 31.3213, \"LocationLng\": -85.4496}, {\"LocationLat\": 35.5448, \"LocationLng\": -98.6685}, {\"LocationLat\": 32.0365, \"LocationLng\": -102.101}, {\"LocationLat\": 32.646, \"LocationLng\": -93.298}, {\"LocationLat\": 43.9854, \"LocationLng\": -96.2976}, {\"LocationLat\": 38.8108, \"LocationLng\": -76.867}, {\"LocationLat\": 38.5393, \"LocationLng\": -76.0304}, {\"LocationLat\": 30.3371, \"LocationLng\": -81.5127}, {\"LocationLat\": 35.2913, \"LocationLng\": -95.0955}, {\"LocationLat\": 41.7097, \"LocationLng\": -92.7332}, {\"LocationLat\": 45.9264, \"LocationLng\": -89.7307}, {\"LocationLat\": 37.0816, \"LocationLng\": -121.5968}, {\"LocationLat\": 37.9372, \"LocationLng\": -75.4662}, {\"LocationLat\": 37.087, \"LocationLng\": -84.077}, {\"LocationLat\": 42.312, \"LocationLng\": -85.2414}, {\"LocationLat\": 40.4124, \"LocationLng\": -86.9474}, {\"LocationLat\": 40.624, \"LocationLng\": -74.669}, {\"LocationLat\": 36.1335, \"LocationLng\": -80.2244}, {\"LocationLat\": 37.7416, \"LocationLng\": -92.1407}, {\"LocationLat\": 33.6797, \"LocationLng\": -78.9283}, {\"LocationLat\": 41.7072, \"LocationLng\": -86.3164}, {\"LocationLat\": 40.8505, \"LocationLng\": -72.6193}, {\"LocationLat\": 44.5444, \"LocationLng\": -110.4211}, {\"LocationLat\": 38.0582, \"LocationLng\": -97.2745}, {\"LocationLat\": 38.3154, \"LocationLng\": -76.5501}, {\"LocationLat\": 34.6439, \"LocationLng\": -86.7861}, {\"LocationLat\": 39.5279, \"LocationLng\": -107.7196}, {\"LocationLat\": 40.6827, \"LocationLng\": -74.1693}, {\"LocationLat\": 41.7984, \"LocationLng\": -78.6354}, {\"LocationLat\": 41.0254, \"LocationLng\": -80.4134}, {\"LocationLat\": 39.2231, \"LocationLng\": -104.6422}, {\"LocationLat\": 36.0252, \"LocationLng\": -102.5487}, {\"LocationLat\": 37.7833, \"LocationLng\": -89.2453}, {\"LocationLat\": 35.145, \"LocationLng\": -106.795}, {\"LocationLat\": 38.85, \"LocationLng\": -94.7392}, {\"LocationLat\": 27.7734, \"LocationLng\": -97.513}, {\"LocationLat\": 35.6694, \"LocationLng\": -120.6291}, {\"LocationLat\": 40.711, \"LocationLng\": -86.375}, {\"LocationLat\": 32.4122, \"LocationLng\": -80.6344}, {\"LocationLat\": 38.85, \"LocationLng\": -76.93}, {\"LocationLat\": 41.5651, \"LocationLng\": -81.4864}, {\"LocationLat\": 45.9647, \"LocationLng\": -112.5006}, {\"LocationLat\": 39.7252, \"LocationLng\": -91.4439}, {\"LocationLat\": 34.6656, \"LocationLng\": -120.4675}, {\"LocationLat\": 27.9889, \"LocationLng\": -82.0186}, {\"LocationLat\": 33.995, \"LocationLng\": -80.3613}, {\"LocationLat\": 35.028, \"LocationLng\": -110.722}, {\"LocationLat\": 32.4831, \"LocationLng\": -81.7372}, {\"LocationLat\": 32.6091, \"LocationLng\": -82.3699}, {\"LocationLat\": 48.4047, \"LocationLng\": -97.3709}, {\"LocationLat\": 39.1021, \"LocationLng\": -121.5688}, {\"LocationLat\": 40.7454, \"LocationLng\": -106.2754}, {\"LocationLat\": 35.7811, \"LocationLng\": -80.3038}, {\"LocationLat\": 36.3797, \"LocationLng\": -88.9857}, {\"LocationLat\": 46.1442, \"LocationLng\": -115.5964}, {\"LocationLat\": 34.8614, \"LocationLng\": -86.5572}, {\"LocationLat\": 38.8142, \"LocationLng\": -106.1207}, {\"LocationLat\": 33.9, \"LocationLng\": -117.25}, {\"LocationLat\": 36.3792, \"LocationLng\": -97.7911}, {\"LocationLat\": 40.553, \"LocationLng\": -124.1334}, {\"LocationLat\": 40.727, \"LocationLng\": -99.0068}, {\"LocationLat\": 33.2194, \"LocationLng\": -117.3494}, {\"LocationLat\": 44.3591, \"LocationLng\": -84.6739}, {\"LocationLat\": 41.8747, \"LocationLng\": -103.6011}, {\"LocationLat\": 48.2142, \"LocationLng\": -106.6213}, {\"LocationLat\": 41.3461, \"LocationLng\": -82.1794}, {\"LocationLat\": 33.587, \"LocationLng\": -80.209}, {\"LocationLat\": 37.2253, \"LocationLng\": -89.5708}, {\"LocationLat\": 38.0575, \"LocationLng\": -83.9829}, {\"LocationLat\": 35.8789, \"LocationLng\": -106.2621}, {\"LocationLat\": 43.467, \"LocationLng\": -108.238}, {\"LocationLat\": 30.3433, \"LocationLng\": -89.8222}, {\"LocationLat\": 40.7769, \"LocationLng\": -79.9497}, {\"LocationLat\": 37.5136, \"LocationLng\": -122.4996}, {\"LocationLat\": 34.6491, \"LocationLng\": -112.4223}, {\"LocationLat\": 35.2368, \"LocationLng\": -120.642}, {\"LocationLat\": 33.1283, \"LocationLng\": -117.2801}, {\"LocationLat\": 34.8941, \"LocationLng\": -120.4521}, {\"LocationLat\": 47.9233, \"LocationLng\": -122.2831}, {\"LocationLat\": 46.4163, \"LocationLng\": -92.8049}, {\"LocationLat\": 39.825, \"LocationLng\": -86.2958}, {\"LocationLat\": 43.0622, \"LocationLng\": -108.447}, {\"LocationLat\": 47.7832, \"LocationLng\": -93.6533}, {\"LocationLat\": 35.3886, \"LocationLng\": -97.6003}, {\"LocationLat\": 39.3675, \"LocationLng\": -101.6931}, {\"LocationLat\": 41.9338, \"LocationLng\": -88.7066}, {\"LocationLat\": 47.5455, \"LocationLng\": -122.3147}, {\"LocationLat\": 40.9596, \"LocationLng\": -72.2519}, {\"LocationLat\": 34.4494, \"LocationLng\": -79.8901}, {\"LocationLat\": 42.0983, \"LocationLng\": -70.6722}, {\"LocationLat\": 45.1263, \"LocationLng\": -87.6444}, {\"LocationLat\": 38.9806, \"LocationLng\": -76.9223}, {\"LocationLat\": 34.81, \"LocationLng\": -82.7029}, {\"LocationLat\": 33.9829, \"LocationLng\": -83.6674}, {\"LocationLat\": 39.2299, \"LocationLng\": -106.8705}, {\"LocationLat\": 31.3347, \"LocationLng\": -92.5586}, {\"LocationLat\": 44.016, \"LocationLng\": -97.086}, {\"LocationLat\": 47.3975, \"LocationLng\": -120.2012}, {\"LocationLat\": 41.9597, \"LocationLng\": -85.5934}, {\"LocationLat\": 39.6982, \"LocationLng\": -87.6669}, {\"LocationLat\": 42.7762, \"LocationLng\": -84.5997}, {\"LocationLat\": 40.5153, \"LocationLng\": -106.8677}, {\"LocationLat\": 32.0311, \"LocationLng\": -96.3989}, {\"LocationLat\": 37.0564, \"LocationLng\": -88.7739}, {\"LocationLat\": 34.6042, \"LocationLng\": -78.579}, {\"LocationLat\": 35.1805, \"LocationLng\": -103.6014}, {\"LocationLat\": 44.4682, \"LocationLng\": -73.1498}, {\"LocationLat\": 38.9146, \"LocationLng\": -82.0986}, {\"LocationLat\": 40.4899, \"LocationLng\": -85.6797}, {\"LocationLat\": 44.0601, \"LocationLng\": -69.0993}, {\"LocationLat\": 41.6394, \"LocationLng\": -91.5445}, {\"LocationLat\": 36.6817, \"LocationLng\": -101.5053}, {\"LocationLat\": 35.4344, \"LocationLng\": -119.0542}, {\"LocationLat\": 33.6798, \"LocationLng\": -117.8674}, {\"LocationLat\": 43.0425, \"LocationLng\": -88.2461}, {\"LocationLat\": 42.4932, \"LocationLng\": -79.2762}, {\"LocationLat\": 40.5282, \"LocationLng\": -86.059}, {\"LocationLat\": 38.365, \"LocationLng\": -82.555}, {\"LocationLat\": 32.9549, \"LocationLng\": -111.7668}, {\"LocationLat\": 40.6163, \"LocationLng\": -83.0635}, {\"LocationLat\": 45.6456, \"LocationLng\": -95.3188}, {\"LocationLat\": 27.4981, \"LocationLng\": -80.3767}, {\"LocationLat\": 36.1802, \"LocationLng\": -94.1175}, {\"LocationLat\": 27.5437, \"LocationLng\": -99.4616}, {\"LocationLat\": 38.9697, \"LocationLng\": -104.8131}, {\"LocationLat\": 34.2593, \"LocationLng\": -118.4134}, {\"LocationLat\": 31.8457, \"LocationLng\": -86.6107}, {\"LocationLat\": 41.3165, \"LocationLng\": -105.6729}, {\"LocationLat\": 38.3794, \"LocationLng\": -81.5914}, {\"LocationLat\": 44.8667, \"LocationLng\": -91.488}, {\"LocationLat\": 33.2122, \"LocationLng\": -87.6155}, {\"LocationLat\": 30.0644, \"LocationLng\": -85.5637}, {\"LocationLat\": 24.5571, \"LocationLng\": -81.7554}, {\"LocationLat\": 42.94, \"LocationLng\": -78.736}, {\"LocationLat\": 33.5978, \"LocationLng\": -83.1389}, {\"LocationLat\": 46.2187, \"LocationLng\": -97.6435}, {\"LocationLat\": 35.0187, \"LocationLng\": -94.6202}, {\"LocationLat\": 42.5926, \"LocationLng\": -76.2149}, {\"LocationLat\": 38.3405, \"LocationLng\": -75.5103}, {\"LocationLat\": 39.3612, \"LocationLng\": -84.5206}, {\"LocationLat\": 30.6268, \"LocationLng\": -88.0681}, {\"LocationLat\": 35.4833, \"LocationLng\": -81.1612}, {\"LocationLat\": 35.6681, \"LocationLng\": -95.9486}, {\"LocationLat\": 31.3097, \"LocationLng\": -95.4039}, {\"LocationLat\": 35.0353, \"LocationLng\": -85.2038}, {\"LocationLat\": 40.1962, \"LocationLng\": -76.7725}, {\"LocationLat\": 31.6659, \"LocationLng\": -98.1486}, {\"LocationLat\": 34.9168, \"LocationLng\": -92.1465}, {\"LocationLat\": 42.7798, \"LocationLng\": -71.5141}, {\"LocationLat\": 40.1365, \"LocationLng\": -80.2902}, {\"LocationLat\": 34.7412, \"LocationLng\": -118.2125}, {\"LocationLat\": 35.4282, \"LocationLng\": -81.9351}, {\"LocationLat\": 45.9411, \"LocationLng\": -116.1326}, {\"LocationLat\": 42.4255, \"LocationLng\": -87.8634}, {\"LocationLat\": 41.3839, \"LocationLng\": -72.5059}, {\"LocationLat\": 41.828, \"LocationLng\": -94.1598}, {\"LocationLat\": 42.4372, \"LocationLng\": -93.8724}, {\"LocationLat\": 36.0719, \"LocationLng\": -115.1634}, {\"LocationLat\": 34.1997, \"LocationLng\": -118.3654}, {\"LocationLat\": 41.5945, \"LocationLng\": -109.0528}, {\"LocationLat\": 34.6787, \"LocationLng\": -86.6848}, {\"LocationLat\": 34.915, \"LocationLng\": -88.6035}, {\"LocationLat\": 39.1605, \"LocationLng\": -89.6742}, {\"LocationLat\": 34.257, \"LocationLng\": -111.339}, {\"LocationLat\": 34.9894, \"LocationLng\": -99.0525}, {\"LocationLat\": 35.695, \"LocationLng\": -101.395}, {\"LocationLat\": 38.2662, \"LocationLng\": -77.4494}, {\"LocationLat\": 47.6458, \"LocationLng\": -101.4394}, {\"LocationLat\": 31.2694, \"LocationLng\": -89.2561}, {\"LocationLat\": 47.1377, \"LocationLng\": -122.4765}, {\"LocationLat\": 42.8525, \"LocationLng\": -73.9289}, {\"LocationLat\": 40.6065, \"LocationLng\": -95.8635}, {\"LocationLat\": 42.7748, \"LocationLng\": -96.1924}, {\"LocationLat\": 32.8342, \"LocationLng\": -115.5786}, {\"LocationLat\": 33.2691, \"LocationLng\": -111.8111}, {\"LocationLat\": 37.1681, \"LocationLng\": -97.0369}, {\"LocationLat\": 30.6883, \"LocationLng\": -88.2456}, {\"LocationLat\": 41.7841, \"LocationLng\": -87.7551}, {\"LocationLat\": 29.3665, \"LocationLng\": -100.7847}, {\"LocationLat\": 36.2975, \"LocationLng\": -77.1708}, {\"LocationLat\": 28.0614, \"LocationLng\": -81.7568}, {\"LocationLat\": 33.6366, \"LocationLng\": -95.4507}, {\"LocationLat\": 39.1435, \"LocationLng\": -78.1444}, {\"LocationLat\": 40.7344, \"LocationLng\": -73.4164}, {\"LocationLat\": 35.3573, \"LocationLng\": -96.9428}, {\"LocationLat\": 30.349, \"LocationLng\": -85.788}, {\"LocationLat\": 43.2338, \"LocationLng\": -75.407}, {\"LocationLat\": 32.5161, \"LocationLng\": -84.9422}, {\"LocationLat\": 42.6909, \"LocationLng\": -88.308}, {\"LocationLat\": 39.4429, \"LocationLng\": -87.3221}, {\"LocationLat\": 37.89, \"LocationLng\": -121.2264}, {\"LocationLat\": 47.9375, \"LocationLng\": -124.555}, {\"LocationLat\": 29.3594, \"LocationLng\": -99.1742}, {\"LocationLat\": 37.4611, \"LocationLng\": -122.1151}, {\"LocationLat\": 35.6527, \"LocationLng\": -79.8942}, {\"LocationLat\": 32.214, \"LocationLng\": -83.128}, {\"LocationLat\": 30.2427, \"LocationLng\": -92.6735}, {\"LocationLat\": 34.5575, \"LocationLng\": -98.4167}, {\"LocationLat\": 33.2367, \"LocationLng\": -107.2681}, {\"LocationLat\": 30.9716, \"LocationLng\": -84.6369}, {\"LocationLat\": 38.9913, \"LocationLng\": -76.4891}, {\"LocationLat\": 42.8067, \"LocationLng\": -72.0013}, {\"LocationLat\": 32.8978, \"LocationLng\": -79.7829}, {\"LocationLat\": 35.0961, \"LocationLng\": -97.9661}, {\"LocationLat\": 46.8435, \"LocationLng\": -92.1866}, {\"LocationLat\": 41.243, \"LocationLng\": -76.9217}, {\"LocationLat\": 40.9018, \"LocationLng\": -117.8082}, {\"LocationLat\": 46.2696, \"LocationLng\": -119.1181}, {\"LocationLat\": 37.6255, \"LocationLng\": -120.9549}, {\"LocationLat\": 45.1046, \"LocationLng\": -90.3025}, {\"LocationLat\": 32.5205, \"LocationLng\": -94.3078}, {\"LocationLat\": 39.0559, \"LocationLng\": -96.7617}, {\"LocationLat\": 34.3478, \"LocationLng\": -85.1611}, {\"LocationLat\": 39.1342, \"LocationLng\": -108.54}, {\"LocationLat\": 36.6636, \"LocationLng\": -121.6081}, {\"LocationLat\": 35.3567, \"LocationLng\": -99.2036}, {\"LocationLat\": 46.0149, \"LocationLng\": -102.656}, {\"LocationLat\": 40.7533, \"LocationLng\": -95.4112}, {\"LocationLat\": 34.1798, \"LocationLng\": -91.9344}, {\"LocationLat\": 46.1185, \"LocationLng\": -67.7928}, {\"LocationLat\": 35.1775, \"LocationLng\": -86.0662}, {\"LocationLat\": 44.7871, \"LocationLng\": -88.564}, {\"LocationLat\": 43.8854, \"LocationLng\": -104.3179}, {\"LocationLat\": 27.3496, \"LocationLng\": -98.7369}, {\"LocationLat\": 36.285, \"LocationLng\": -78.9842}, {\"LocationLat\": 39.9371, \"LocationLng\": -91.1966}, {\"LocationLat\": 36.0475, \"LocationLng\": -79.4737}, {\"LocationLat\": 42.7112, \"LocationLng\": -110.9422}, {\"LocationLat\": 32.4774, \"LocationLng\": -80.7232}, {\"LocationLat\": 32.6401, \"LocationLng\": -83.5918}, {\"LocationLat\": 29.908, \"LocationLng\": -96.95}, {\"LocationLat\": 33.9382, \"LocationLng\": -118.3865}, {\"LocationLat\": 43.5237, \"LocationLng\": -89.7734}, {\"LocationLat\": 40.0966, \"LocationLng\": -92.547}, {\"LocationLat\": 38.1374, \"LocationLng\": -78.4552}, {\"LocationLat\": 43.6229, \"LocationLng\": -84.743}, {\"LocationLat\": 42.2413, \"LocationLng\": -78.3714}, {\"LocationLat\": 46.1569, \"LocationLng\": -123.8825}, {\"LocationLat\": 34.7913, \"LocationLng\": -79.3683}, {\"LocationLat\": 43.6455, \"LocationLng\": -94.4168}, {\"LocationLat\": 38.3981, \"LocationLng\": -77.4555}, {\"LocationLat\": 41.0189, \"LocationLng\": -94.361}, {\"LocationLat\": 44.1708, \"LocationLng\": -114.9272}, {\"LocationLat\": 41.6258, \"LocationLng\": -80.2123}, {\"LocationLat\": 31.346, \"LocationLng\": -85.6543}, {\"LocationLat\": 37.1373, \"LocationLng\": -80.6785}, {\"LocationLat\": 34.7434, \"LocationLng\": -118.7253}, {\"LocationLat\": 29.5634, \"LocationLng\": -90.6628}, {\"LocationLat\": 40.7735, \"LocationLng\": -80.3825}, {\"LocationLat\": 35.0194, \"LocationLng\": -80.0784}, {\"LocationLat\": 40.0156, \"LocationLng\": -74.5917}, {\"LocationLat\": 36.2188, \"LocationLng\": -81.1002}, {\"LocationLat\": 41.5631, \"LocationLng\": -83.4764}, {\"LocationLat\": 34.2257, \"LocationLng\": -99.2837}, {\"LocationLat\": 44.6509, \"LocationLng\": -73.4681}, {\"LocationLat\": 42.2068, \"LocationLng\": -75.9799}, {\"LocationLat\": 45.2575, \"LocationLng\": -112.5544}, {\"LocationLat\": 32.8986, \"LocationLng\": -80.0405}, {\"LocationLat\": 29.8374, \"LocationLng\": -90.0245}, {\"LocationLat\": 29.9469, \"LocationLng\": -100.1739}, {\"LocationLat\": 33.6637, \"LocationLng\": -101.8206}, {\"LocationLat\": 48.0945, \"LocationLng\": -105.5751}, {\"LocationLat\": 44.8596, \"LocationLng\": -94.3855}, {\"LocationLat\": 45.5118, \"LocationLng\": -118.4247}, {\"LocationLat\": 43.8792, \"LocationLng\": -91.253}, {\"LocationLat\": 41.8153, \"LocationLng\": -85.4376}, {\"LocationLat\": 43.5769, \"LocationLng\": -96.7536}, {\"LocationLat\": 48.252, \"LocationLng\": -101.2689}, {\"LocationLat\": 32.6583, \"LocationLng\": -97.0951}, {\"LocationLat\": 35.0366, \"LocationLng\": -79.4973}, {\"LocationLat\": 30.0719, \"LocationLng\": -83.5736}, {\"LocationLat\": 35.9513, \"LocationLng\": -85.085}, {\"LocationLat\": 41.2747, \"LocationLng\": -85.8401}, {\"LocationLat\": 43.0779, \"LocationLng\": -70.8233}, {\"LocationLat\": 41.7302, \"LocationLng\": -98.0545}, {\"LocationLat\": 42.2524, \"LocationLng\": -84.9525}, {\"LocationLat\": 40.859, \"LocationLng\": -74.0562}, {\"LocationLat\": 32.9733, \"LocationLng\": -97.3181}, {\"LocationLat\": 43.9654, \"LocationLng\": -107.9502}, {\"LocationLat\": 45.619, \"LocationLng\": -121.1657}, {\"LocationLat\": 41.0994, \"LocationLng\": -102.9856}, {\"LocationLat\": 34.7063, \"LocationLng\": -77.4407}, {\"LocationLat\": 45.7064, \"LocationLng\": -90.4052}, {\"LocationLat\": 32.1638, \"LocationLng\": -95.8284}, {\"LocationLat\": 44.8074, \"LocationLng\": -68.8281}, {\"LocationLat\": 46.9733, \"LocationLng\": -122.9033}, {\"LocationLat\": 32.3347, \"LocationLng\": -88.7511}, {\"LocationLat\": 30.3925, \"LocationLng\": -97.5621}, {\"LocationLat\": 39.1278, \"LocationLng\": -123.2001}, {\"LocationLat\": 48.7525, \"LocationLng\": -96.9376}, {\"LocationLat\": 38.1744, \"LocationLng\": -85.736}, {\"LocationLat\": 40.2759, \"LocationLng\": -79.4048}, {\"LocationLat\": 39.7988, \"LocationLng\": -121.858}, {\"LocationLat\": 32.3239, \"LocationLng\": -84.9826}, {\"LocationLat\": 33.6514, \"LocationLng\": -97.1969}, {\"LocationLat\": 28.2924, \"LocationLng\": -81.4372}, {\"LocationLat\": 47.5928, \"LocationLng\": -95.7735}, {\"LocationLat\": 29.8448, \"LocationLng\": -82.0475}, {\"LocationLat\": 45.5677, \"LocationLng\": -95.9659}, {\"LocationLat\": 48.6084, \"LocationLng\": -112.3761}, {\"LocationLat\": 31.7784, \"LocationLng\": -95.7047}, {\"LocationLat\": 36.7664, \"LocationLng\": -96.0129}, {\"LocationLat\": 42.5658, \"LocationLng\": -84.4232}, {\"LocationLat\": 48.5428, \"LocationLng\": -109.7633}, {\"LocationLat\": 44.3852, \"LocationLng\": -98.2286}, {\"LocationLat\": 46.5468, \"LocationLng\": -90.9184}, {\"LocationLat\": 35.2372, \"LocationLng\": -79.3911}, {\"LocationLat\": 40.2797, \"LocationLng\": -83.1148}, {\"LocationLat\": 29.5297, \"LocationLng\": -98.2789}, {\"LocationLat\": 32.9322, \"LocationLng\": -96.4348}, {\"LocationLat\": 26.6851, \"LocationLng\": -80.0992}, {\"LocationLat\": 30.7044, \"LocationLng\": -87.0231}, {\"LocationLat\": 44.4498, \"LocationLng\": -68.3616}, {\"LocationLat\": 40.3552, \"LocationLng\": -79.9214}, {\"LocationLat\": 36.0277, \"LocationLng\": -76.5671}, {\"LocationLat\": 40.4368, \"LocationLng\": -75.3802}, {\"LocationLat\": 36.2362, \"LocationLng\": -115.0343}, {\"LocationLat\": 41.883, \"LocationLng\": -91.7246}, {\"LocationLat\": 31.4208, \"LocationLng\": -110.8458}, {\"LocationLat\": 48.1739, \"LocationLng\": -103.6367}, {\"LocationLat\": 30.5208, \"LocationLng\": -90.4175}, {\"LocationLat\": 33.6123, \"LocationLng\": -111.9232}, {\"LocationLat\": 41.1219, \"LocationLng\": -100.6683}, {\"LocationLat\": 35.0564, \"LocationLng\": -89.9863}, {\"LocationLat\": 33.4829, \"LocationLng\": -90.9856}, {\"LocationLat\": 34.6449, \"LocationLng\": -98.4033}, {\"LocationLat\": 33.631, \"LocationLng\": -85.152}, {\"LocationLat\": 47.451, \"LocationLng\": -99.151}, {\"LocationLat\": 41.1382, \"LocationLng\": -75.3797}, {\"LocationLat\": 48.4709, \"LocationLng\": -122.4209}, {\"LocationLat\": 37.2863, \"LocationLng\": -107.056}, {\"LocationLat\": 34.4031, \"LocationLng\": -80.1192}, {\"LocationLat\": 43.0206, \"LocationLng\": -102.5183}, {\"LocationLat\": 33.6301, \"LocationLng\": -84.4418}, {\"LocationLat\": 37.9538, \"LocationLng\": -107.9085}, {\"LocationLat\": 44.5333, \"LocationLng\": -69.6755}, {\"LocationLat\": 34.2686, \"LocationLng\": -110.002}, {\"LocationLat\": 45.1476, \"LocationLng\": -92.5335}, {\"LocationLat\": 40.0366, \"LocationLng\": -74.3525}, {\"LocationLat\": 46.3476, \"LocationLng\": -104.2594}, {\"LocationLat\": 33.5742, \"LocationLng\": -117.1285}, {\"LocationLat\": 28.0013, \"LocationLng\": -82.1593}, {\"LocationLat\": 32.1667, \"LocationLng\": -110.8833}, {\"LocationLat\": 33.3644, \"LocationLng\": -81.9633}, {\"LocationLat\": 41.448, \"LocationLng\": -97.3426}, {\"LocationLat\": 35.3314, \"LocationLng\": -77.6088}, {\"LocationLat\": 34.6665, \"LocationLng\": -99.2681}, {\"LocationLat\": 40.3723, \"LocationLng\": -83.8192}, {\"LocationLat\": 32.5723, \"LocationLng\": -116.9802}, {\"LocationLat\": 42.0444, \"LocationLng\": -94.7889}, {\"LocationLat\": 44.3227, \"LocationLng\": -94.5024}, {\"LocationLat\": 45.0166, \"LocationLng\": -84.6894}, {\"LocationLat\": 40.4521, \"LocationLng\": -99.3365}, {\"LocationLat\": 37.3805, \"LocationLng\": -120.5682}, {\"LocationLat\": 35.3335, \"LocationLng\": -94.3652}, {\"LocationLat\": 35.947, \"LocationLng\": -114.861}, {\"LocationLat\": 34.6887, \"LocationLng\": -86.0059}, {\"LocationLat\": 29.6334, \"LocationLng\": -83.1054}, {\"LocationLat\": 44.2035, \"LocationLng\": -72.5623}, {\"LocationLat\": 40.5103, \"LocationLng\": -101.6201}, {\"LocationLat\": 33.8222, \"LocationLng\": -116.5043}, {\"LocationLat\": 37.6589, \"LocationLng\": -122.1211}, {\"LocationLat\": 32.8524, \"LocationLng\": -104.4644}, {\"LocationLat\": 30.0494, \"LocationLng\": -90.0289}, {\"LocationLat\": 39.0108, \"LocationLng\": -74.9079}, {\"LocationLat\": 33.0375, \"LocationLng\": -116.9158}, {\"LocationLat\": 33.5655, \"LocationLng\": -86.7449}, {\"LocationLat\": 35.38, \"LocationLng\": -86.246}, {\"LocationLat\": 38.6672, \"LocationLng\": -78.5011}, {\"LocationLat\": 33.9486, \"LocationLng\": -83.3263}, {\"LocationLat\": 40.7939, \"LocationLng\": -73.1017}, {\"LocationLat\": 34.9787, \"LocationLng\": -89.7869}, {\"LocationLat\": 41.5163, \"LocationLng\": -82.8695}, {\"LocationLat\": 37.1325, \"LocationLng\": -76.6088}, {\"LocationLat\": 39.2814, \"LocationLng\": -76.6111}, {\"LocationLat\": 37.0639, \"LocationLng\": -89.2232}, {\"LocationLat\": 39.2119, \"LocationLng\": -82.2293}, {\"LocationLat\": 34.6082, \"LocationLng\": -79.059}, {\"LocationLat\": 29.2653, \"LocationLng\": -94.8604}, {\"LocationLat\": 40.4812, \"LocationLng\": -107.2177}, {\"LocationLat\": 47.7069, \"LocationLng\": -104.1926}, {\"LocationLat\": 38.5315, \"LocationLng\": -121.7865}, {\"LocationLat\": 34.5453, \"LocationLng\": -94.2025}, {\"LocationLat\": 44.9412, \"LocationLng\": -73.0997}, {\"LocationLat\": 47.3258, \"LocationLng\": -106.9475}, {\"LocationLat\": 35.7259, \"LocationLng\": -91.6518}, {\"LocationLat\": 37.1838, \"LocationLng\": -77.5074}, {\"LocationLat\": 34.4737, \"LocationLng\": -85.7214}, {\"LocationLat\": 30.3207, \"LocationLng\": -97.7601}, {\"LocationLat\": 40.9467, \"LocationLng\": -91.5111}, {\"LocationLat\": 36.4367, \"LocationLng\": -99.5208}, {\"LocationLat\": 25.9995, \"LocationLng\": -80.2412}, {\"LocationLat\": 34.9752, \"LocationLng\": -78.3628}, {\"LocationLat\": 37.2833, \"LocationLng\": -102.6139}, {\"LocationLat\": 39.5078, \"LocationLng\": -119.7682}, {\"LocationLat\": 36.695, \"LocationLng\": -76.1356}, {\"LocationLat\": 39.9194, \"LocationLng\": -76.8769}, {\"LocationLat\": 41.1695, \"LocationLng\": -71.5787}, {\"LocationLat\": 38.7213, \"LocationLng\": -88.1799}, {\"LocationLat\": 33.2544, \"LocationLng\": -97.5806}, {\"LocationLat\": 37.7626, \"LocationLng\": -90.4293}, {\"LocationLat\": 32.2593, \"LocationLng\": -107.7205}, {\"LocationLat\": 41.2406, \"LocationLng\": -96.5946}, {\"LocationLat\": 45.9746, \"LocationLng\": -86.1718}, {\"LocationLat\": 29.1154, \"LocationLng\": -95.4632}, {\"LocationLat\": 44.3342, \"LocationLng\": -89.0202}, {\"LocationLat\": 36.8792, \"LocationLng\": -91.9052}, {\"LocationLat\": 37.0318, \"LocationLng\": -85.9537}, {\"LocationLat\": 38.7214, \"LocationLng\": -77.5154}, {\"LocationLat\": 46.2532, \"LocationLng\": -84.4771}, {\"LocationLat\": 47.4447, \"LocationLng\": -122.3144}, {\"LocationLat\": 40.8203, \"LocationLng\": -82.5178}, {\"LocationLat\": 42.5841, \"LocationLng\": -70.9153}, {\"LocationLat\": 34.9054, \"LocationLng\": -117.8837}, {\"LocationLat\": 46.8404, \"LocationLng\": -96.6544}, {\"LocationLat\": 30.9119, \"LocationLng\": -102.9167}, {\"LocationLat\": 42.6632, \"LocationLng\": -83.4101}, {\"LocationLat\": 33.1753, \"LocationLng\": -97.8283}, {\"LocationLat\": 39.0503, \"LocationLng\": -105.5144}, {\"LocationLat\": 40.5176, \"LocationLng\": -90.6481}, {\"LocationLat\": 44.2595, \"LocationLng\": -88.5157}, {\"LocationLat\": 40.8217, \"LocationLng\": -72.8689}, {\"LocationLat\": 44.4804, \"LocationLng\": -103.788}, {\"LocationLat\": 42.9931, \"LocationLng\": -84.1389}, {\"LocationLat\": 33.972, \"LocationLng\": -80.9938}, {\"LocationLat\": 40.3013, \"LocationLng\": -96.7541}, {\"LocationLat\": 33.3013, \"LocationLng\": -117.3551}, {\"LocationLat\": 41.9619, \"LocationLng\": -100.5689}, {\"LocationLat\": 38.7074, \"LocationLng\": -93.1759}, {\"LocationLat\": 46.9112, \"LocationLng\": -96.8147}, {\"LocationLat\": 44.3592, \"LocationLng\": -89.8369}, {\"LocationLat\": 38.5261, \"LocationLng\": -77.8574}, {\"LocationLat\": 33.535, \"LocationLng\": -112.3832}, {\"LocationLat\": 36.9645, \"LocationLng\": -86.4197}, {\"LocationLat\": 42.6832, \"LocationLng\": -91.9759}, {\"LocationLat\": 26.1758, \"LocationLng\": -98.2386}, {\"LocationLat\": 40.6615, \"LocationLng\": -91.3267}, {\"LocationLat\": 43.0194, \"LocationLng\": -91.1211}, {\"LocationLat\": 38.239, \"LocationLng\": -108.5668}, {\"LocationLat\": 42.2419, \"LocationLng\": -96.9814}, {\"LocationLat\": 38.3566, \"LocationLng\": -93.6842}, {\"LocationLat\": 37.4495, \"LocationLng\": -94.7311}, {\"LocationLat\": 32.8274, \"LocationLng\": -116.9737}, {\"LocationLat\": 40.5716, \"LocationLng\": -102.2768}, {\"LocationLat\": 38.5876, \"LocationLng\": -77.715}, {\"LocationLat\": 35.9499, \"LocationLng\": -96.7731}, {\"LocationLat\": 34.7675, \"LocationLng\": -114.6189}, {\"LocationLat\": 39.4166, \"LocationLng\": -118.701}, {\"LocationLat\": 35.4147, \"LocationLng\": -97.3866}, {\"LocationLat\": 40.3268, \"LocationLng\": -82.5201}, {\"LocationLat\": 27.7685, \"LocationLng\": -82.6256}, {\"LocationLat\": 37.0442, \"LocationLng\": -100.9599}, {\"LocationLat\": 39.6083, \"LocationLng\": -77.0077}, {\"LocationLat\": 31.8612, \"LocationLng\": -106.3692}, {\"LocationLat\": 36.78, \"LocationLng\": -119.7194}, {\"LocationLat\": 43.4285, \"LocationLng\": -88.7017}, {\"LocationLat\": 47.4951, \"LocationLng\": -122.2144}, {\"LocationLat\": 42.4908, \"LocationLng\": -76.4583}, {\"LocationLat\": 42.2121, \"LocationLng\": -71.1142}, {\"LocationLat\": 40.5704, \"LocationLng\": -75.4894}, {\"LocationLat\": 39.2966, \"LocationLng\": -80.2281}, {\"LocationLat\": 39.1033, \"LocationLng\": -84.4186}, {\"LocationLat\": 44.6381, \"LocationLng\": -90.1875}, {\"LocationLat\": 40.1061, \"LocationLng\": -85.6098}, {\"LocationLat\": 30.1256, \"LocationLng\": -93.2277}, {\"LocationLat\": 39.7852, \"LocationLng\": -104.5431}, {\"LocationLat\": 33.8784, \"LocationLng\": -84.298}, {\"LocationLat\": 40.8193, \"LocationLng\": -76.8658}, {\"LocationLat\": 44.9047, \"LocationLng\": -97.1494}, {\"LocationLat\": 39.1733, \"LocationLng\": -76.684}, {\"LocationLat\": 31.6159, \"LocationLng\": -91.2972}, {\"LocationLat\": 42.8984, \"LocationLng\": -72.2708}, {\"LocationLat\": 41.3119, \"LocationLng\": -95.9018}, {\"LocationLat\": 32.781, \"LocationLng\": -97.4365}, {\"LocationLat\": 40.2895, \"LocationLng\": -88.1473}, {\"LocationLat\": 35.643, \"LocationLng\": -91.1735}, {\"LocationLat\": 32.2244, \"LocationLng\": -80.6975}, {\"LocationLat\": 38.0887, \"LocationLng\": -88.1213}, {\"LocationLat\": 36.605, \"LocationLng\": -94.7383}, {\"LocationLat\": 36.0296, \"LocationLng\": -119.0627}, {\"LocationLat\": 39.8453, \"LocationLng\": -89.684}, {\"LocationLat\": 34.9896, \"LocationLng\": -78.8801}, {\"LocationLat\": 33.4669, \"LocationLng\": -82.0384}, {\"LocationLat\": 33.7611, \"LocationLng\": -90.7579}, {\"LocationLat\": 37.3711, \"LocationLng\": -118.3581}, {\"LocationLat\": 40.8534, \"LocationLng\": -77.8401}, {\"LocationLat\": 35.919, \"LocationLng\": -75.6955}, {\"LocationLat\": 39.2415, \"LocationLng\": -102.2819}, {\"LocationLat\": 36.4042, \"LocationLng\": -90.6479}, {\"LocationLat\": 44.8936, \"LocationLng\": -91.8665}, {\"LocationLat\": 42.375, \"LocationLng\": -122.877}, {\"LocationLat\": 28.4676, \"LocationLng\": -80.5666}, {\"LocationLat\": 31.9888, \"LocationLng\": -83.7739}, {\"LocationLat\": 45.1566, \"LocationLng\": -89.1114}, {\"LocationLat\": 43.5727, \"LocationLng\": -71.4189}, {\"LocationLat\": 37.9071, \"LocationLng\": -85.9721}, {\"LocationLat\": 45.6976, \"LocationLng\": -118.8344}, {\"LocationLat\": 41.7367, \"LocationLng\": -72.6494}, {\"LocationLat\": 32.2153, \"LocationLng\": -98.1777}, {\"LocationLat\": 46.2443, \"LocationLng\": -96.6072}, {\"LocationLat\": 40.0444, \"LocationLng\": -107.8883}, {\"LocationLat\": 38.2472, \"LocationLng\": -78.0456}, {\"LocationLat\": 27.6926, \"LocationLng\": -97.2911}, {\"LocationLat\": 40.238, \"LocationLng\": -75.5549}, {\"LocationLat\": 43.7331, \"LocationLng\": -103.6114}, {\"LocationLat\": 41.672, \"LocationLng\": -70.2697}, {\"LocationLat\": 34.8487, \"LocationLng\": -82.35}, {\"LocationLat\": 34.7217, \"LocationLng\": -84.8689}, {\"LocationLat\": 47.2675, \"LocationLng\": -122.5761}, {\"LocationLat\": 34.3843, \"LocationLng\": -89.5368}, {\"LocationLat\": 37.3169, \"LocationLng\": -79.9742}, {\"LocationLat\": 35.1314, \"LocationLng\": -78.9316}, {\"LocationLat\": 33.3078, \"LocationLng\": -111.6555}, {\"LocationLat\": 31.3975, \"LocationLng\": -84.8948}, {\"LocationLat\": 39.8435, \"LocationLng\": -85.8971}, {\"LocationLat\": 34.295, \"LocationLng\": -103.786}, {\"LocationLat\": 36.2898, \"LocationLng\": -94.3114}, {\"LocationLat\": 33.7172, \"LocationLng\": -79.857}, {\"LocationLat\": 33.6509, \"LocationLng\": -81.6821}, {\"LocationLat\": 37.6469, \"LocationLng\": -75.7611}, {\"LocationLat\": 34.5071, \"LocationLng\": -81.9472}, {\"LocationLat\": 39.8138, \"LocationLng\": -82.9278}, {\"LocationLat\": 36.9062, \"LocationLng\": -94.0128}, {\"LocationLat\": 44.3207, \"LocationLng\": -69.7973}, {\"LocationLat\": 32.8198, \"LocationLng\": -97.3624}, {\"LocationLat\": 45.5958, \"LocationLng\": -122.6092}, {\"LocationLat\": 38.9297, \"LocationLng\": -90.43}, {\"LocationLat\": 34.5467, \"LocationLng\": -93.5781}, {\"LocationLat\": 30.8137, \"LocationLng\": -89.865}, {\"LocationLat\": 33.1783, \"LocationLng\": -86.7817}, {\"LocationLat\": 36.9375, \"LocationLng\": -76.2893}, {\"LocationLat\": 48.4612, \"LocationLng\": -119.5209}, {\"LocationLat\": 38.2887, \"LocationLng\": -104.5057}, {\"LocationLat\": 29.8958, \"LocationLng\": -97.8664}, {\"LocationLat\": 29.343, \"LocationLng\": -98.8497}, {\"LocationLat\": 33.9786, \"LocationLng\": -98.4928}, {\"LocationLat\": 47.7453, \"LocationLng\": -90.3457}, {\"LocationLat\": 41.6101, \"LocationLng\": -84.1272}, {\"LocationLat\": 46.5275, \"LocationLng\": -90.1314}, {\"LocationLat\": 41.9842, \"LocationLng\": -95.38}, {\"LocationLat\": 45.8069, \"LocationLng\": -108.5422}, {\"LocationLat\": 43.1167, \"LocationLng\": -77.6767}, {\"LocationLat\": 33.9133, \"LocationLng\": -94.8546}, {\"LocationLat\": 37.8606, \"LocationLng\": -76.9016}, {\"LocationLat\": 28.5148, \"LocationLng\": -80.7992}, {\"LocationLat\": 34.2997, \"LocationLng\": -90.5123}, {\"LocationLat\": 39.979, \"LocationLng\": -75.8655}, {\"LocationLat\": 33.7776, \"LocationLng\": -84.5246}, {\"LocationLat\": 41.4059, \"LocationLng\": -95.0465}, {\"LocationLat\": 29.5189, \"LocationLng\": -95.2417}, {\"LocationLat\": 39.7062, \"LocationLng\": -77.7304}, {\"LocationLat\": 41.7033, \"LocationLng\": -86.8212}, {\"LocationLat\": 30.1838, \"LocationLng\": -82.5684}, {\"LocationLat\": 40.8941, \"LocationLng\": -97.9946}, {\"LocationLat\": 34.8468, \"LocationLng\": -111.7884}, {\"LocationLat\": 41.3989, \"LocationLng\": -92.9431}, {\"LocationLat\": 38.4844, \"LocationLng\": -106.3169}, {\"LocationLat\": 38.286, \"LocationLng\": -76.4118}, {\"LocationLat\": 29.6073, \"LocationLng\": -95.1587}, {\"LocationLat\": 33.4204, \"LocationLng\": -112.6862}, {\"LocationLat\": 32.6753, \"LocationLng\": -102.6527}, {\"LocationLat\": 29.3009, \"LocationLng\": -81.111}, {\"LocationLat\": 46.0303, \"LocationLng\": -91.4426}, {\"LocationLat\": 41.3941, \"LocationLng\": -110.4059}, {\"LocationLat\": 43.1683, \"LocationLng\": -95.2101}, {\"LocationLat\": 39.6089, \"LocationLng\": -110.7555}, {\"LocationLat\": 43.964, \"LocationLng\": -69.7108}, {\"LocationLat\": 34.6811, \"LocationLng\": -90.3467}, {\"LocationLat\": 39.0446, \"LocationLng\": -84.6723}, {\"LocationLat\": 46.7825, \"LocationLng\": -100.7572}, {\"LocationLat\": 36.3724, \"LocationLng\": -94.107}, {\"LocationLat\": 30.7311, \"LocationLng\": -86.1538}, {\"LocationLat\": 47.8404, \"LocationLng\": -96.6201}, {\"LocationLat\": 40.2031, \"LocationLng\": -87.5897}, {\"LocationLat\": 44.2495, \"LocationLng\": -95.6119}, {\"LocationLat\": 46.99, \"LocationLng\": -94.2039}, {\"LocationLat\": 36.009, \"LocationLng\": -86.5201}, {\"LocationLat\": 37.6928, \"LocationLng\": -121.8144}, {\"LocationLat\": 46.549, \"LocationLng\": -93.6757}, {\"LocationLat\": 33.872, \"LocationLng\": -117.9798}, {\"LocationLat\": 35.8929, \"LocationLng\": -100.4046}, {\"LocationLat\": 33.9154, \"LocationLng\": -84.5163}, {\"LocationLat\": 40.6162, \"LocationLng\": -74.2451}, {\"LocationLat\": 28.7797, \"LocationLng\": -81.2436}, {\"LocationLat\": 44.8888, \"LocationLng\": -72.2292}, {\"LocationLat\": 43.6688, \"LocationLng\": -92.932}, {\"LocationLat\": 35.6854, \"LocationLng\": -117.692}, {\"LocationLat\": 34.694, \"LocationLng\": -77.0294}, {\"LocationLat\": 44.0772, \"LocationLng\": -91.7083}, {\"LocationLat\": 41.7432, \"LocationLng\": -89.6655}, {\"LocationLat\": 45.4646, \"LocationLng\": -69.5538}, {\"LocationLat\": 38.8391, \"LocationLng\": -99.2742}, {\"LocationLat\": 33.912, \"LocationLng\": -84.941}, {\"LocationLat\": 44.3812, \"LocationLng\": -106.7195}, {\"LocationLat\": 42.6439, \"LocationLng\": -77.053}, {\"LocationLat\": 37.4066, \"LocationLng\": -77.5224}, {\"LocationLat\": 36.33, \"LocationLng\": -77.635}, {\"LocationLat\": 36.8933, \"LocationLng\": -121.4103}, {\"LocationLat\": 30.7439, \"LocationLng\": -95.5861}, {\"LocationLat\": 45.6963, \"LocationLng\": -92.9542}, {\"LocationLat\": 29.7239, \"LocationLng\": -98.6946}, {\"LocationLat\": 39.4037, \"LocationLng\": -77.975}, {\"LocationLat\": 46.768, \"LocationLng\": -100.894}, {\"LocationLat\": 42.7317, \"LocationLng\": -95.5558}, {\"LocationLat\": 42.7461, \"LocationLng\": -86.0967}, {\"LocationLat\": 45.6983, \"LocationLng\": -110.4408}, {\"LocationLat\": 33.1779, \"LocationLng\": -96.5905}, {\"LocationLat\": 39.1295, \"LocationLng\": -75.466}, {\"LocationLat\": 45.2353, \"LocationLng\": -93.9896}, {\"LocationLat\": 33.9228, \"LocationLng\": -118.3352}, {\"LocationLat\": 47.2855, \"LocationLng\": -68.3127}, {\"LocationLat\": 43.9625, \"LocationLng\": -86.4079}, {\"LocationLat\": 47.6828, \"LocationLng\": -117.3226}, {\"LocationLat\": 30.2347, \"LocationLng\": -81.6746}, {\"LocationLat\": 33.8285, \"LocationLng\": -79.1222}, {\"LocationLat\": 35.1653, \"LocationLng\": -107.9021}, {\"LocationLat\": 38.9554, \"LocationLng\": -121.0864}, {\"LocationLat\": 27.8947, \"LocationLng\": -98.0425}, {\"LocationLat\": 31.3824, \"LocationLng\": -103.5107}, {\"LocationLat\": 35.9643, \"LocationLng\": -89.9439}, {\"LocationLat\": 42.6196, \"LocationLng\": -89.5931}, {\"LocationLat\": 42.47, \"LocationLng\": -98.688}, {\"LocationLat\": 38.1005, \"LocationLng\": -92.5474}, {\"LocationLat\": 44.8322, \"LocationLng\": -93.4705}, {\"LocationLat\": 46.7438, \"LocationLng\": -117.1158}, {\"LocationLat\": 37.5119, \"LocationLng\": -122.2483}, {\"LocationLat\": 33.3074, \"LocationLng\": -104.5082}, {\"LocationLat\": 38.8309, \"LocationLng\": -94.8903}, {\"LocationLat\": 45.468, \"LocationLng\": -89.8096}, {\"LocationLat\": 36.6169, \"LocationLng\": -87.4117}, {\"LocationLat\": 35.5544, \"LocationLng\": -87.1791}, {\"LocationLat\": 30.4104, \"LocationLng\": -88.9244}, {\"LocationLat\": 34.0314, \"LocationLng\": -95.5398}, {\"LocationLat\": 41.5092, \"LocationLng\": -74.265}, {\"LocationLat\": 32.825, \"LocationLng\": -115.6606}, {\"LocationLat\": 43.3939, \"LocationLng\": -70.708}, {\"LocationLat\": 41.8965, \"LocationLng\": -88.2512}, {\"LocationLat\": 29.6917, \"LocationLng\": -82.276}, {\"LocationLat\": 47.7912, \"LocationLng\": -99.9317}, {\"LocationLat\": 42.5453, \"LocationLng\": -113.7686}, {\"LocationLat\": 38.6784, \"LocationLng\": -104.7566}, {\"LocationLat\": 34.4227, \"LocationLng\": -103.0802}, {\"LocationLat\": 32.6151, \"LocationLng\": -85.434}, {\"LocationLat\": 34.0263, \"LocationLng\": -106.9037}, {\"LocationLat\": 43.4319, \"LocationLng\": -83.8648}, {\"LocationLat\": 24.5801, \"LocationLng\": -81.6829}, {\"LocationLat\": 38.6093, \"LocationLng\": -87.7251}, {\"LocationLat\": 45.3106, \"LocationLng\": -91.6381}, {\"LocationLat\": 36.0528, \"LocationLng\": -85.5359}, {\"LocationLat\": 37.3539, \"LocationLng\": -78.4372}, {\"LocationLat\": 42.6909, \"LocationLng\": -90.4412}, {\"LocationLat\": 43.6271, \"LocationLng\": -72.3054}, {\"LocationLat\": 45.3725, \"LocationLng\": -94.7388}, {\"LocationLat\": 44.6252, \"LocationLng\": -93.2273}, {\"LocationLat\": 39.6443, \"LocationLng\": -106.9144}, {\"LocationLat\": 41.5324, \"LocationLng\": -71.2815}, {\"LocationLat\": 29.9761, \"LocationLng\": -92.0825}, {\"LocationLat\": 30.3935, \"LocationLng\": -84.3513}, {\"LocationLat\": 30.3707, \"LocationLng\": -104.0118}, {\"LocationLat\": 45.4186, \"LocationLng\": -91.7764}, {\"LocationLat\": 32.3003, \"LocationLng\": -86.4061}, {\"LocationLat\": 39.9008, \"LocationLng\": -105.1042}, {\"LocationLat\": 39.1167, \"LocationLng\": -94.6}, {\"LocationLat\": 37.6196, \"LocationLng\": -122.3656}, {\"LocationLat\": 40.1838, \"LocationLng\": -112.9217}, {\"LocationLat\": 44.4971, \"LocationLng\": -123.2895}, {\"LocationLat\": 30.1945, \"LocationLng\": -97.6699}, {\"LocationLat\": 37.3363, \"LocationLng\": -88.1097}, {\"LocationLat\": 35.8517, \"LocationLng\": -97.4142}, {\"LocationLat\": 48.0171, \"LocationLng\": -92.8538}, {\"LocationLat\": 47.3804, \"LocationLng\": -92.8324}, {\"LocationLat\": 39.4177, \"LocationLng\": -77.3698}, {\"LocationLat\": 41.4057, \"LocationLng\": -81.8519}, {\"LocationLat\": 44.0142, \"LocationLng\": -117.0081}, {\"LocationLat\": 35.2805, \"LocationLng\": -116.63}, {\"LocationLat\": 44.0435, \"LocationLng\": -89.304}, {\"LocationLat\": 47.29, \"LocationLng\": -101.581}, {\"LocationLat\": 35.2135, \"LocationLng\": -91.7393}, {\"LocationLat\": 40.9725, \"LocationLng\": -85.2064}, {\"LocationLat\": 28.8214, \"LocationLng\": -81.8096}, {\"LocationLat\": 33.8977, \"LocationLng\": -117.6024}, {\"LocationLat\": 42.0744, \"LocationLng\": -70.2182}, {\"LocationLat\": 45.9309, \"LocationLng\": -89.267}, {\"LocationLat\": 29.2113, \"LocationLng\": -99.7436}, {\"LocationLat\": 35.6558, \"LocationLng\": -105.1385}, {\"LocationLat\": 28.9562, \"LocationLng\": -98.5184}, {\"LocationLat\": 31.429, \"LocationLng\": -83.489}, {\"LocationLat\": 34.6069, \"LocationLng\": -120.0756}, {\"LocationLat\": 41.8906, \"LocationLng\": -89.0817}, {\"LocationLat\": 34.9994, \"LocationLng\": -77.98}, {\"LocationLat\": 34.7326, \"LocationLng\": -76.6566}, {\"LocationLat\": 45.4256, \"LocationLng\": -84.9133}, {\"LocationLat\": 34.8972, \"LocationLng\": -76.8813}, {\"LocationLat\": 47.5076, \"LocationLng\": -94.9278}, {\"LocationLat\": 36.6824, \"LocationLng\": -76.6019}, {\"LocationLat\": 44.9276, \"LocationLng\": -89.6251}, {\"LocationLat\": 44.3659, \"LocationLng\": -71.5522}, {\"LocationLat\": 30.4412, \"LocationLng\": -93.4735}, {\"LocationLat\": 34.3828, \"LocationLng\": -103.3221}, {\"LocationLat\": 41.3279, \"LocationLng\": -72.0489}, {\"LocationLat\": 34.3444, \"LocationLng\": -98.9831}, {\"LocationLat\": 30.735, \"LocationLng\": -101.203}, {\"LocationLat\": 28.9731, \"LocationLng\": -95.8633}, {\"LocationLat\": 44.6153, \"LocationLng\": -88.7313}, {\"LocationLat\": 30.7183, \"LocationLng\": -91.4787}, {\"LocationLat\": 38.7869, \"LocationLng\": -108.0658}, {\"LocationLat\": 44.5804, \"LocationLng\": -124.0579}, {\"LocationLat\": 43.5814, \"LocationLng\": -90.8997}, {\"LocationLat\": 44.0485, \"LocationLng\": -70.2835}, {\"LocationLat\": 36.6985, \"LocationLng\": -93.4022}, {\"LocationLat\": 27.4014, \"LocationLng\": -82.5586}, {\"LocationLat\": 41.7225, \"LocationLng\": -71.4325}, {\"LocationLat\": 42.3508, \"LocationLng\": -86.2561}, {\"LocationLat\": 30.1314, \"LocationLng\": -93.3761}, {\"LocationLat\": 35.2556, \"LocationLng\": -81.5986}, {\"LocationLat\": 36.9211, \"LocationLng\": -111.4487}, {\"LocationLat\": 25.6423, \"LocationLng\": -80.4347}, {\"LocationLat\": 43.9911, \"LocationLng\": -70.9479}, {\"LocationLat\": 32.8645, \"LocationLng\": -117.1366}, {\"LocationLat\": 42.8875, \"LocationLng\": -90.2315}, {\"LocationLat\": 31.4767, \"LocationLng\": -82.8606}, {\"LocationLat\": 43.7224, \"LocationLng\": -85.4977}, {\"LocationLat\": 45.3047, \"LocationLng\": -85.2747}, {\"LocationLat\": 40.8731, \"LocationLng\": -81.8867}, {\"LocationLat\": 41.1111, \"LocationLng\": -111.9623}, {\"LocationLat\": 34.315, \"LocationLng\": -81.109}, {\"LocationLat\": 39.224, \"LocationLng\": -121.003}, {\"LocationLat\": 42.0454, \"LocationLng\": -90.1101}, {\"LocationLat\": 31.0849, \"LocationLng\": -83.8033}, {\"LocationLat\": 39.4256, \"LocationLng\": -107.3792}, {\"LocationLat\": 36.6883, \"LocationLng\": -78.0545}, {\"LocationLat\": 35.5381, \"LocationLng\": -98.9336}, {\"LocationLat\": 46.619, \"LocationLng\": -93.3127}, {\"LocationLat\": 35.1969, \"LocationLng\": -81.1555}, {\"LocationLat\": 34.0532, \"LocationLng\": -117.5768}, {\"LocationLat\": 38.0339, \"LocationLng\": -84.6115}, {\"LocationLat\": 45.9884, \"LocationLng\": -95.9935}, {\"LocationLat\": 33.4668, \"LocationLng\": -105.5278}, {\"LocationLat\": 45.7881, \"LocationLng\": -111.1608}, {\"LocationLat\": 38.3796, \"LocationLng\": -88.4135}, {\"LocationLat\": 26.9185, \"LocationLng\": -81.9939}, {\"LocationLat\": 38.7242, \"LocationLng\": -120.7533}, {\"LocationLat\": 31.2767, \"LocationLng\": -85.711}, {\"LocationLat\": 37.8065, \"LocationLng\": -87.6823}, {\"LocationLat\": 37.8583, \"LocationLng\": -80.3995}, {\"LocationLat\": 43.6128, \"LocationLng\": -110.737}, {\"LocationLat\": 34.9878, \"LocationLng\": -81.0572}, {\"LocationLat\": 35.8192, \"LocationLng\": -81.6097}, {\"LocationLat\": 29.805, \"LocationLng\": -95.8979}, {\"LocationLat\": 36.3024, \"LocationLng\": -119.9397}, {\"LocationLat\": 36.6207, \"LocationLng\": -116.0287}, {\"LocationLat\": 32.719, \"LocationLng\": -98.891}, {\"LocationLat\": 41.9208, \"LocationLng\": -71.4914}, {\"LocationLat\": 31.4213, \"LocationLng\": -97.797}, {\"LocationLat\": 30.5881, \"LocationLng\": -96.3639}, {\"LocationLat\": 39.6499, \"LocationLng\": -79.9206}, {\"LocationLat\": 41.0136, \"LocationLng\": -83.6686}, {\"LocationLat\": 45.5476, \"LocationLng\": -122.9557}, {\"LocationLat\": 35.6575, \"LocationLng\": -109.0614}, {\"LocationLat\": 48.726, \"LocationLng\": -116.295}, {\"LocationLat\": 40.1743, \"LocationLng\": -103.2146}, {\"LocationLat\": 44.7794, \"LocationLng\": -89.671}, {\"LocationLat\": 42.938, \"LocationLng\": -85.0605}, {\"LocationLat\": 33.9727, \"LocationLng\": -80.4706}, {\"LocationLat\": 41.4316, \"LocationLng\": -88.4152}, {\"LocationLat\": 36.7801, \"LocationLng\": -76.4488}, {\"LocationLat\": 41.778, \"LocationLng\": -80.6955}, {\"LocationLat\": 37.0829, \"LocationLng\": -76.3605}, {\"LocationLat\": 36.7732, \"LocationLng\": -98.6699}, {\"LocationLat\": 37.2839, \"LocationLng\": -98.5528}, {\"LocationLat\": 35.6374, \"LocationLng\": -77.3851}, {\"LocationLat\": 36.3989, \"LocationLng\": -76.0164}, {\"LocationLat\": 32.835, \"LocationLng\": -97.2986}, {\"LocationLat\": 32.3197, \"LocationLng\": -90.0775}, {\"LocationLat\": 41.7253, \"LocationLng\": -106.4594}, {\"LocationLat\": 39.0083, \"LocationLng\": -95.2117}, {\"LocationLat\": 40.2247, \"LocationLng\": -83.3516}, {\"LocationLat\": 32.5521, \"LocationLng\": -88.5556}, {\"LocationLat\": 30.8317, \"LocationLng\": -93.3399}, {\"LocationLat\": 30.9791, \"LocationLng\": -83.1925}, {\"LocationLat\": 36.1986, \"LocationLng\": -81.6517}, {\"LocationLat\": 44.843, \"LocationLng\": -117.8099}, {\"LocationLat\": 35.4728, \"LocationLng\": -98.0058}, {\"LocationLat\": 40.1493, \"LocationLng\": -97.5872}, {\"LocationLat\": 37.2457, \"LocationLng\": -93.3886}, {\"LocationLat\": 36.9827, \"LocationLng\": -77.0014}, {\"LocationLat\": 39.589, \"LocationLng\": -84.2249}, {\"LocationLat\": 42.2475, \"LocationLng\": -89.581}, {\"LocationLat\": 48.1219, \"LocationLng\": -123.5066}, {\"LocationLat\": 32.567, \"LocationLng\": -84.251}, {\"LocationLat\": 44.6803, \"LocationLng\": -84.7289}, {\"LocationLat\": 33.8606, \"LocationLng\": -98.4904}, {\"LocationLat\": 29.3389, \"LocationLng\": -98.4717}, {\"LocationLat\": 34.7111, \"LocationLng\": -97.2233}, {\"LocationLat\": 35.4319, \"LocationLng\": -82.5375}, {\"LocationLat\": 37.6004, \"LocationLng\": -81.5593}, {\"LocationLat\": 41.1992, \"LocationLng\": -74.6259}, {\"LocationLat\": 40.4719, \"LocationLng\": -81.4236}, {\"LocationLat\": 39.6014, \"LocationLng\": -116.0056}, {\"LocationLat\": 31.2359, \"LocationLng\": -94.7546}, {\"LocationLat\": 42.2367, \"LocationLng\": -83.5264}, {\"LocationLat\": 43.1153, \"LocationLng\": -89.5311}, {\"LocationLat\": 42.0986, \"LocationLng\": -83.1611}, {\"LocationLat\": 30.3564, \"LocationLng\": -87.3233}, {\"LocationLat\": 46.0072, \"LocationLng\": -83.7427}, {\"LocationLat\": 30.8857, \"LocationLng\": -94.0349}, {\"LocationLat\": 40.0117, \"LocationLng\": -105.0503}, {\"LocationLat\": 39.9408, \"LocationLng\": -74.8407}, {\"LocationLat\": 39.7133, \"LocationLng\": -104.7581}, {\"LocationLat\": 41.6701, \"LocationLng\": -93.019}, {\"LocationLat\": 40.6306, \"LocationLng\": -93.9008}, {\"LocationLat\": 36.5905, \"LocationLng\": -121.8487}, {\"LocationLat\": 36.3115, \"LocationLng\": -119.6231}, {\"LocationLat\": 43.7748, \"LocationLng\": -98.0386}, {\"LocationLat\": 33.227, \"LocationLng\": -84.275}, {\"LocationLat\": 41.4489, \"LocationLng\": -96.52}, {\"LocationLat\": 45.1984, \"LocationLng\": -89.71}, {\"LocationLat\": 36.8593, \"LocationLng\": -83.3585}, {\"LocationLat\": 46.677, \"LocationLng\": -122.9827}, {\"LocationLat\": 41.0375, \"LocationLng\": -81.4642}, {\"LocationLat\": 30.2106, \"LocationLng\": -93.1432}, {\"LocationLat\": 30.2115, \"LocationLng\": -91.981}, {\"LocationLat\": 32.5652, \"LocationLng\": -97.3081}, {\"LocationLat\": 43.5264, \"LocationLng\": -89.981}, {\"LocationLat\": 41.3335, \"LocationLng\": -75.7227}, {\"LocationLat\": 35.3567, \"LocationLng\": -89.8703}, {\"LocationLat\": 39.8403, \"LocationLng\": -83.8402}, {\"LocationLat\": 40.2192, \"LocationLng\": -111.7234}, {\"LocationLat\": 42.7126, \"LocationLng\": -71.1255}, {\"LocationLat\": 36.3444, \"LocationLng\": -94.2211}, {\"LocationLat\": 39.3325, \"LocationLng\": -94.3096}, {\"LocationLat\": 31.1522, \"LocationLng\": -81.3908}, {\"LocationLat\": 37.1431, \"LocationLng\": -107.7602}, {\"LocationLat\": 46.564, \"LocationLng\": -120.5348}, {\"LocationLat\": 34.7439, \"LocationLng\": -87.5996}, {\"LocationLat\": 35.9404, \"LocationLng\": -89.8308}, {\"LocationLat\": 33.8034, \"LocationLng\": -118.3396}, {\"LocationLat\": 28.6516, \"LocationLng\": -96.682}, {\"LocationLat\": 41.5173, \"LocationLng\": -81.6832}, {\"LocationLat\": 43.9855, \"LocationLng\": -73.0955}, {\"LocationLat\": 41.1409, \"LocationLng\": -104.8691}, {\"LocationLat\": 42.7472, \"LocationLng\": -73.7991}, {\"LocationLat\": 35.2225, \"LocationLng\": -80.9543}, {\"LocationLat\": 40.7794, \"LocationLng\": -73.8803}, {\"LocationLat\": 41.2261, \"LocationLng\": -92.4938}, {\"LocationLat\": 39.1353, \"LocationLng\": -96.6778}, {\"LocationLat\": 38.8728, \"LocationLng\": -98.8131}, {\"LocationLat\": 26.199, \"LocationLng\": -80.1776}, {\"LocationLat\": 37.1322, \"LocationLng\": -76.494}, {\"LocationLat\": 30.4953, \"LocationLng\": -81.6937}, {\"LocationLat\": 41.2752, \"LocationLng\": -91.6748}, {\"LocationLat\": 27.5031, \"LocationLng\": -97.8117}, {\"LocationLat\": 41.0231, \"LocationLng\": -89.3885}, {\"LocationLat\": 35.5342, \"LocationLng\": -97.6471}, {\"LocationLat\": 41.8295, \"LocationLng\": -90.3328}, {\"LocationLat\": 46.3745, \"LocationLng\": -117.0154}, {\"LocationLat\": 38.3775, \"LocationLng\": -121.9585}, {\"LocationLat\": 29.9592, \"LocationLng\": -81.341}, {\"LocationLat\": 48.3042, \"LocationLng\": -114.2636}, {\"LocationLat\": 45.5442, \"LocationLng\": -94.0516}, {\"LocationLat\": 41.7222, \"LocationLng\": -86.0001}, {\"LocationLat\": 44.0203, \"LocationLng\": -92.8295}, {\"LocationLat\": 39.0784, \"LocationLng\": -84.2102}, {\"LocationLat\": 42.9167, \"LocationLng\": -97.3859}, {\"LocationLat\": 29.3742, \"LocationLng\": -100.9272}, {\"LocationLat\": 32.3348, \"LocationLng\": -90.2225}, {\"LocationLat\": 31.6056, \"LocationLng\": -110.4281}, {\"LocationLat\": 29.6342, \"LocationLng\": -104.3615}, {\"LocationLat\": 36.0182, \"LocationLng\": -75.6713}, {\"LocationLat\": 43.1406, \"LocationLng\": -89.3453}, {\"LocationLat\": 34.2119, \"LocationLng\": -119.0916}, {\"LocationLat\": 36.7451, \"LocationLng\": -97.3496}, {\"LocationLat\": 32.5144, \"LocationLng\": -92.5883}, {\"LocationLat\": 30.3564, \"LocationLng\": -95.008}, {\"LocationLat\": 33.8118, \"LocationLng\": -118.1472}, {\"LocationLat\": 25.9102, \"LocationLng\": -80.2828}, {\"LocationLat\": 43.2348, \"LocationLng\": -93.6241}, {\"LocationLat\": 38.56, \"LocationLng\": -121.284}, {\"LocationLat\": 39.8733, \"LocationLng\": -75.2268}, {\"LocationLat\": 30.3959, \"LocationLng\": -81.4229}, {\"LocationLat\": 35.1351, \"LocationLng\": -90.2344}, {\"LocationLat\": 38.75, \"LocationLng\": -104.85}, {\"LocationLat\": 44.2785, \"LocationLng\": -85.4207}, {\"LocationLat\": 46.7265, \"LocationLng\": -94.3849}, {\"LocationLat\": 28.8625, \"LocationLng\": -96.9297}, {\"LocationLat\": 35.8317, \"LocationLng\": -90.6464}, {\"LocationLat\": 32.8351, \"LocationLng\": -105.9941}, {\"LocationLat\": 47.0493, \"LocationLng\": -109.4667}, {\"LocationLat\": 44.5437, \"LocationLng\": -89.5347}, {\"LocationLat\": 38.8853, \"LocationLng\": -79.8528}, {\"LocationLat\": 32.6988, \"LocationLng\": -97.0469}, {\"LocationLat\": 41.2544, \"LocationLng\": -80.6739}, {\"LocationLat\": 29.6223, \"LocationLng\": -95.6565}, {\"LocationLat\": 34.594, \"LocationLng\": -83.296}, {\"LocationLat\": 41.0522, \"LocationLng\": -93.6897}, {\"LocationLat\": 35.7422, \"LocationLng\": -81.3822}, {\"LocationLat\": 28.7248, \"LocationLng\": -96.2535}, {\"LocationLat\": 39.9907, \"LocationLng\": -82.8769}, {\"LocationLat\": 46.9208, \"LocationLng\": -114.0925}, {\"LocationLat\": 39.645, \"LocationLng\": -77.468}, {\"LocationLat\": 33.0062, \"LocationLng\": -85.0661}, {\"LocationLat\": 30.5584, \"LocationLng\": -92.0994}, {\"LocationLat\": 41.3149, \"LocationLng\": -122.317}, {\"LocationLat\": 28.4739, \"LocationLng\": -82.4537}, {\"LocationLat\": 42.9103, \"LocationLng\": -82.5332}, {\"LocationLat\": 32.78, \"LocationLng\": -97.43}, {\"LocationLat\": 32.1951, \"LocationLng\": -81.8696}, {\"LocationLat\": 32.563, \"LocationLng\": -117.1109}, {\"LocationLat\": 31.4849, \"LocationLng\": -97.3165}, {\"LocationLat\": 38.7605, \"LocationLng\": -87.599}, {\"LocationLat\": 38.8897, \"LocationLng\": -90.0316}, {\"LocationLat\": 30.4119, \"LocationLng\": -89.0808}, {\"LocationLat\": 33.9423, \"LocationLng\": -81.118}, {\"LocationLat\": 40.824, \"LocationLng\": -115.7863}, {\"LocationLat\": 44.8601, \"LocationLng\": -93.032}, {\"LocationLat\": 30.5105, \"LocationLng\": -99.7665}, {\"LocationLat\": 31.8606, \"LocationLng\": -86.0122}, {\"LocationLat\": 34.5975, \"LocationLng\": -117.383}, {\"LocationLat\": 28.2281, \"LocationLng\": -82.1559}, {\"LocationLat\": 48.1585, \"LocationLng\": -122.1591}, {\"LocationLat\": 43.9042, \"LocationLng\": -92.4917}, {\"LocationLat\": 39.3747, \"LocationLng\": -99.8297}, {\"LocationLat\": 37.6219, \"LocationLng\": -97.2682}, {\"LocationLat\": 33.4331, \"LocationLng\": -88.8486}, {\"LocationLat\": 40.0324, \"LocationLng\": -88.2755}, {\"LocationLat\": 44.8854, \"LocationLng\": -93.2313}, {\"LocationLat\": 37.7873, \"LocationLng\": -81.1242}, {\"LocationLat\": 32.9539, \"LocationLng\": -84.2594}, {\"LocationLat\": 42.9296, \"LocationLng\": -71.4356}, {\"LocationLat\": 44.0511, \"LocationLng\": -101.6011}, {\"LocationLat\": 30.3567, \"LocationLng\": -95.4139}, {\"LocationLat\": 30.7285, \"LocationLng\": -87.0219}, {\"LocationLat\": 42.5544, \"LocationLng\": -92.4013}, {\"LocationLat\": 45.9509, \"LocationLng\": -94.3441}, {\"LocationLat\": 38.9348, \"LocationLng\": -77.4473}, {\"LocationLat\": 40.175, \"LocationLng\": -80.6463}, {\"LocationLat\": 41.587, \"LocationLng\": -83.8054}, {\"LocationLat\": 36.8553, \"LocationLng\": -84.8561}, {\"LocationLat\": 40.493, \"LocationLng\": -107.5239}, {\"LocationLat\": 47.2111, \"LocationLng\": -93.5097}, {\"LocationLat\": 43.0796, \"LocationLng\": -94.2723}, {\"LocationLat\": 32.7403, \"LocationLng\": -95.4945}, {\"LocationLat\": 28.0198, \"LocationLng\": -82.3415}, {\"LocationLat\": 39.9444, \"LocationLng\": -81.8921}, {\"LocationLat\": 39.7719, \"LocationLng\": -94.9097}, {\"LocationLat\": 35.0594, \"LocationLng\": -118.1519}, {\"LocationLat\": 33.4277, \"LocationLng\": -112.0038}, {\"LocationLat\": 43.1083, \"LocationLng\": -78.9382}, {\"LocationLat\": 46.6044, \"LocationLng\": -111.9892}, {\"LocationLat\": 40.7911, \"LocationLng\": -99.7772}, {\"LocationLat\": 44.4794, \"LocationLng\": -88.1367}, {\"LocationLat\": 29.505, \"LocationLng\": -95.4765}, {\"LocationLat\": 33.2208, \"LocationLng\": -92.814}, {\"LocationLat\": 32.1927, \"LocationLng\": -82.3712}, {\"LocationLat\": 38.5912, \"LocationLng\": -92.1561}, {\"LocationLat\": 40.6133, \"LocationLng\": -103.2611}, {\"LocationLat\": 39.0725, \"LocationLng\": -95.6261}, {\"LocationLat\": 25.788, \"LocationLng\": -80.3169}, {\"LocationLat\": 29.9844, \"LocationLng\": -95.3607}, {\"LocationLat\": 40.443, \"LocationLng\": -109.5127}, {\"LocationLat\": 42.1599, \"LocationLng\": -76.8916}, {\"LocationLat\": 38.7525, \"LocationLng\": -90.3734}, {\"LocationLat\": 42.0613, \"LocationLng\": -104.1584}, {\"LocationLat\": 48.4158, \"LocationLng\": -101.358}, {\"LocationLat\": 27.9633, \"LocationLng\": -82.54}, {\"LocationLat\": 47.0338, \"LocationLng\": -120.5313}, {\"LocationLat\": 27.9152, \"LocationLng\": -82.4518}, {\"LocationLat\": 29.7095, \"LocationLng\": -91.339}, {\"LocationLat\": 37.7017, \"LocationLng\": -98.7469}, {\"LocationLat\": 34.1681, \"LocationLng\": -101.7173}, {\"LocationLat\": 27.8118, \"LocationLng\": -97.0888}, {\"LocationLat\": 44.1451, \"LocationLng\": -103.1036}, {\"LocationLat\": 28.0837, \"LocationLng\": -97.0466}, {\"LocationLat\": 48.856, \"LocationLng\": -95.6971}, {\"LocationLat\": 33.11, \"LocationLng\": -98.5553}, {\"LocationLat\": 48.9318, \"LocationLng\": -95.3405}, {\"LocationLat\": 47.7966, \"LocationLng\": -103.2552}, {\"LocationLat\": 47.4228, \"LocationLng\": -98.1059}, {\"LocationLat\": 41.4435, \"LocationLng\": -106.8275}, {\"LocationLat\": 45.421, \"LocationLng\": -123.8144}, {\"LocationLat\": 30.5857, \"LocationLng\": -100.6486}, {\"LocationLat\": 45.3057, \"LocationLng\": -96.4244}, {\"LocationLat\": 48.9402, \"LocationLng\": -97.9053}, {\"LocationLat\": 36.1919, \"LocationLng\": -94.49}, {\"LocationLat\": 30.0333, \"LocationLng\": -85.5333}, {\"LocationLat\": 48.7081, \"LocationLng\": -122.909}, {\"LocationLat\": 35.2747, \"LocationLng\": -96.6752}, {\"LocationLat\": 48.0597, \"LocationLng\": -96.1788}, {\"LocationLat\": 30.2432, \"LocationLng\": -98.9092}, {\"LocationLat\": 44.6884, \"LocationLng\": -111.1176}, {\"LocationLat\": 47.4669, \"LocationLng\": -87.875}, {\"LocationLat\": 47.8366, \"LocationLng\": -90.3864}, {\"LocationLat\": 32.6934, \"LocationLng\": -100.9505}, {\"LocationLat\": 30.8458, \"LocationLng\": -85.6014}, {\"LocationLat\": 34.6452, \"LocationLng\": -106.8337}, {\"LocationLat\": 40.8034, \"LocationLng\": -124.1128}, {\"LocationLat\": 44.3298, \"LocationLng\": -93.3119}, {\"LocationLat\": 31.0559, \"LocationLng\": -82.7741}, {\"LocationLat\": 36.6005, \"LocationLng\": -121.8714}, {\"LocationLat\": 33.286, \"LocationLng\": -117.456}, {\"LocationLat\": 27.778, \"LocationLng\": -97.6878}, {\"LocationLat\": 44.0727, \"LocationLng\": -103.2108}, {\"LocationLat\": 39.5, \"LocationLng\": -117.0833}, {\"LocationLat\": 44.35, \"LocationLng\": -112.1833}, {\"LocationLat\": 43.8922, \"LocationLng\": -69.9386}, {\"LocationLat\": 38.6869, \"LocationLng\": -80.6517}, {\"LocationLat\": 29.354, \"LocationLng\": -89.4359}, {\"LocationLat\": 42.1666, \"LocationLng\": -112.2966}, {\"LocationLat\": 44.65, \"LocationLng\": -111.1}, {\"LocationLat\": 42.32, \"LocationLng\": -113.33}, {\"LocationLat\": 34.7275, \"LocationLng\": -120.5783}, {\"LocationLat\": 44.1466, \"LocationLng\": -107.1744}, {\"LocationLat\": 40.449, \"LocationLng\": -106.7492}, {\"LocationLat\": 45.6769, \"LocationLng\": -121.8789}, {\"LocationLat\": 48.6011, \"LocationLng\": -113.1147}, {\"LocationLat\": 44.75, \"LocationLng\": -109.37}, {\"LocationLat\": 35.6656, \"LocationLng\": -121.2847}, {\"LocationLat\": 41.6667, \"LocationLng\": -115.7833}, {\"LocationLat\": 29.9526, \"LocationLng\": -90.0826}, {\"LocationLat\": 34.1436, \"LocationLng\": -103.4109}, {\"LocationLat\": 31.8798, \"LocationLng\": -106.6973}, {\"LocationLat\": 46.1, \"LocationLng\": -97.15}, {\"LocationLat\": 26.0711, \"LocationLng\": -97.1577}, {\"LocationLat\": 43.1235, \"LocationLng\": -106.3375}, {\"LocationLat\": 29.9333, \"LocationLng\": -90.1333}, {\"LocationLat\": 34.0997, \"LocationLng\": -93.0661}, {\"LocationLat\": 34.1, \"LocationLng\": -105.6833}, {\"LocationLat\": 42.8367, \"LocationLng\": -105.8618}, {\"LocationLat\": 43.8989, \"LocationLng\": -106.639}, {\"LocationLat\": 26.1775, \"LocationLng\": -97.9731}, {\"LocationLat\": 40.3167, \"LocationLng\": -112.3}, {\"LocationLat\": 46.4333, \"LocationLng\": -109.8333}, {\"LocationLat\": 33.6325, \"LocationLng\": -83.8496}, {\"LocationLat\": 37.6167, \"LocationLng\": -109.4667}, {\"LocationLat\": 31.1106, \"LocationLng\": -93.1533}, {\"LocationLat\": 47.6, \"LocationLng\": -115.3667}, {\"LocationLat\": 42.5587, \"LocationLng\": -106.8474}, {\"LocationLat\": 29.78, \"LocationLng\": -93.3}, {\"LocationLat\": 29.6931, \"LocationLng\": -91.0986}, {\"LocationLat\": 45.9167, \"LocationLng\": -102.1667}, {\"LocationLat\": 41.1167, \"LocationLng\": -114.9667}, {\"LocationLat\": 30.1727, \"LocationLng\": -90.9406}, {\"LocationLat\": 35.704, \"LocationLng\": -79.504}, {\"LocationLat\": 45.8528, \"LocationLng\": -106.7093}, {\"LocationLat\": 40.4774, \"LocationLng\": -111.433}, {\"LocationLat\": 37.6308, \"LocationLng\": -84.3323}, {\"LocationLat\": 41.7297, \"LocationLng\": -107.7252}, {\"LocationLat\": 37.7984, \"LocationLng\": -94.7694}, {\"LocationLat\": 27.9132, \"LocationLng\": -97.2132}, {\"LocationLat\": 46.6667, \"LocationLng\": -113.15}, {\"LocationLat\": 29.25, \"LocationLng\": -89.966}, {\"LocationLat\": 35.6588, \"LocationLng\": -117.8295}, {\"LocationLat\": 41.4417, \"LocationLng\": -104.3467}, {\"LocationLat\": 39.7341, \"LocationLng\": -77.4304}, {\"LocationLat\": 41.052, \"LocationLng\": -105.4694}, {\"LocationLat\": 34.095, \"LocationLng\": -82.8158}, {\"LocationLat\": 39.342, \"LocationLng\": -86.031}, {\"LocationLat\": 40.0503, \"LocationLng\": -105.5839}, {\"LocationLat\": 41.8191, \"LocationLng\": -110.974}, {\"LocationLat\": 46.187, \"LocationLng\": -103.4281}, {\"LocationLat\": 33.5932, \"LocationLng\": -95.0636}, {\"LocationLat\": 34.174, \"LocationLng\": -83.5607}, {\"LocationLat\": 35.935, \"LocationLng\": -79.0659}, {\"LocationLat\": 30.5069, \"LocationLng\": -86.9597}, {\"LocationLat\": 43.1, \"LocationLng\": -110.32}, {\"LocationLat\": 33.7797, \"LocationLng\": -82.8164}, {\"LocationLat\": 46.25, \"LocationLng\": -114.15}, {\"LocationLat\": 45.4175, \"LocationLng\": -123.8087}, {\"LocationLat\": 41.1566, \"LocationLng\": -105.4033}, {\"LocationLat\": 31.1377, \"LocationLng\": -83.7041}, {\"LocationLat\": 44.7342, \"LocationLng\": -103.862}, {\"LocationLat\": 41.9305, \"LocationLng\": -104.945}, {\"LocationLat\": 35.799, \"LocationLng\": -107.181}, {\"LocationLat\": 36.4395, \"LocationLng\": -77.7093}, {\"LocationLat\": 30.3891, \"LocationLng\": -87.6353}, {\"LocationLat\": 42.6416, \"LocationLng\": -111.5799}, {\"LocationLat\": 44.2197, \"LocationLng\": -106.1041}, {\"LocationLat\": 28.209, \"LocationLng\": -100.019}, {\"LocationLat\": 31.8731, \"LocationLng\": -106.6975}, {\"LocationLat\": 32.3033, \"LocationLng\": -90.4085}, {\"LocationLat\": 32.9667, \"LocationLng\": -82.8382}, {\"LocationLat\": 44.294, \"LocationLng\": -104.6288}, {\"LocationLat\": 34.6594, \"LocationLng\": -87.3488}, {\"LocationLat\": 48.55, \"LocationLng\": -117.8833}, {\"LocationLat\": 38.3025, \"LocationLng\": -95.725}, {\"LocationLat\": 32.3335, \"LocationLng\": -108.6917}, {\"LocationLat\": 41.135, \"LocationLng\": -106.5735}, {\"LocationLat\": 33.9333, \"LocationLng\": -116.9667}, {\"LocationLat\": 34.3667, \"LocationLng\": -118.5667}, {\"LocationLat\": 34.2687, \"LocationLng\": -86.858}, {\"LocationLat\": 37.5011, \"LocationLng\": -105.1669}, {\"LocationLat\": 39.9889, \"LocationLng\": -75.5803}, {\"LocationLat\": 37.6122, \"LocationLng\": -114.5264}, {\"LocationLat\": 46.4772, \"LocationLng\": -122.8065}, {\"LocationLat\": 46.5667, \"LocationLng\": -119.6}, {\"LocationLat\": 38.9701, \"LocationLng\": -75.8663}, {\"LocationLat\": 41.9308, \"LocationLng\": -109.9687}, {\"LocationLat\": 43.9325, \"LocationLng\": -105.4465}, {\"LocationLat\": 44.5833, \"LocationLng\": -124.0667}, {\"LocationLat\": 38.3667, \"LocationLng\": -110.7167}, {\"LocationLat\": 34.4917, \"LocationLng\": -88.2011}, {\"LocationLat\": 37.751, \"LocationLng\": -82.6367}, {\"LocationLat\": 31.6058, \"LocationLng\": -90.4093}, {\"LocationLat\": 44.5343, \"LocationLng\": -106.8049}, {\"LocationLat\": 41.5323, \"LocationLng\": -109.4604}, {\"LocationLat\": 42.45, \"LocationLng\": -105.0333}, {\"LocationLat\": 39.0, \"LocationLng\": -110.1667}, {\"LocationLat\": 39.3375, \"LocationLng\": -112.5861}, {\"LocationLat\": 29.4674, \"LocationLng\": -81.2063}, {\"LocationLat\": 28.9444, \"LocationLng\": -81.9701}, {\"LocationLat\": 40.0167, \"LocationLng\": -124.0667}, {\"LocationLat\": 48.2515, \"LocationLng\": -122.6737}, {\"LocationLat\": 36.9, \"LocationLng\": -106.5833}, {\"LocationLat\": 37.974, \"LocationLng\": -92.691}, {\"LocationLat\": 40.6, \"LocationLng\": -116.8667}, {\"LocationLat\": 41.6, \"LocationLng\": -106.21}, {\"LocationLat\": 42.5833, \"LocationLng\": -108.2833}]}, {\"name\": \"source_0\", \"url\": \"https://cdn.jsdelivr.net/npm/vega-datasets@v1.29.0/data/us-10m.json\", \"format\": {\"type\": \"topojson\", \"feature\": \"states\"}}, {\"name\": \"source_1\", \"source\": \"_server_source_1\", \"transform\": [{\"type\": \"geojson\", \"fields\": [\"LocationLng\", \"LocationLat\"], \"signal\": \"layer_1_geojson_0\"}, {\"type\": \"geopoint\", \"projection\": \"projection\", \"fields\": [\"LocationLng\", \"LocationLat\"], \"as\": [\"layer_1_x\", \"layer_1_y\"]}, {\"type\": \"project\", \"fields\": [\"layer_1_x\", \"layer_1_y\"]}]}], \"marks\": [{\"type\": \"shape\", \"name\": \"layer_0_marks\", \"from\": {\"data\": \"source_0\"}, \"encode\": {\"update\": {\"stroke\": {\"value\": \"black\"}, \"fill\": {\"value\": \"lightgray\"}}}, \"transform\": [{\"type\": \"geoshape\", \"projection\": \"projection\"}], \"style\": [\"geoshape\"]}, {\"type\": \"symbol\", \"name\": \"layer_1_marks\", \"from\": {\"data\": \"source_1\"}, \"encode\": {\"update\": {\"size\": {\"value\": 5}, \"y\": {\"field\": \"layer_1_y\"}, \"stroke\": {\"value\": \"blue\"}, \"x\": {\"field\": \"layer_1_x\"}, \"opacity\": {\"value\": 0.3}, \"fill\": {\"value\": \"transparent\"}}}, \"style\": [\"point\"]}], \"projections\": [{\"name\": \"projection\", \"type\": \"albersUsa\", \"size\": {\"signal\": \"[width, height]\"}, \"fit\": {\"signal\": \"[data('source_0'), layer_1_geojson_0]\"}}], \"title\": {\"text\": \"Localiza\\u00e7\\u00e3o das esta\\u00e7\\u00f5es meteorol\\u00f3gicas\", \"frame\": \"group\", \"fontSize\": 15}, \"style\": \"view\", \"background\": \"white\", \"width\": 650, \"padding\": 5, \"height\": 400}, {\"mode\": \"vega\"});\n",
       "</script>"
      ],
      "text/plain": [
       "alt.LayerChart(...)"
      ]
     },
     "execution_count": 158,
     "metadata": {},
     "output_type": "execute_result"
    }
   ],
   "source": [
    "p = background + points #+ text\n",
    "p\n",
    "#p.save('/Users/administrador/Documents/Pessoal/repositorios/information_visualization/images/6.stations_locations.png', ppi=300)"
   ]
  },
  {
   "cell_type": "markdown",
   "metadata": {},
   "source": [
    "City"
   ]
  },
  {
   "cell_type": "code",
   "execution_count": 35,
   "metadata": {},
   "outputs": [
    {
     "data": {
      "text/plain": [
       "1716"
      ]
     },
     "execution_count": 35,
     "metadata": {},
     "output_type": "execute_result"
    }
   ],
   "source": [
    "X['City'].nunique()"
   ]
  },
  {
   "cell_type": "code",
   "execution_count": 36,
   "metadata": {},
   "outputs": [],
   "source": [
    "list_top_cities = X['City'].value_counts().head(10).index"
   ]
  },
  {
   "cell_type": "code",
   "execution_count": 37,
   "metadata": {},
   "outputs": [],
   "source": [
    "title = alt.TitleParams('Contagem das top 10 Cidades', anchor='middle', fontSize=15)\n",
    "base = alt.Chart(X[X['City'].isin(list_top_cities)], title=title).encode(\n",
    "    alt.X(\n",
    "        'City',\n",
    "        sort=alt.EncodingSortField(field=\"Letters\", op=\"count\", order='descending'), \n",
    "        axis=alt.Axis(labelAngle=0),\n",
    "        title='Cidade'),\n",
    "    alt.Y('count()', title='Contagem'),\n",
    "    text=alt.Text('count()', format=',.0f')\n",
    ").properties(\n",
    "    width=600,\n",
    "    height=400\n",
    ")\n",
    "p = base.mark_bar() + base.mark_text(align='center', dx=0, yOffset=-10)\n",
    "\n",
    "p.save('/Users/administrador/Documents/Pessoal/repositorios/information_visualization/images/7.cities.png', ppi=300)"
   ]
  },
  {
   "cell_type": "markdown",
   "metadata": {},
   "source": [
    "County"
   ]
  },
  {
   "cell_type": "code",
   "execution_count": 38,
   "metadata": {},
   "outputs": [
    {
     "data": {
      "text/plain": [
       "1100"
      ]
     },
     "execution_count": 38,
     "metadata": {},
     "output_type": "execute_result"
    }
   ],
   "source": [
    "X['County'].nunique()"
   ]
  },
  {
   "cell_type": "code",
   "execution_count": 39,
   "metadata": {},
   "outputs": [],
   "source": [
    "list_top_county = X['County'].value_counts().head(10).index"
   ]
  },
  {
   "cell_type": "code",
   "execution_count": 40,
   "metadata": {},
   "outputs": [],
   "source": [
    "title = alt.TitleParams('Contagem dos top 10 Condados', anchor='middle', fontSize=15)\n",
    "base = alt.Chart(X[X['County'].isin(list_top_county)], title=title).encode(\n",
    "    alt.X(\n",
    "        'County',\n",
    "        sort=alt.EncodingSortField(field=\"Letters\", op=\"count\", order='descending'), \n",
    "        axis=alt.Axis(labelAngle=0),\n",
    "        title='Condado'),\n",
    "    alt.Y('count()', title='Contagem'),\n",
    "    text=alt.Text('count()', format=',.0f')\n",
    ").properties(\n",
    "    width=600,\n",
    "    height=400\n",
    ")\n",
    "p = base.mark_bar() + base.mark_text(align='center', dx=0, yOffset=-10)\n",
    "\n",
    "p.save('/Users/administrador/Documents/Pessoal/repositorios/information_visualization/images/8.county.png', ppi=300)"
   ]
  },
  {
   "cell_type": "markdown",
   "metadata": {},
   "source": [
    "State"
   ]
  },
  {
   "cell_type": "code",
   "execution_count": 41,
   "metadata": {},
   "outputs": [
    {
     "data": {
      "text/plain": [
       "48"
      ]
     },
     "execution_count": 41,
     "metadata": {},
     "output_type": "execute_result"
    }
   ],
   "source": [
    "X['State'].nunique()"
   ]
  },
  {
   "cell_type": "code",
   "execution_count": 42,
   "metadata": {},
   "outputs": [],
   "source": [
    "list_top_state = X['State'].value_counts().head(10).index"
   ]
  },
  {
   "cell_type": "code",
   "execution_count": 43,
   "metadata": {},
   "outputs": [],
   "source": [
    "title = alt.TitleParams('Contagem dos top 10 Estados', anchor='middle', fontSize=15)\n",
    "base = alt.Chart(X[X['State'].isin(list_top_state)], title=title).encode(\n",
    "    alt.X(\n",
    "        'State',\n",
    "        sort=alt.EncodingSortField(field=\"Letters\", op=\"count\", order='descending'), \n",
    "        axis=alt.Axis(labelAngle=0),\n",
    "        title='Estado'),\n",
    "    alt.Y('count()', title='Contagem'),\n",
    "    text=alt.Text('count()', format=',.0f')\n",
    ").properties(\n",
    "    width=600,\n",
    "    height=400\n",
    ")\n",
    "p = base.mark_bar() + base.mark_text(align='center', dx=0, yOffset=-10)\n",
    "\n",
    "p.save('/Users/administrador/Documents/Pessoal/repositorios/information_visualization/images/9.state.png', ppi=300)\n"
   ]
  },
  {
   "cell_type": "markdown",
   "metadata": {},
   "source": [
    "ZipCode"
   ]
  },
  {
   "cell_type": "code",
   "execution_count": 44,
   "metadata": {},
   "outputs": [],
   "source": [
    "X['ZipCode'] = X['ZipCode'].astype('object')"
   ]
  },
  {
   "cell_type": "code",
   "execution_count": 45,
   "metadata": {},
   "outputs": [
    {
     "data": {
      "text/plain": [
       "2020"
      ]
     },
     "execution_count": 45,
     "metadata": {},
     "output_type": "execute_result"
    }
   ],
   "source": [
    "X['ZipCode'].nunique()"
   ]
  },
  {
   "cell_type": "code",
   "execution_count": 46,
   "metadata": {},
   "outputs": [],
   "source": [
    "list_top_zipcode = X['ZipCode'].value_counts().head(10).index"
   ]
  },
  {
   "cell_type": "code",
   "execution_count": 47,
   "metadata": {},
   "outputs": [],
   "source": [
    "title = alt.TitleParams('Contagem dos top 10 Códigos Postais', anchor='middle', fontSize=15)\n",
    "base = alt.Chart(X[X['ZipCode'].isin(list_top_zipcode)], title=title).encode(\n",
    "    alt.X(\n",
    "        'ZipCode:N',\n",
    "        sort=alt.EncodingSortField(field=\"Letters\", op=\"count\", order='descending'),\n",
    "        title='Código Postal'),\n",
    "    alt.Y('count()', title='Contagem'),\n",
    "    text=alt.Text('count()', format=',.0f')\n",
    ").properties(\n",
    "    width=600,\n",
    "    height=400\n",
    ")\n",
    "p = base.mark_bar() + base.mark_text(align='center', dx=0, yOffset=-10)\n",
    "p.save('/Users/administrador/Documents/Pessoal/repositorios/information_visualization/images/10.zipcode.png', ppi=300)\n"
   ]
  },
  {
   "cell_type": "markdown",
   "metadata": {},
   "source": [
    "## Data Cleaning"
   ]
  },
  {
   "cell_type": "markdown",
   "metadata": {},
   "source": [
    "### Checking for nulls\n",
    "\n",
    "All missing cities also don't have its zipcode"
   ]
  },
  {
   "cell_type": "code",
   "execution_count": 48,
   "metadata": {},
   "outputs": [
    {
     "data": {
      "text/plain": [
       "EventId                  0\n",
       "Type                     0\n",
       "Severity                 0\n",
       "StartTime(UTC)           0\n",
       "EndTime(UTC)             0\n",
       "Precipitation(in)        0\n",
       "TimeZone                 0\n",
       "AirportCode              0\n",
       "LocationLat              0\n",
       "LocationLng              0\n",
       "City                 14563\n",
       "County                   0\n",
       "State                    0\n",
       "ZipCode              59234\n",
       "dtype: int64"
      ]
     },
     "execution_count": 48,
     "metadata": {},
     "output_type": "execute_result"
    }
   ],
   "source": [
    "X.isnull().sum()"
   ]
  },
  {
   "cell_type": "code",
   "execution_count": 49,
   "metadata": {},
   "outputs": [
    {
     "data": {
      "text/plain": [
       "np.int64(14563)"
      ]
     },
     "execution_count": 49,
     "metadata": {},
     "output_type": "execute_result"
    }
   ],
   "source": [
    "X.loc[:,['City', 'ZipCode']].isnull().all(axis=1).sum()"
   ]
  },
  {
   "cell_type": "code",
   "execution_count": 50,
   "metadata": {},
   "outputs": [
    {
     "data": {
      "text/plain": [
       "np.int64(59234)"
      ]
     },
     "execution_count": 50,
     "metadata": {},
     "output_type": "execute_result"
    }
   ],
   "source": [
    "X.isnull().any(axis=1).sum()"
   ]
  },
  {
   "cell_type": "markdown",
   "metadata": {},
   "source": [
    "### Checking for Errors in registers - Start / End"
   ]
  },
  {
   "cell_type": "code",
   "execution_count": 51,
   "metadata": {},
   "outputs": [
    {
     "name": "stdout",
     "output_type": "stream",
     "text": [
      "<class 'pandas.core.frame.DataFrame'>\n",
      "RangeIndex: 7479165 entries, 0 to 7479164\n",
      "Data columns (total 14 columns):\n",
      " #   Column             Dtype  \n",
      "---  ------             -----  \n",
      " 0   EventId            object \n",
      " 1   Type               object \n",
      " 2   Severity           object \n",
      " 3   StartTime(UTC)     object \n",
      " 4   EndTime(UTC)       object \n",
      " 5   Precipitation(in)  float64\n",
      " 6   TimeZone           object \n",
      " 7   AirportCode        object \n",
      " 8   LocationLat        float64\n",
      " 9   LocationLng        float64\n",
      " 10  City               object \n",
      " 11  County             object \n",
      " 12  State              object \n",
      " 13  ZipCode            object \n",
      "dtypes: float64(3), object(11)\n",
      "memory usage: 798.9+ MB\n"
     ]
    }
   ],
   "source": [
    "X.info()"
   ]
  },
  {
   "cell_type": "code",
   "execution_count": 52,
   "metadata": {},
   "outputs": [],
   "source": [
    "X['StartTime(UTC)'] = pd.to_datetime(X['StartTime(UTC)'], format='%Y-%m-%d %H:%M:%S')\n",
    "X['EndTime(UTC)'] = pd.to_datetime(X['EndTime(UTC)'], format='%Y-%m-%d %H:%M:%S')"
   ]
  },
  {
   "cell_type": "code",
   "execution_count": 53,
   "metadata": {},
   "outputs": [
    {
     "data": {
      "text/plain": [
       "StartTime(UTC)   2016-01-06 23:14:00\n",
       "EndTime(UTC)     2016-01-07 00:34:00\n",
       "dtype: datetime64[ns]"
      ]
     },
     "execution_count": 53,
     "metadata": {},
     "output_type": "execute_result"
    }
   ],
   "source": [
    "X.loc[:,['StartTime(UTC)','EndTime(UTC)']].apply(lambda x: x[0])"
   ]
  },
  {
   "cell_type": "code",
   "execution_count": 54,
   "metadata": {},
   "outputs": [],
   "source": [
    "X['EventDuration'] = X['EndTime(UTC)'] - X['StartTime(UTC)'] \n",
    "X['EventDuration'] = X['EventDuration'].apply(lambda x: x.total_seconds())"
   ]
  },
  {
   "cell_type": "code",
   "execution_count": 55,
   "metadata": {},
   "outputs": [
    {
     "data": {
      "text/html": [
       "<div>\n",
       "<style scoped>\n",
       "    .dataframe tbody tr th:only-of-type {\n",
       "        vertical-align: middle;\n",
       "    }\n",
       "\n",
       "    .dataframe tbody tr th {\n",
       "        vertical-align: top;\n",
       "    }\n",
       "\n",
       "    .dataframe thead th {\n",
       "        text-align: right;\n",
       "    }\n",
       "</style>\n",
       "<table border=\"1\" class=\"dataframe\">\n",
       "  <thead>\n",
       "    <tr style=\"text-align: right;\">\n",
       "      <th></th>\n",
       "      <th>EventId</th>\n",
       "      <th>Type</th>\n",
       "      <th>Severity</th>\n",
       "      <th>StartTime(UTC)</th>\n",
       "      <th>EndTime(UTC)</th>\n",
       "      <th>Precipitation(in)</th>\n",
       "      <th>TimeZone</th>\n",
       "      <th>AirportCode</th>\n",
       "      <th>LocationLat</th>\n",
       "      <th>LocationLng</th>\n",
       "      <th>City</th>\n",
       "      <th>County</th>\n",
       "      <th>State</th>\n",
       "      <th>ZipCode</th>\n",
       "      <th>EventDuration</th>\n",
       "    </tr>\n",
       "  </thead>\n",
       "  <tbody>\n",
       "  </tbody>\n",
       "</table>\n",
       "</div>"
      ],
      "text/plain": [
       "Empty DataFrame\n",
       "Columns: [EventId, Type, Severity, StartTime(UTC), EndTime(UTC), Precipitation(in), TimeZone, AirportCode, LocationLat, LocationLng, City, County, State, ZipCode, EventDuration]\n",
       "Index: []"
      ]
     },
     "execution_count": 55,
     "metadata": {},
     "output_type": "execute_result"
    }
   ],
   "source": [
    "X[X['EventDuration'] < 0]"
   ]
  },
  {
   "cell_type": "code",
   "execution_count": 56,
   "metadata": {},
   "outputs": [
    {
     "data": {
      "text/html": [
       "<div>\n",
       "<style scoped>\n",
       "    .dataframe tbody tr th:only-of-type {\n",
       "        vertical-align: middle;\n",
       "    }\n",
       "\n",
       "    .dataframe tbody tr th {\n",
       "        vertical-align: top;\n",
       "    }\n",
       "\n",
       "    .dataframe thead th {\n",
       "        text-align: right;\n",
       "    }\n",
       "</style>\n",
       "<table border=\"1\" class=\"dataframe\">\n",
       "  <thead>\n",
       "    <tr style=\"text-align: right;\">\n",
       "      <th></th>\n",
       "      <th>EventId</th>\n",
       "      <th>Type</th>\n",
       "      <th>Severity</th>\n",
       "      <th>StartTime(UTC)</th>\n",
       "      <th>EndTime(UTC)</th>\n",
       "      <th>Precipitation(in)</th>\n",
       "      <th>TimeZone</th>\n",
       "      <th>AirportCode</th>\n",
       "      <th>LocationLat</th>\n",
       "      <th>LocationLng</th>\n",
       "      <th>City</th>\n",
       "      <th>County</th>\n",
       "      <th>State</th>\n",
       "      <th>ZipCode</th>\n",
       "      <th>EventDuration</th>\n",
       "    </tr>\n",
       "  </thead>\n",
       "  <tbody>\n",
       "    <tr>\n",
       "      <th>101876</th>\n",
       "      <td>W-103205</td>\n",
       "      <td>Snow</td>\n",
       "      <td>Light</td>\n",
       "      <td>2020-11-01 07:15:00</td>\n",
       "      <td>2020-11-01 07:15:00</td>\n",
       "      <td>0.00</td>\n",
       "      <td>US/Central</td>\n",
       "      <td>K04W</td>\n",
       "      <td>46.0244</td>\n",
       "      <td>-92.8991</td>\n",
       "      <td>Hinckley</td>\n",
       "      <td>Pine</td>\n",
       "      <td>MN</td>\n",
       "      <td>55037.0</td>\n",
       "      <td>0.0</td>\n",
       "    </tr>\n",
       "    <tr>\n",
       "      <th>148483</th>\n",
       "      <td>W-150530</td>\n",
       "      <td>Fog</td>\n",
       "      <td>Severe</td>\n",
       "      <td>2021-11-07 07:55:00</td>\n",
       "      <td>2021-11-07 07:55:00</td>\n",
       "      <td>0.00</td>\n",
       "      <td>US/Central</td>\n",
       "      <td>KFYG</td>\n",
       "      <td>38.5876</td>\n",
       "      <td>-90.9938</td>\n",
       "      <td>Marthasville</td>\n",
       "      <td>Warren</td>\n",
       "      <td>MO</td>\n",
       "      <td>63357.0</td>\n",
       "      <td>0.0</td>\n",
       "    </tr>\n",
       "    <tr>\n",
       "      <th>367097</th>\n",
       "      <td>W-372333</td>\n",
       "      <td>Fog</td>\n",
       "      <td>Severe</td>\n",
       "      <td>2019-11-03 07:15:00</td>\n",
       "      <td>2019-11-03 07:15:00</td>\n",
       "      <td>0.00</td>\n",
       "      <td>US/Central</td>\n",
       "      <td>KLXY</td>\n",
       "      <td>31.6412</td>\n",
       "      <td>-96.5144</td>\n",
       "      <td>Mexia</td>\n",
       "      <td>Limestone</td>\n",
       "      <td>TX</td>\n",
       "      <td>76667.0</td>\n",
       "      <td>0.0</td>\n",
       "    </tr>\n",
       "    <tr>\n",
       "      <th>716783</th>\n",
       "      <td>W-726704</td>\n",
       "      <td>Snow</td>\n",
       "      <td>Light</td>\n",
       "      <td>2019-11-03 07:53:00</td>\n",
       "      <td>2019-11-03 07:53:00</td>\n",
       "      <td>0.00</td>\n",
       "      <td>US/Central</td>\n",
       "      <td>KPIR</td>\n",
       "      <td>44.3827</td>\n",
       "      <td>-100.2860</td>\n",
       "      <td>Pierre</td>\n",
       "      <td>Hughes</td>\n",
       "      <td>SD</td>\n",
       "      <td>57501.0</td>\n",
       "      <td>0.0</td>\n",
       "    </tr>\n",
       "    <tr>\n",
       "      <th>793055</th>\n",
       "      <td>W-804001</td>\n",
       "      <td>Snow</td>\n",
       "      <td>Light</td>\n",
       "      <td>2020-11-01 07:55:00</td>\n",
       "      <td>2020-11-01 07:55:00</td>\n",
       "      <td>0.00</td>\n",
       "      <td>US/Central</td>\n",
       "      <td>KCBG</td>\n",
       "      <td>45.5628</td>\n",
       "      <td>-93.2644</td>\n",
       "      <td>Cambridge</td>\n",
       "      <td>Isanti</td>\n",
       "      <td>MN</td>\n",
       "      <td>55008.0</td>\n",
       "      <td>0.0</td>\n",
       "    </tr>\n",
       "    <tr>\n",
       "      <th>...</th>\n",
       "      <td>...</td>\n",
       "      <td>...</td>\n",
       "      <td>...</td>\n",
       "      <td>...</td>\n",
       "      <td>...</td>\n",
       "      <td>...</td>\n",
       "      <td>...</td>\n",
       "      <td>...</td>\n",
       "      <td>...</td>\n",
       "      <td>...</td>\n",
       "      <td>...</td>\n",
       "      <td>...</td>\n",
       "      <td>...</td>\n",
       "      <td>...</td>\n",
       "      <td>...</td>\n",
       "    </tr>\n",
       "    <tr>\n",
       "      <th>7326092</th>\n",
       "      <td>W-7422022</td>\n",
       "      <td>Rain</td>\n",
       "      <td>Light</td>\n",
       "      <td>2017-11-05 09:55:00</td>\n",
       "      <td>2017-11-05 09:55:00</td>\n",
       "      <td>0.01</td>\n",
       "      <td>US/Pacific</td>\n",
       "      <td>KS47</td>\n",
       "      <td>45.4175</td>\n",
       "      <td>-123.8087</td>\n",
       "      <td>Tillamook</td>\n",
       "      <td>Tillamook</td>\n",
       "      <td>OR</td>\n",
       "      <td>97141.0</td>\n",
       "      <td>0.0</td>\n",
       "    </tr>\n",
       "    <tr>\n",
       "      <th>7408757</th>\n",
       "      <td>W-7505805</td>\n",
       "      <td>Rain</td>\n",
       "      <td>Light</td>\n",
       "      <td>2017-11-05 09:35:00</td>\n",
       "      <td>2017-11-05 09:35:00</td>\n",
       "      <td>0.00</td>\n",
       "      <td>US/Pacific</td>\n",
       "      <td>KTDO</td>\n",
       "      <td>46.4772</td>\n",
       "      <td>-122.8065</td>\n",
       "      <td>Toledo</td>\n",
       "      <td>Lewis</td>\n",
       "      <td>WA</td>\n",
       "      <td>98591.0</td>\n",
       "      <td>0.0</td>\n",
       "    </tr>\n",
       "    <tr>\n",
       "      <th>7413848</th>\n",
       "      <td>W-7510896</td>\n",
       "      <td>Rain</td>\n",
       "      <td>Light</td>\n",
       "      <td>2021-11-07 09:35:00</td>\n",
       "      <td>2021-11-07 09:35:00</td>\n",
       "      <td>0.00</td>\n",
       "      <td>US/Pacific</td>\n",
       "      <td>KTDO</td>\n",
       "      <td>46.4772</td>\n",
       "      <td>-122.8065</td>\n",
       "      <td>Toledo</td>\n",
       "      <td>Lewis</td>\n",
       "      <td>WA</td>\n",
       "      <td>98591.0</td>\n",
       "      <td>0.0</td>\n",
       "    </tr>\n",
       "    <tr>\n",
       "      <th>7419635</th>\n",
       "      <td>W-7516895</td>\n",
       "      <td>Cold</td>\n",
       "      <td>Severe</td>\n",
       "      <td>2017-11-05 08:55:00</td>\n",
       "      <td>2017-11-05 08:55:00</td>\n",
       "      <td>0.00</td>\n",
       "      <td>US/Mountain</td>\n",
       "      <td>KSHC</td>\n",
       "      <td>41.9308</td>\n",
       "      <td>-109.9687</td>\n",
       "      <td>Green River</td>\n",
       "      <td>Sweetwater</td>\n",
       "      <td>WY</td>\n",
       "      <td>82935.0</td>\n",
       "      <td>0.0</td>\n",
       "    </tr>\n",
       "    <tr>\n",
       "      <th>7475287</th>\n",
       "      <td>W-7573319</td>\n",
       "      <td>Snow</td>\n",
       "      <td>Light</td>\n",
       "      <td>2017-11-05 08:35:00</td>\n",
       "      <td>2017-11-05 08:35:00</td>\n",
       "      <td>0.00</td>\n",
       "      <td>US/Mountain</td>\n",
       "      <td>KARL</td>\n",
       "      <td>41.6000</td>\n",
       "      <td>-106.2100</td>\n",
       "      <td>Rock River</td>\n",
       "      <td>Carbon</td>\n",
       "      <td>WY</td>\n",
       "      <td>82083.0</td>\n",
       "      <td>0.0</td>\n",
       "    </tr>\n",
       "  </tbody>\n",
       "</table>\n",
       "<p>114 rows × 15 columns</p>\n",
       "</div>"
      ],
      "text/plain": [
       "           EventId  Type Severity      StartTime(UTC)        EndTime(UTC)  \\\n",
       "101876    W-103205  Snow    Light 2020-11-01 07:15:00 2020-11-01 07:15:00   \n",
       "148483    W-150530   Fog   Severe 2021-11-07 07:55:00 2021-11-07 07:55:00   \n",
       "367097    W-372333   Fog   Severe 2019-11-03 07:15:00 2019-11-03 07:15:00   \n",
       "716783    W-726704  Snow    Light 2019-11-03 07:53:00 2019-11-03 07:53:00   \n",
       "793055    W-804001  Snow    Light 2020-11-01 07:55:00 2020-11-01 07:55:00   \n",
       "...            ...   ...      ...                 ...                 ...   \n",
       "7326092  W-7422022  Rain    Light 2017-11-05 09:55:00 2017-11-05 09:55:00   \n",
       "7408757  W-7505805  Rain    Light 2017-11-05 09:35:00 2017-11-05 09:35:00   \n",
       "7413848  W-7510896  Rain    Light 2021-11-07 09:35:00 2021-11-07 09:35:00   \n",
       "7419635  W-7516895  Cold   Severe 2017-11-05 08:55:00 2017-11-05 08:55:00   \n",
       "7475287  W-7573319  Snow    Light 2017-11-05 08:35:00 2017-11-05 08:35:00   \n",
       "\n",
       "         Precipitation(in)     TimeZone AirportCode  LocationLat  LocationLng  \\\n",
       "101876                0.00   US/Central        K04W      46.0244     -92.8991   \n",
       "148483                0.00   US/Central        KFYG      38.5876     -90.9938   \n",
       "367097                0.00   US/Central        KLXY      31.6412     -96.5144   \n",
       "716783                0.00   US/Central        KPIR      44.3827    -100.2860   \n",
       "793055                0.00   US/Central        KCBG      45.5628     -93.2644   \n",
       "...                    ...          ...         ...          ...          ...   \n",
       "7326092               0.01   US/Pacific        KS47      45.4175    -123.8087   \n",
       "7408757               0.00   US/Pacific        KTDO      46.4772    -122.8065   \n",
       "7413848               0.00   US/Pacific        KTDO      46.4772    -122.8065   \n",
       "7419635               0.00  US/Mountain        KSHC      41.9308    -109.9687   \n",
       "7475287               0.00  US/Mountain        KARL      41.6000    -106.2100   \n",
       "\n",
       "                 City      County State  ZipCode  EventDuration  \n",
       "101876       Hinckley        Pine    MN  55037.0            0.0  \n",
       "148483   Marthasville      Warren    MO  63357.0            0.0  \n",
       "367097          Mexia   Limestone    TX  76667.0            0.0  \n",
       "716783         Pierre      Hughes    SD  57501.0            0.0  \n",
       "793055      Cambridge      Isanti    MN  55008.0            0.0  \n",
       "...               ...         ...   ...      ...            ...  \n",
       "7326092     Tillamook   Tillamook    OR  97141.0            0.0  \n",
       "7408757        Toledo       Lewis    WA  98591.0            0.0  \n",
       "7413848        Toledo       Lewis    WA  98591.0            0.0  \n",
       "7419635   Green River  Sweetwater    WY  82935.0            0.0  \n",
       "7475287    Rock River      Carbon    WY  82083.0            0.0  \n",
       "\n",
       "[114 rows x 15 columns]"
      ]
     },
     "execution_count": 56,
     "metadata": {},
     "output_type": "execute_result"
    }
   ],
   "source": [
    "X[X['EventDuration'] == 0]"
   ]
  },
  {
   "cell_type": "code",
   "execution_count": 57,
   "metadata": {},
   "outputs": [],
   "source": [
    "X = X[X['EventDuration'] > 0]"
   ]
  },
  {
   "cell_type": "code",
   "execution_count": 58,
   "metadata": {},
   "outputs": [
    {
     "data": {
      "text/plain": [
       "count    7.479051e+06\n",
       "mean     5.021843e+03\n",
       "std      8.495643e+04\n",
       "min      6.000000e+01\n",
       "25%      1.200000e+03\n",
       "50%      2.400000e+03\n",
       "75%      4.560000e+03\n",
       "max      9.795192e+07\n",
       "Name: EventDuration, dtype: float64"
      ]
     },
     "execution_count": 58,
     "metadata": {},
     "output_type": "execute_result"
    }
   ],
   "source": [
    "X['EventDuration'].describe()"
   ]
  },
  {
   "cell_type": "code",
   "execution_count": 59,
   "metadata": {},
   "outputs": [],
   "source": [
    "title = alt.TitleParams('Histograma da duração dos Eventos', anchor='middle', fontSize=15)\n",
    "base = alt.Chart(X, title=title).encode(\n",
    "    alt.X(\n",
    "        'EventDuration',\n",
    "        #axis=alt.Axis(labelAngle=0),\n",
    "        title='Duração (s)'),\n",
    "    alt.Y('count()', title='Contagem').scale(type='log')\n",
    ").properties(\n",
    "    width=500,\n",
    "    height=400\n",
    ")\n",
    "p = base.mark_bar() + base.mark_text(align='center', dx=0, yOffset=-10)\n",
    "p.save('/Users/administrador/Documents/Pessoal/repositorios/information_visualization/images/11.duration_hist.png', ppi=300)"
   ]
  },
  {
   "cell_type": "markdown",
   "metadata": {},
   "source": [
    "## Transformation"
   ]
  },
  {
   "cell_type": "markdown",
   "metadata": {},
   "source": [
    "### Date variable"
   ]
  },
  {
   "cell_type": "code",
   "execution_count": 60,
   "metadata": {},
   "outputs": [],
   "source": [
    "X['EventDate'] = X['StartTime(UTC)'].apply(lambda x: x.date())"
   ]
  },
  {
   "cell_type": "markdown",
   "metadata": {},
   "source": [
    "Day, Month and Year (START and END)"
   ]
  },
  {
   "cell_type": "code",
   "execution_count": 61,
   "metadata": {},
   "outputs": [],
   "source": [
    "X['StartDay'] = X['StartTime(UTC)'].apply(lambda x: x.day)\n",
    "X['StartMonth'] = X['StartTime(UTC)'].apply(lambda x: x.month)\n",
    "X['StartYear'] = X['StartTime(UTC)'].apply(lambda x: x.year)\n",
    "\n",
    "X['EndDay'] = X['EndTime(UTC)'].apply(lambda x: x.day)\n",
    "X['EndMonth'] = X['EndTime(UTC)'].apply(lambda x: x.month)\n",
    "X['EndYear'] = X['EndTime(UTC)'].apply(lambda x: x.year)"
   ]
  },
  {
   "cell_type": "markdown",
   "metadata": {},
   "source": [
    "## Data Vizualization"
   ]
  },
  {
   "cell_type": "markdown",
   "metadata": {},
   "source": [
    "### Basic precipitation time series"
   ]
  },
  {
   "cell_type": "code",
   "execution_count": 62,
   "metadata": {},
   "outputs": [],
   "source": [
    "aggregation = {\n",
    "    'Precipitation(in)' : 'sum' \n",
    "}"
   ]
  },
  {
   "cell_type": "code",
   "execution_count": 63,
   "metadata": {},
   "outputs": [],
   "source": [
    "preci_by_date = X.groupby('EventDate').agg(aggregation)"
   ]
  },
  {
   "cell_type": "code",
   "execution_count": 64,
   "metadata": {},
   "outputs": [],
   "source": [
    "preci_by_date = preci_by_date.reset_index().copy()"
   ]
  },
  {
   "cell_type": "code",
   "execution_count": 65,
   "metadata": {},
   "outputs": [
    {
     "data": {
      "text/html": [
       "<div>\n",
       "<style scoped>\n",
       "    .dataframe tbody tr th:only-of-type {\n",
       "        vertical-align: middle;\n",
       "    }\n",
       "\n",
       "    .dataframe tbody tr th {\n",
       "        vertical-align: top;\n",
       "    }\n",
       "\n",
       "    .dataframe thead th {\n",
       "        text-align: right;\n",
       "    }\n",
       "</style>\n",
       "<table border=\"1\" class=\"dataframe\">\n",
       "  <thead>\n",
       "    <tr style=\"text-align: right;\">\n",
       "      <th></th>\n",
       "      <th>EventDate</th>\n",
       "      <th>Precipitation(in)</th>\n",
       "    </tr>\n",
       "  </thead>\n",
       "  <tbody>\n",
       "    <tr>\n",
       "      <th>0</th>\n",
       "      <td>2016-01-01</td>\n",
       "      <td>462.12</td>\n",
       "    </tr>\n",
       "    <tr>\n",
       "      <th>1</th>\n",
       "      <td>2016-01-02</td>\n",
       "      <td>40.10</td>\n",
       "    </tr>\n",
       "    <tr>\n",
       "      <th>2</th>\n",
       "      <td>2016-01-03</td>\n",
       "      <td>47.19</td>\n",
       "    </tr>\n",
       "    <tr>\n",
       "      <th>3</th>\n",
       "      <td>2016-01-04</td>\n",
       "      <td>34.00</td>\n",
       "    </tr>\n",
       "    <tr>\n",
       "      <th>4</th>\n",
       "      <td>2016-01-05</td>\n",
       "      <td>175.24</td>\n",
       "    </tr>\n",
       "  </tbody>\n",
       "</table>\n",
       "</div>"
      ],
      "text/plain": [
       "    EventDate  Precipitation(in)\n",
       "0  2016-01-01             462.12\n",
       "1  2016-01-02              40.10\n",
       "2  2016-01-03              47.19\n",
       "3  2016-01-04              34.00\n",
       "4  2016-01-05             175.24"
      ]
     },
     "execution_count": 65,
     "metadata": {},
     "output_type": "execute_result"
    }
   ],
   "source": [
    "preci_by_date.head()"
   ]
  },
  {
   "cell_type": "code",
   "execution_count": 66,
   "metadata": {},
   "outputs": [],
   "source": [
    "preci_by_date['EventDate'] = pd.to_datetime(preci_by_date['EventDate'])"
   ]
  },
  {
   "cell_type": "code",
   "execution_count": 67,
   "metadata": {},
   "outputs": [],
   "source": [
    "title = alt.Title('Precipitação total do país por dia', fontSize=15)\n",
    "\n",
    "ts_chart = alt.Chart(preci_by_date, title=title).mark_line().encode(\n",
    "    x=alt.X('EventDate:T', title='Dia'),\n",
    "    y=alt.Y(\n",
    "        'Precipitation(in):Q',\n",
    "        title='Precipitação (polegadas)'),\n",
    "    color=alt.value('navy')\n",
    ").properties(\n",
    "    width=600,\n",
    "    height=300\n",
    ")\n",
    "p = ts_chart\n",
    "p.save('/Users/administrador/Documents/Pessoal/repositorios/information_visualization/images/12.precipitation_day.png', ppi=300)"
   ]
  },
  {
   "cell_type": "markdown",
   "metadata": {},
   "source": [
    "Seasonal charts"
   ]
  },
  {
   "cell_type": "code",
   "execution_count": 68,
   "metadata": {},
   "outputs": [],
   "source": [
    "preci_by_month = X.groupby(['StartMonth', 'StartYear']).agg(aggregation).reset_index()"
   ]
  },
  {
   "cell_type": "code",
   "execution_count": 87,
   "metadata": {},
   "outputs": [],
   "source": [
    "title = alt.Title('Sazonalidade da precipitação por mês do ano')\n",
    "\n",
    "base = alt.Chart(preci_by_month, title=title).encode(\n",
    "    x=alt.X(\n",
    "        'StartMonth:N', \n",
    "        axis=alt.Axis(labelAngle=0),\n",
    "        title='Mês do ano'),\n",
    "    y=alt.Y('Precipitation(in):Q'),\n",
    "    color='StartYear:N'\n",
    ").properties(\n",
    "    width=600,\n",
    "    height=300\n",
    ")\n",
    "\n",
    "p = base.mark_line()\n",
    "p.save('/Users/administrador/Documents/Pessoal/repositorios/information_visualization/images/13.precipitation_seasonality_month.png', ppi=300)\n"
   ]
  },
  {
   "cell_type": "code",
   "execution_count": 91,
   "metadata": {},
   "outputs": [],
   "source": [
    "title = alt.Title('Tendência de precipitação por mês do ano')\n",
    "base = alt.Chart(preci_by_month).encode(\n",
    "    x=alt.X(\n",
    "        'StartYear:N',\n",
    "        axis=alt.Axis(labelAngle=-90),\n",
    "        scale=alt.Scale(nice={'interval': 'year', 'step': 2}),\n",
    "        title='Ano'),\n",
    "    y=alt.Y('Precipitation(in):Q', title='Precipitação (polegadas)')\n",
    ").properties(\n",
    "    width=50,\n",
    "    height=400\n",
    ")\n",
    "\n",
    "p = base.mark_line().facet(column='StartMonth')\n",
    "p.save('/Users/administrador/Documents/Pessoal/repositorios/information_visualization/images/14.precipitation_trend_month.png', ppi=300)"
   ]
  },
  {
   "cell_type": "markdown",
   "metadata": {},
   "source": [
    "Month"
   ]
  },
  {
   "cell_type": "code",
   "execution_count": 71,
   "metadata": {},
   "outputs": [
    {
     "data": {
      "text/plain": [
       "0           True\n",
       "1           True\n",
       "2           True\n",
       "3           True\n",
       "4           True\n",
       "           ...  \n",
       "7479160    False\n",
       "7479161    False\n",
       "7479162    False\n",
       "7479163    False\n",
       "7479164    False\n",
       "Name: StartYear, Length: 7479051, dtype: bool"
      ]
     },
     "execution_count": 71,
     "metadata": {},
     "output_type": "execute_result"
    }
   ],
   "source": [
    "X['StartYear'] == 2016"
   ]
  },
  {
   "cell_type": "code",
   "execution_count": 72,
   "metadata": {},
   "outputs": [],
   "source": [
    "preci_by_day = X[X['StartYear'] == 2016].groupby(['StartDay', 'StartMonth']).agg(aggregation).reset_index()"
   ]
  },
  {
   "cell_type": "code",
   "execution_count": 94,
   "metadata": {},
   "outputs": [],
   "source": [
    "title = alt.Title('Precipitação total por dia do mês em 2016')\n",
    "\n",
    "base = alt.Chart(preci_by_day, title=title).encode(\n",
    "    x=alt.X(\n",
    "        'StartDay:N', \n",
    "        axis=alt.Axis(labelAngle=0),\n",
    "        title='Dia do mês'),\n",
    "    y=alt.Y('Precipitation(in):Q', title='PrecipitaçAo (polegadas)'),\n",
    "    color=alt.Color('StartMonth:N').title('Mês')\n",
    ").properties(\n",
    "    width=600,\n",
    "    height=300\n",
    ")\n",
    "\n",
    "p = base.mark_line()\n",
    "p.save('/Users/administrador/Documents/Pessoal/repositorios/information_visualization/images/16.preci_seasonality_day_2016.png', ppi=300)\n"
   ]
  },
  {
   "cell_type": "code",
   "execution_count": 74,
   "metadata": {},
   "outputs": [],
   "source": [
    "teste_scale = X[['Precipitation(in)', 'StartTime(UTC)']].copy()"
   ]
  },
  {
   "cell_type": "code",
   "execution_count": 75,
   "metadata": {},
   "outputs": [],
   "source": [
    "from sklearn.preprocessing import MinMaxScaler"
   ]
  },
  {
   "cell_type": "code",
   "execution_count": 76,
   "metadata": {},
   "outputs": [],
   "source": [
    "scaler = MinMaxScaler()\n",
    "preci_scaled = scaler.fit_transform(teste_scale[['Precipitation(in)']])"
   ]
  },
  {
   "cell_type": "code",
   "execution_count": 77,
   "metadata": {},
   "outputs": [],
   "source": [
    "teste_scale['Precipitation(in)'] = preci_scaled"
   ]
  },
  {
   "cell_type": "code",
   "execution_count": 78,
   "metadata": {},
   "outputs": [
    {
     "data": {
      "text/plain": [
       "np.float64(0.0)"
      ]
     },
     "execution_count": 78,
     "metadata": {},
     "output_type": "execute_result"
    }
   ],
   "source": [
    "preci_scaled.min()"
   ]
  },
  {
   "cell_type": "code",
   "execution_count": 79,
   "metadata": {},
   "outputs": [
    {
     "data": {
      "text/plain": [
       "np.float64(1.0)"
      ]
     },
     "execution_count": 79,
     "metadata": {},
     "output_type": "execute_result"
    }
   ],
   "source": [
    "preci_scaled.max()"
   ]
  },
  {
   "cell_type": "code",
   "execution_count": 90,
   "metadata": {},
   "outputs": [],
   "source": [
    "title = alt.TitleParams('Histograma de precipitação escalada', anchor='middle')\n",
    "base = alt.Chart(teste_scale, title=title).encode(\n",
    "    alt.X(\n",
    "        'Precipitation(in)',\n",
    "        #axis=alt.Axis(labelAngle=0),\n",
    "        title='Precipitação (polegadas)'),\n",
    "    alt.Y('count()', title='Contagem').scale(type='log')\n",
    ").properties(\n",
    "    width=500,\n",
    "    height=400\n",
    ")\n",
    "p = base.mark_bar() + base.mark_text(align='center', dx=0, yOffset=-10)\n",
    "p.save('/Users/administrador/Documents/Pessoal/repositorios/information_visualization/images/15.preci_min_max.png', ppi=300)"
   ]
  },
  {
   "cell_type": "code",
   "execution_count": 81,
   "metadata": {},
   "outputs": [],
   "source": [
    "X_na = X[X.isnull().any(axis=1)][['LocationLat', 'LocationLng']].drop_duplicates()"
   ]
  },
  {
   "cell_type": "code",
   "execution_count": 82,
   "metadata": {},
   "outputs": [
    {
     "data": {
      "text/plain": [
       "EventId                  0\n",
       "Type                     0\n",
       "Severity                 0\n",
       "StartTime(UTC)           0\n",
       "EndTime(UTC)             0\n",
       "Precipitation(in)        0\n",
       "TimeZone                 0\n",
       "AirportCode              0\n",
       "LocationLat              0\n",
       "LocationLng              0\n",
       "City                 14563\n",
       "County                   0\n",
       "State                    0\n",
       "ZipCode              59234\n",
       "EventDuration            0\n",
       "EventDate                0\n",
       "StartDay                 0\n",
       "StartMonth               0\n",
       "StartYear                0\n",
       "EndDay                   0\n",
       "EndMonth                 0\n",
       "EndYear                  0\n",
       "dtype: int64"
      ]
     },
     "execution_count": 82,
     "metadata": {},
     "output_type": "execute_result"
    }
   ],
   "source": [
    "X.isnull().sum()"
   ]
  },
  {
   "cell_type": "code",
   "execution_count": 83,
   "metadata": {},
   "outputs": [
    {
     "data": {
      "text/html": [
       "<div>\n",
       "<style scoped>\n",
       "    .dataframe tbody tr th:only-of-type {\n",
       "        vertical-align: middle;\n",
       "    }\n",
       "\n",
       "    .dataframe tbody tr th {\n",
       "        vertical-align: top;\n",
       "    }\n",
       "\n",
       "    .dataframe thead th {\n",
       "        text-align: right;\n",
       "    }\n",
       "</style>\n",
       "<table border=\"1\" class=\"dataframe\">\n",
       "  <thead>\n",
       "    <tr style=\"text-align: right;\">\n",
       "      <th></th>\n",
       "      <th>LocationLat</th>\n",
       "      <th>LocationLng</th>\n",
       "      <th>City</th>\n",
       "      <th>ZipCode</th>\n",
       "    </tr>\n",
       "  </thead>\n",
       "  <tbody>\n",
       "    <tr>\n",
       "      <th>47309</th>\n",
       "      <td>35.0222</td>\n",
       "      <td>-76.4625</td>\n",
       "      <td>Davis</td>\n",
       "      <td>NaN</td>\n",
       "    </tr>\n",
       "    <tr>\n",
       "      <th>194050</th>\n",
       "      <td>33.2338</td>\n",
       "      <td>-119.4559</td>\n",
       "      <td>None</td>\n",
       "      <td>NaN</td>\n",
       "    </tr>\n",
       "    <tr>\n",
       "      <th>729442</th>\n",
       "      <td>38.7578</td>\n",
       "      <td>-104.3013</td>\n",
       "      <td>None</td>\n",
       "      <td>NaN</td>\n",
       "    </tr>\n",
       "    <tr>\n",
       "      <th>961214</th>\n",
       "      <td>40.7187</td>\n",
       "      <td>-114.0309</td>\n",
       "      <td>Wendover</td>\n",
       "      <td>NaN</td>\n",
       "    </tr>\n",
       "    <tr>\n",
       "      <th>995177</th>\n",
       "      <td>26.9688</td>\n",
       "      <td>-99.2489</td>\n",
       "      <td>Zapata</td>\n",
       "      <td>NaN</td>\n",
       "    </tr>\n",
       "    <tr>\n",
       "      <th>1766339</th>\n",
       "      <td>35.8890</td>\n",
       "      <td>-101.0300</td>\n",
       "      <td>Miami</td>\n",
       "      <td>NaN</td>\n",
       "    </tr>\n",
       "    <tr>\n",
       "      <th>2364292</th>\n",
       "      <td>47.4542</td>\n",
       "      <td>-115.6697</td>\n",
       "      <td>Mullan</td>\n",
       "      <td>NaN</td>\n",
       "    </tr>\n",
       "    <tr>\n",
       "      <th>2936187</th>\n",
       "      <td>44.2708</td>\n",
       "      <td>-71.3035</td>\n",
       "      <td>Sargents</td>\n",
       "      <td>NaN</td>\n",
       "    </tr>\n",
       "    <tr>\n",
       "      <th>3327594</th>\n",
       "      <td>44.6629</td>\n",
       "      <td>-104.5678</td>\n",
       "      <td>None</td>\n",
       "      <td>NaN</td>\n",
       "    </tr>\n",
       "    <tr>\n",
       "      <th>4406000</th>\n",
       "      <td>31.3460</td>\n",
       "      <td>-85.6543</td>\n",
       "      <td>None</td>\n",
       "      <td>NaN</td>\n",
       "    </tr>\n",
       "    <tr>\n",
       "      <th>5369925</th>\n",
       "      <td>34.2950</td>\n",
       "      <td>-103.7860</td>\n",
       "      <td>Elida</td>\n",
       "      <td>NaN</td>\n",
       "    </tr>\n",
       "    <tr>\n",
       "      <th>6135418</th>\n",
       "      <td>39.4256</td>\n",
       "      <td>-107.3792</td>\n",
       "      <td>Glenwood Springs</td>\n",
       "      <td>NaN</td>\n",
       "    </tr>\n",
       "    <tr>\n",
       "      <th>6641334</th>\n",
       "      <td>31.6056</td>\n",
       "      <td>-110.4281</td>\n",
       "      <td>Sierra Vista</td>\n",
       "      <td>NaN</td>\n",
       "    </tr>\n",
       "    <tr>\n",
       "      <th>6705847</th>\n",
       "      <td>28.8625</td>\n",
       "      <td>-96.9297</td>\n",
       "      <td>Victoria</td>\n",
       "      <td>NaN</td>\n",
       "    </tr>\n",
       "    <tr>\n",
       "      <th>7293565</th>\n",
       "      <td>40.0503</td>\n",
       "      <td>-105.5839</td>\n",
       "      <td>Bald Mountain</td>\n",
       "      <td>NaN</td>\n",
       "    </tr>\n",
       "    <tr>\n",
       "      <th>7363116</th>\n",
       "      <td>28.2090</td>\n",
       "      <td>-100.0190</td>\n",
       "      <td>Carrizo Springs</td>\n",
       "      <td>NaN</td>\n",
       "    </tr>\n",
       "    <tr>\n",
       "      <th>7414101</th>\n",
       "      <td>46.5667</td>\n",
       "      <td>-119.6000</td>\n",
       "      <td>Hanford Site</td>\n",
       "      <td>NaN</td>\n",
       "    </tr>\n",
       "  </tbody>\n",
       "</table>\n",
       "</div>"
      ],
      "text/plain": [
       "         LocationLat  LocationLng              City ZipCode\n",
       "47309        35.0222     -76.4625             Davis     NaN\n",
       "194050       33.2338    -119.4559              None     NaN\n",
       "729442       38.7578    -104.3013              None     NaN\n",
       "961214       40.7187    -114.0309          Wendover     NaN\n",
       "995177       26.9688     -99.2489            Zapata     NaN\n",
       "1766339      35.8890    -101.0300             Miami     NaN\n",
       "2364292      47.4542    -115.6697            Mullan     NaN\n",
       "2936187      44.2708     -71.3035          Sargents     NaN\n",
       "3327594      44.6629    -104.5678              None     NaN\n",
       "4406000      31.3460     -85.6543              None     NaN\n",
       "5369925      34.2950    -103.7860             Elida     NaN\n",
       "6135418      39.4256    -107.3792  Glenwood Springs     NaN\n",
       "6641334      31.6056    -110.4281      Sierra Vista     NaN\n",
       "6705847      28.8625     -96.9297          Victoria     NaN\n",
       "7293565      40.0503    -105.5839     Bald Mountain     NaN\n",
       "7363116      28.2090    -100.0190   Carrizo Springs     NaN\n",
       "7414101      46.5667    -119.6000      Hanford Site     NaN"
      ]
     },
     "execution_count": 83,
     "metadata": {},
     "output_type": "execute_result"
    }
   ],
   "source": [
    "X[X.isnull().any(axis=1)][['LocationLat', 'LocationLng', 'City', 'ZipCode']].drop_duplicates()"
   ]
  },
  {
   "cell_type": "code",
   "execution_count": 84,
   "metadata": {},
   "outputs": [
    {
     "data": {
      "text/html": [
       "<div>\n",
       "<style scoped>\n",
       "    .dataframe tbody tr th:only-of-type {\n",
       "        vertical-align: middle;\n",
       "    }\n",
       "\n",
       "    .dataframe tbody tr th {\n",
       "        vertical-align: top;\n",
       "    }\n",
       "\n",
       "    .dataframe thead th {\n",
       "        text-align: right;\n",
       "    }\n",
       "</style>\n",
       "<table border=\"1\" class=\"dataframe\">\n",
       "  <thead>\n",
       "    <tr style=\"text-align: right;\">\n",
       "      <th></th>\n",
       "      <th>LocationLat</th>\n",
       "      <th>LocationLng</th>\n",
       "      <th>City</th>\n",
       "      <th>ZipCode</th>\n",
       "    </tr>\n",
       "  </thead>\n",
       "  <tbody>\n",
       "  </tbody>\n",
       "</table>\n",
       "</div>"
      ],
      "text/plain": [
       "Empty DataFrame\n",
       "Columns: [LocationLat, LocationLng, City, ZipCode]\n",
       "Index: []"
      ]
     },
     "execution_count": 84,
     "metadata": {},
     "output_type": "execute_result"
    }
   ],
   "source": [
    "X_na.merge(X[np.logical_not(X.isnull().any(axis=1))][['LocationLat', 'LocationLng', 'City', 'ZipCode']], left_on=['LocationLat', 'LocationLng'], right_on=['LocationLat', 'LocationLng'])"
   ]
  },
  {
   "cell_type": "code",
   "execution_count": 85,
   "metadata": {},
   "outputs": [
    {
     "data": {
      "text/plain": [
       "array([None], dtype=object)"
      ]
     },
     "execution_count": 85,
     "metadata": {},
     "output_type": "execute_result"
    }
   ],
   "source": [
    "X[(X['LocationLat'] == 33.2338) & (X['LocationLng'] == -119.4559)]['City'].unique()"
   ]
  },
  {
   "cell_type": "code",
   "execution_count": 86,
   "metadata": {},
   "outputs": [
    {
     "data": {
      "text/plain": [
       "array([nan, 95616.0], dtype=object)"
      ]
     },
     "execution_count": 86,
     "metadata": {},
     "output_type": "execute_result"
    }
   ],
   "source": [
    "X[X['City'] == 'Davis']['ZipCode'].unique()"
   ]
  },
  {
   "cell_type": "markdown",
   "metadata": {},
   "source": [
    "Choropleth Maps"
   ]
  },
  {
   "cell_type": "code",
   "execution_count": null,
   "metadata": {},
   "outputs": [],
   "source": [
    "us_state_to_abbrev = {\n",
    "    \"Alabama\": \"AL\",\n",
    "    \"Alaska\": \"AK\",\n",
    "    \"Arizona\": \"AZ\",\n",
    "    \"Arkansas\": \"AR\",\n",
    "    \"California\": \"CA\",\n",
    "    \"Colorado\": \"CO\",\n",
    "    \"Connecticut\": \"CT\",\n",
    "    \"Delaware\": \"DE\",\n",
    "    \"Florida\": \"FL\",\n",
    "    \"Georgia\": \"GA\",\n",
    "    \"Hawaii\": \"HI\",\n",
    "    \"Idaho\": \"ID\",\n",
    "    \"Illinois\": \"IL\",\n",
    "    \"Indiana\": \"IN\",\n",
    "    \"Iowa\": \"IA\",\n",
    "    \"Kansas\": \"KS\",\n",
    "    \"Kentucky\": \"KY\",\n",
    "    \"Louisiana\": \"LA\",\n",
    "    \"Maine\": \"ME\",\n",
    "    \"Maryland\": \"MD\",\n",
    "    \"Massachusetts\": \"MA\",\n",
    "    \"Michigan\": \"MI\",\n",
    "    \"Minnesota\": \"MN\",\n",
    "    \"Mississippi\": \"MS\",\n",
    "    \"Missouri\": \"MO\",\n",
    "    \"Montana\": \"MT\",\n",
    "    \"Nebraska\": \"NE\",\n",
    "    \"Nevada\": \"NV\",\n",
    "    \"New Hampshire\": \"NH\",\n",
    "    \"New Jersey\": \"NJ\",\n",
    "    \"New Mexico\": \"NM\",\n",
    "    \"New York\": \"NY\",\n",
    "    \"North Carolina\": \"NC\",\n",
    "    \"North Dakota\": \"ND\",\n",
    "    \"Ohio\": \"OH\",\n",
    "    \"Oklahoma\": \"OK\",\n",
    "    \"Oregon\": \"OR\",\n",
    "    \"Pennsylvania\": \"PA\",\n",
    "    \"Rhode Island\": \"RI\",\n",
    "    \"South Carolina\": \"SC\",\n",
    "    \"South Dakota\": \"SD\",\n",
    "    \"Tennessee\": \"TN\",\n",
    "    \"Texas\": \"TX\",\n",
    "    \"Utah\": \"UT\",\n",
    "    \"Vermont\": \"VT\",\n",
    "    \"Virginia\": \"VA\",\n",
    "    \"Washington\": \"WA\",\n",
    "    \"West Virginia\": \"WV\",\n",
    "    \"Wisconsin\": \"WI\",\n",
    "    \"Wyoming\": \"WY\",\n",
    "    \"District of Columbia\": \"DC\",\n",
    "    \"American Samoa\": \"AS\",\n",
    "    \"Guam\": \"GU\",\n",
    "    \"Northern Mariana Islands\": \"MP\",\n",
    "    \"Puerto Rico\": \"PR\",\n",
    "    \"United States Minor Outlying Islands\": \"UM\",\n",
    "    \"Virgin Islands, U.S.\": \"VI\",\n",
    "}"
   ]
  },
  {
   "cell_type": "code",
   "execution_count": 191,
   "metadata": {},
   "outputs": [],
   "source": [
    "import us"
   ]
  },
  {
   "cell_type": "code",
   "execution_count": 195,
   "metadata": {},
   "outputs": [
    {
     "data": {
      "text/plain": [
       "[<State:Alabama>,\n",
       " <State:Alaska>,\n",
       " <State:Arizona>,\n",
       " <State:Arkansas>,\n",
       " <State:California>,\n",
       " <State:Colorado>,\n",
       " <State:Connecticut>,\n",
       " <State:Delaware>,\n",
       " <State:Florida>,\n",
       " <State:Georgia>,\n",
       " <State:Hawaii>,\n",
       " <State:Idaho>,\n",
       " <State:Illinois>,\n",
       " <State:Indiana>,\n",
       " <State:Iowa>,\n",
       " <State:Kansas>,\n",
       " <State:Kentucky>,\n",
       " <State:Louisiana>,\n",
       " <State:Maine>,\n",
       " <State:Maryland>,\n",
       " <State:Massachusetts>,\n",
       " <State:Michigan>,\n",
       " <State:Minnesota>,\n",
       " <State:Mississippi>,\n",
       " <State:Missouri>,\n",
       " <State:Montana>,\n",
       " <State:Nebraska>,\n",
       " <State:Nevada>,\n",
       " <State:New Hampshire>,\n",
       " <State:New Jersey>,\n",
       " <State:New Mexico>,\n",
       " <State:New York>,\n",
       " <State:North Carolina>,\n",
       " <State:North Dakota>,\n",
       " <State:Ohio>,\n",
       " <State:Oklahoma>,\n",
       " <State:Oregon>,\n",
       " <State:Pennsylvania>,\n",
       " <State:Rhode Island>,\n",
       " <State:South Carolina>,\n",
       " <State:South Dakota>,\n",
       " <State:Tennessee>,\n",
       " <State:Texas>,\n",
       " <State:Utah>,\n",
       " <State:Vermont>,\n",
       " <State:Virginia>,\n",
       " <State:Washington>,\n",
       " <State:West Virginia>,\n",
       " <State:Wisconsin>,\n",
       " <State:Wyoming>]"
      ]
     },
     "execution_count": 195,
     "metadata": {},
     "output_type": "execute_result"
    }
   ],
   "source": [
    "us."
   ]
  },
  {
   "cell_type": "code",
   "execution_count": 146,
   "metadata": {},
   "outputs": [],
   "source": [
    "abbrev_to_us_state = dict(map(reversed, us_state_to_abbrev.items()))"
   ]
  },
  {
   "cell_type": "code",
   "execution_count": 135,
   "metadata": {},
   "outputs": [],
   "source": [
    "aggregation = {'EventId': 'count'}"
   ]
  },
  {
   "cell_type": "code",
   "execution_count": 196,
   "metadata": {},
   "outputs": [],
   "source": [
    "county_n_events = X.groupby('State').agg(aggregation).reset_index() "
   ]
  },
  {
   "cell_type": "code",
   "execution_count": 197,
   "metadata": {},
   "outputs": [],
   "source": [
    "county_n_events.columns = ['state', 'n_events']"
   ]
  },
  {
   "cell_type": "code",
   "execution_count": 211,
   "metadata": {},
   "outputs": [],
   "source": [
    "def get_state_fips(state_abb):\n",
    "    state = us.states.lookup(state_abb)\n",
    "    return int(state.fips)\n"
   ]
  },
  {
   "cell_type": "code",
   "execution_count": 212,
   "metadata": {},
   "outputs": [],
   "source": [
    "county_n_events['fips'] = county_n_events['state'].apply(lambda x: get_state_fips(x) )"
   ]
  },
  {
   "cell_type": "code",
   "execution_count": 213,
   "metadata": {},
   "outputs": [
    {
     "data": {
      "text/html": [
       "<div>\n",
       "<style scoped>\n",
       "    .dataframe tbody tr th:only-of-type {\n",
       "        vertical-align: middle;\n",
       "    }\n",
       "\n",
       "    .dataframe tbody tr th {\n",
       "        vertical-align: top;\n",
       "    }\n",
       "\n",
       "    .dataframe thead th {\n",
       "        text-align: right;\n",
       "    }\n",
       "</style>\n",
       "<table border=\"1\" class=\"dataframe\">\n",
       "  <thead>\n",
       "    <tr style=\"text-align: right;\">\n",
       "      <th></th>\n",
       "      <th>state</th>\n",
       "      <th>n_events</th>\n",
       "      <th>fips</th>\n",
       "    </tr>\n",
       "  </thead>\n",
       "  <tbody>\n",
       "    <tr>\n",
       "      <th>0</th>\n",
       "      <td>AL</td>\n",
       "      <td>172138</td>\n",
       "      <td>1</td>\n",
       "    </tr>\n",
       "    <tr>\n",
       "      <th>1</th>\n",
       "      <td>AR</td>\n",
       "      <td>137131</td>\n",
       "      <td>5</td>\n",
       "    </tr>\n",
       "    <tr>\n",
       "      <th>2</th>\n",
       "      <td>AZ</td>\n",
       "      <td>56071</td>\n",
       "      <td>4</td>\n",
       "    </tr>\n",
       "    <tr>\n",
       "      <th>3</th>\n",
       "      <td>CA</td>\n",
       "      <td>309423</td>\n",
       "      <td>6</td>\n",
       "    </tr>\n",
       "    <tr>\n",
       "      <th>4</th>\n",
       "      <td>CO</td>\n",
       "      <td>169836</td>\n",
       "      <td>8</td>\n",
       "    </tr>\n",
       "  </tbody>\n",
       "</table>\n",
       "</div>"
      ],
      "text/plain": [
       "  state  n_events  fips\n",
       "0    AL    172138     1\n",
       "1    AR    137131     5\n",
       "2    AZ     56071     4\n",
       "3    CA    309423     6\n",
       "4    CO    169836     8"
      ]
     },
     "execution_count": 213,
     "metadata": {},
     "output_type": "execute_result"
    }
   ],
   "source": [
    "county_n_events.head()"
   ]
  },
  {
   "cell_type": "markdown",
   "metadata": {},
   "source": [
    "Wheather Stations Locations (Latitude and Longitude)"
   ]
  },
  {
   "cell_type": "code",
   "execution_count": 204,
   "metadata": {},
   "outputs": [],
   "source": [
    "states = alt.topo_feature(data.us_10m.url, 'states')\n",
    "#capitals = data.us_state_capitals.url"
   ]
  },
  {
   "cell_type": "code",
   "execution_count": 205,
   "metadata": {},
   "outputs": [
    {
     "data": {
      "text/plain": [
       "UrlData({\n",
       "  format: TopoDataFormat({\n",
       "    feature: 'states',\n",
       "    type: 'topojson'\n",
       "  }),\n",
       "  url: 'https://cdn.jsdelivr.net/npm/vega-datasets@v1.29.0/data/us-10m.json'\n",
       "})"
      ]
     },
     "execution_count": 205,
     "metadata": {},
     "output_type": "execute_result"
    }
   ],
   "source": [
    "states"
   ]
  },
  {
   "cell_type": "code",
   "execution_count": 224,
   "metadata": {},
   "outputs": [],
   "source": [
    "title = alt.Title('Distribuição de eventos por estado', fontSize=15)\n",
    "chart = alt.Chart(states, title=title).mark_geoshape(\n",
    "    stroke='gray'\n",
    ").encode(\n",
    "    color=alt.Color('n_events:Q').title('Qtd. de Eventos')\n",
    ").transform_lookup(\n",
    "    lookup='id',\n",
    "    from_=alt.LookupData(county_n_events, 'fips', ['n_events'])\n",
    ").project(\n",
    "    type='albersUsa'\n",
    ").properties(\n",
    "    width=600,\n",
    "    height=400\n",
    ")\n",
    "p = chart\n",
    "p.save('/Users/administrador/Documents/Pessoal/repositorios/information_visualization/images/17.total_events_states.png', ppi=300)"
   ]
  },
  {
   "cell_type": "code",
   "execution_count": null,
   "metadata": {},
   "outputs": [],
   "source": [
    "base = alt.Chart(X[['LocationLat', 'LocationLng']].drop_duplicates()).encode(\n",
    "    longitude='LocationLng:Q',\n",
    "    latitude='LocationLat:Q',\n",
    ")"
   ]
  },
  {
   "cell_type": "code",
   "execution_count": null,
   "metadata": {},
   "outputs": [],
   "source": [
    "text = base.mark_text(dy=-5, align='right').encode(\n",
    "    alt.Text('city:N'),\n",
    "    opacity=alt.condition(~hover, alt.value(0), alt.value(1))\n",
    ")"
   ]
  },
  {
   "cell_type": "code",
   "execution_count": null,
   "metadata": {},
   "outputs": [],
   "source": [
    "points = base.mark_point().encode(\n",
    "    color=alt.value('blue'),\n",
    "    size= alt.value(5),#alt.condition(~hover, alt.value(5), alt.value(5))\n",
    "    opacity=alt.value(0.3)\n",
    ")#.add_params(hover)"
   ]
  },
  {
   "cell_type": "code",
   "execution_count": null,
   "metadata": {},
   "outputs": [],
   "source": [
    "p = background + points #+ text\n",
    "p.save('/Users/administrador/Documents/Pessoal/repositorios/information_visualization/images/6.stations_locations.png', ppi=300)"
   ]
  }
 ],
 "metadata": {
  "kernelspec": {
   "display_name": "info_viz_env",
   "language": "python",
   "name": "python3"
  },
  "language_info": {
   "codemirror_mode": {
    "name": "ipython",
    "version": 3
   },
   "file_extension": ".py",
   "mimetype": "text/x-python",
   "name": "python",
   "nbconvert_exporter": "python",
   "pygments_lexer": "ipython3",
   "version": "3.12.2"
  }
 },
 "nbformat": 4,
 "nbformat_minor": 2
}
