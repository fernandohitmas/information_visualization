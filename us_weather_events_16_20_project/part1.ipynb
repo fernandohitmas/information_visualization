{
 "cells": [
  {
   "cell_type": "markdown",
   "metadata": {},
   "source": [
    "# Information Visualization Project - Part 1\n",
    "\n",
    "The dataset the group will dive into describes different kinds of weather phenomena <br>\n",
    "in the United States. It can be found through the following [LINK](https://openml.org/search?type=data&id=43380) \n",
    "accessing the OpenML website."
   ]
  },
  {
   "cell_type": "markdown",
   "metadata": {},
   "source": [
    "## A brief description"
   ]
  },
  {
   "cell_type": "markdown",
   "metadata": {},
   "source": [
    "The US Weather Dataset (2016-2020) compiles the climate data from 2 thousand airports<br>\n",
    "Throughout the country of the United States, it covers 49 states and all the data <br>\n",
    "streches from January 2016 up to December 2020."
   ]
  },
  {
   "cell_type": "markdown",
   "metadata": {},
   "source": [
    "## Libraries Imports"
   ]
  },
  {
   "cell_type": "code",
   "execution_count": 1,
   "metadata": {},
   "outputs": [],
   "source": [
    "# Basic libraries\n",
    "import numpy as np\n",
    "import pandas as pd\n",
    "import matplotlib.pyplot as plt\n",
    "import seaborn as sns\n",
    "\n",
    "# Vega Altair\n",
    "import altair as alt\n",
    "\n",
    "# Download Data\n",
    "import openml "
   ]
  },
  {
   "cell_type": "markdown",
   "metadata": {},
   "source": [
    "To use altair with larger datasets:"
   ]
  },
  {
   "cell_type": "code",
   "execution_count": 2,
   "metadata": {},
   "outputs": [
    {
     "data": {
      "text/plain": [
       "DataTransformerRegistry.enable('vegafusion')"
      ]
     },
     "execution_count": 2,
     "metadata": {},
     "output_type": "execute_result"
    }
   ],
   "source": [
    "alt.data_transformers.enable(\"vegafusion\")"
   ]
  },
  {
   "cell_type": "markdown",
   "metadata": {},
   "source": [
    "## Downloading data"
   ]
  },
  {
   "cell_type": "code",
   "execution_count": 3,
   "metadata": {},
   "outputs": [],
   "source": [
    "dataset = openml.datasets.get_dataset(43380)"
   ]
  },
  {
   "cell_type": "code",
   "execution_count": 4,
   "metadata": {},
   "outputs": [
    {
     "data": {
      "text/plain": [
       "OpenML Dataset\n",
       "==============\n",
       "Name.........: US-Weather-Events-(2016---2020)\n",
       "Version......: 1\n",
       "Format.......: arff\n",
       "Upload Date..: 2022-03-23 12:51:42\n",
       "Licence......: CC BY-NC-SA 4.0\n",
       "Download URL.: https://api.openml.org/data/v1/download/22102205/US-Weather-Events-(2016---2020).arff\n",
       "OpenML URL...: https://www.openml.org/d/43380\n",
       "# of features: None"
      ]
     },
     "execution_count": 4,
     "metadata": {},
     "output_type": "execute_result"
    }
   ],
   "source": [
    "dataset"
   ]
  },
  {
   "cell_type": "code",
   "execution_count": 5,
   "metadata": {},
   "outputs": [],
   "source": [
    "X, y, _, _ = dataset.get_data(dataset_format=\"dataframe\")"
   ]
  },
  {
   "cell_type": "code",
   "execution_count": 6,
   "metadata": {},
   "outputs": [
    {
     "data": {
      "text/html": [
       "<div>\n",
       "<style scoped>\n",
       "    .dataframe tbody tr th:only-of-type {\n",
       "        vertical-align: middle;\n",
       "    }\n",
       "\n",
       "    .dataframe tbody tr th {\n",
       "        vertical-align: top;\n",
       "    }\n",
       "\n",
       "    .dataframe thead th {\n",
       "        text-align: right;\n",
       "    }\n",
       "</style>\n",
       "<table border=\"1\" class=\"dataframe\">\n",
       "  <thead>\n",
       "    <tr style=\"text-align: right;\">\n",
       "      <th></th>\n",
       "      <th>EventId</th>\n",
       "      <th>Type</th>\n",
       "      <th>Severity</th>\n",
       "      <th>StartTime(UTC)</th>\n",
       "      <th>EndTime(UTC)</th>\n",
       "      <th>Precipitation(in)</th>\n",
       "      <th>TimeZone</th>\n",
       "      <th>AirportCode</th>\n",
       "      <th>LocationLat</th>\n",
       "      <th>LocationLng</th>\n",
       "      <th>City</th>\n",
       "      <th>County</th>\n",
       "      <th>State</th>\n",
       "      <th>ZipCode</th>\n",
       "    </tr>\n",
       "  </thead>\n",
       "  <tbody>\n",
       "    <tr>\n",
       "      <th>0</th>\n",
       "      <td>W-1</td>\n",
       "      <td>Snow</td>\n",
       "      <td>Light</td>\n",
       "      <td>2016-01-06 23:14:00</td>\n",
       "      <td>2016-01-07 00:34:00</td>\n",
       "      <td>0.00</td>\n",
       "      <td>US/Mountain</td>\n",
       "      <td>K04V</td>\n",
       "      <td>38.0972</td>\n",
       "      <td>-106.1689</td>\n",
       "      <td>Saguache</td>\n",
       "      <td>Saguache</td>\n",
       "      <td>CO</td>\n",
       "      <td>81149.0</td>\n",
       "    </tr>\n",
       "    <tr>\n",
       "      <th>1</th>\n",
       "      <td>W-2</td>\n",
       "      <td>Snow</td>\n",
       "      <td>Light</td>\n",
       "      <td>2016-01-07 04:14:00</td>\n",
       "      <td>2016-01-07 04:54:00</td>\n",
       "      <td>0.00</td>\n",
       "      <td>US/Mountain</td>\n",
       "      <td>K04V</td>\n",
       "      <td>38.0972</td>\n",
       "      <td>-106.1689</td>\n",
       "      <td>Saguache</td>\n",
       "      <td>Saguache</td>\n",
       "      <td>CO</td>\n",
       "      <td>81149.0</td>\n",
       "    </tr>\n",
       "    <tr>\n",
       "      <th>2</th>\n",
       "      <td>W-3</td>\n",
       "      <td>Snow</td>\n",
       "      <td>Light</td>\n",
       "      <td>2016-01-07 05:54:00</td>\n",
       "      <td>2016-01-07 15:34:00</td>\n",
       "      <td>0.03</td>\n",
       "      <td>US/Mountain</td>\n",
       "      <td>K04V</td>\n",
       "      <td>38.0972</td>\n",
       "      <td>-106.1689</td>\n",
       "      <td>Saguache</td>\n",
       "      <td>Saguache</td>\n",
       "      <td>CO</td>\n",
       "      <td>81149.0</td>\n",
       "    </tr>\n",
       "    <tr>\n",
       "      <th>3</th>\n",
       "      <td>W-4</td>\n",
       "      <td>Snow</td>\n",
       "      <td>Light</td>\n",
       "      <td>2016-01-08 05:34:00</td>\n",
       "      <td>2016-01-08 05:54:00</td>\n",
       "      <td>0.00</td>\n",
       "      <td>US/Mountain</td>\n",
       "      <td>K04V</td>\n",
       "      <td>38.0972</td>\n",
       "      <td>-106.1689</td>\n",
       "      <td>Saguache</td>\n",
       "      <td>Saguache</td>\n",
       "      <td>CO</td>\n",
       "      <td>81149.0</td>\n",
       "    </tr>\n",
       "    <tr>\n",
       "      <th>4</th>\n",
       "      <td>W-5</td>\n",
       "      <td>Snow</td>\n",
       "      <td>Light</td>\n",
       "      <td>2016-01-08 13:54:00</td>\n",
       "      <td>2016-01-08 15:54:00</td>\n",
       "      <td>0.00</td>\n",
       "      <td>US/Mountain</td>\n",
       "      <td>K04V</td>\n",
       "      <td>38.0972</td>\n",
       "      <td>-106.1689</td>\n",
       "      <td>Saguache</td>\n",
       "      <td>Saguache</td>\n",
       "      <td>CO</td>\n",
       "      <td>81149.0</td>\n",
       "    </tr>\n",
       "  </tbody>\n",
       "</table>\n",
       "</div>"
      ],
      "text/plain": [
       "  EventId  Type Severity       StartTime(UTC)         EndTime(UTC)  \\\n",
       "0     W-1  Snow    Light  2016-01-06 23:14:00  2016-01-07 00:34:00   \n",
       "1     W-2  Snow    Light  2016-01-07 04:14:00  2016-01-07 04:54:00   \n",
       "2     W-3  Snow    Light  2016-01-07 05:54:00  2016-01-07 15:34:00   \n",
       "3     W-4  Snow    Light  2016-01-08 05:34:00  2016-01-08 05:54:00   \n",
       "4     W-5  Snow    Light  2016-01-08 13:54:00  2016-01-08 15:54:00   \n",
       "\n",
       "   Precipitation(in)     TimeZone AirportCode  LocationLat  LocationLng  \\\n",
       "0               0.00  US/Mountain        K04V      38.0972    -106.1689   \n",
       "1               0.00  US/Mountain        K04V      38.0972    -106.1689   \n",
       "2               0.03  US/Mountain        K04V      38.0972    -106.1689   \n",
       "3               0.00  US/Mountain        K04V      38.0972    -106.1689   \n",
       "4               0.00  US/Mountain        K04V      38.0972    -106.1689   \n",
       "\n",
       "       City    County State  ZipCode  \n",
       "0  Saguache  Saguache    CO  81149.0  \n",
       "1  Saguache  Saguache    CO  81149.0  \n",
       "2  Saguache  Saguache    CO  81149.0  \n",
       "3  Saguache  Saguache    CO  81149.0  \n",
       "4  Saguache  Saguache    CO  81149.0  "
      ]
     },
     "execution_count": 6,
     "metadata": {},
     "output_type": "execute_result"
    }
   ],
   "source": [
    "X.head()"
   ]
  },
  {
   "cell_type": "code",
   "execution_count": 7,
   "metadata": {},
   "outputs": [
    {
     "name": "stdout",
     "output_type": "stream",
     "text": [
      "<class 'pandas.core.frame.DataFrame'>\n",
      "RangeIndex: 7479165 entries, 0 to 7479164\n",
      "Data columns (total 14 columns):\n",
      " #   Column             Dtype  \n",
      "---  ------             -----  \n",
      " 0   EventId            object \n",
      " 1   Type               object \n",
      " 2   Severity           object \n",
      " 3   StartTime(UTC)     object \n",
      " 4   EndTime(UTC)       object \n",
      " 5   Precipitation(in)  float64\n",
      " 6   TimeZone           object \n",
      " 7   AirportCode        object \n",
      " 8   LocationLat        float64\n",
      " 9   LocationLng        float64\n",
      " 10  City               object \n",
      " 11  County             object \n",
      " 12  State              object \n",
      " 13  ZipCode            float64\n",
      "dtypes: float64(4), object(10)\n",
      "memory usage: 798.9+ MB\n"
     ]
    }
   ],
   "source": [
    "X.info()"
   ]
  },
  {
   "cell_type": "markdown",
   "metadata": {},
   "source": [
    "## Data Exploration"
   ]
  },
  {
   "cell_type": "markdown",
   "metadata": {},
   "source": [
    "### Describing the variables"
   ]
  },
  {
   "cell_type": "markdown",
   "metadata": {},
   "source": [
    "EventID: \n",
    "\n",
    "The variable has no duplicates and has no meaning attached to it."
   ]
  },
  {
   "cell_type": "code",
   "execution_count": 8,
   "metadata": {},
   "outputs": [
    {
     "data": {
      "text/plain": [
       "7479165"
      ]
     },
     "execution_count": 8,
     "metadata": {},
     "output_type": "execute_result"
    }
   ],
   "source": [
    "X['EventId'].nunique()"
   ]
  },
  {
   "cell_type": "markdown",
   "metadata": {},
   "source": [
    "Type:\n",
    "\n",
    "There are 7 kinds of events: \n",
    "- Snow, Fog, Cold, Storm, Rain, Precipitation "
   ]
  },
  {
   "cell_type": "code",
   "execution_count": 9,
   "metadata": {},
   "outputs": [
    {
     "data": {
      "text/plain": [
       "array(['Snow', 'Fog', 'Cold', 'Storm', 'Rain', 'Precipitation', 'Hail'],\n",
       "      dtype=object)"
      ]
     },
     "execution_count": 9,
     "metadata": {},
     "output_type": "execute_result"
    }
   ],
   "source": [
    "X['Type'].unique()"
   ]
  },
  {
   "cell_type": "code",
   "execution_count": 10,
   "metadata": {},
   "outputs": [
    {
     "data": {
      "text/plain": [
       "Type\n",
       "Rain             4397546\n",
       "Fog              1722738\n",
       "Snow              980411\n",
       "Cold              197691\n",
       "Precipitation     128836\n",
       "Storm              49203\n",
       "Hail                2740\n",
       "Name: count, dtype: int64"
      ]
     },
     "execution_count": 10,
     "metadata": {},
     "output_type": "execute_result"
    }
   ],
   "source": [
    "X['Type'].value_counts()"
   ]
  },
  {
   "cell_type": "code",
   "execution_count": 11,
   "metadata": {},
   "outputs": [],
   "source": [
    "title = alt.TitleParams('Contagem por tipo de Evento', anchor='middle', fontSize=15)\n",
    "base = alt.Chart(X, title=title).encode(\n",
    "    alt.X(\n",
    "        'Type',\n",
    "        sort=alt.EncodingSortField(field=\"Letters\", op=\"count\", order='descending'), \n",
    "        axis=alt.Axis(labelAngle=0),\n",
    "        title='Tipo de Evento'),\n",
    "    alt.Y('count()', title='Contagem'),\n",
    "    text=alt.Text('count()', format=',.0f')\n",
    ").properties(\n",
    "    width=500,\n",
    "    height=400\n",
    ")\n",
    "p = base.mark_bar() + base.mark_text(align='center', dx=0, yOffset=-10)\n",
    "p.save('/Users/administrador/Documents/Pessoal/repositorios/information_visualization/images/events_count.png', ppi=300)"
   ]
  },
  {
   "cell_type": "markdown",
   "metadata": {},
   "source": [
    "Severity:\n",
    "\n",
    "There are 6 level for severity: \n",
    "- Light, Severe, Moderate, Heavy, UNK and Other"
   ]
  },
  {
   "cell_type": "code",
   "execution_count": 12,
   "metadata": {},
   "outputs": [
    {
     "data": {
      "text/plain": [
       "array(['Light', 'Severe', 'Moderate', 'Heavy', 'UNK', 'Other'],\n",
       "      dtype=object)"
      ]
     },
     "execution_count": 12,
     "metadata": {},
     "output_type": "execute_result"
    }
   ],
   "source": [
    "X['Severity'].unique()"
   ]
  },
  {
   "cell_type": "code",
   "execution_count": 13,
   "metadata": {},
   "outputs": [],
   "source": [
    "title = alt.TitleParams('Contagem por tipo de Severidade', anchor='middle', fontSize=15)\n",
    "base = alt.Chart(X, title=title).encode(\n",
    "    alt.X(\n",
    "        'Severity',\n",
    "        sort=alt.EncodingSortField(field=\"Letters\", op=\"count\", order='descending'), \n",
    "        axis=alt.Axis(labelAngle=0),\n",
    "        title='Severidade'),\n",
    "    alt.Y('count()', title='Contagem'),\n",
    "    text=alt.Text('count()', format=',.0f')\n",
    ").properties(\n",
    "    width=500,\n",
    "    height=400\n",
    ")\n",
    "p = base.mark_bar() + base.mark_text(align='center', dx=0, yOffset=-10)\n",
    "p.save('/Users/administrador/Documents/Pessoal/repositorios/information_visualization/images/severity_count.png', ppi=300)"
   ]
  },
  {
   "cell_type": "markdown",
   "metadata": {},
   "source": [
    "Start Time and End Time:"
   ]
  },
  {
   "cell_type": "code",
   "execution_count": 14,
   "metadata": {},
   "outputs": [
    {
     "data": {
      "text/html": [
       "<div>\n",
       "<style scoped>\n",
       "    .dataframe tbody tr th:only-of-type {\n",
       "        vertical-align: middle;\n",
       "    }\n",
       "\n",
       "    .dataframe tbody tr th {\n",
       "        vertical-align: top;\n",
       "    }\n",
       "\n",
       "    .dataframe thead th {\n",
       "        text-align: right;\n",
       "    }\n",
       "</style>\n",
       "<table border=\"1\" class=\"dataframe\">\n",
       "  <thead>\n",
       "    <tr style=\"text-align: right;\">\n",
       "      <th></th>\n",
       "      <th>StartTime(UTC)</th>\n",
       "      <th>EndTime(UTC)</th>\n",
       "    </tr>\n",
       "  </thead>\n",
       "  <tbody>\n",
       "    <tr>\n",
       "      <th>0</th>\n",
       "      <td>2016-01-06 23:14:00</td>\n",
       "      <td>2016-01-07 00:34:00</td>\n",
       "    </tr>\n",
       "    <tr>\n",
       "      <th>1</th>\n",
       "      <td>2016-01-07 04:14:00</td>\n",
       "      <td>2016-01-07 04:54:00</td>\n",
       "    </tr>\n",
       "    <tr>\n",
       "      <th>2</th>\n",
       "      <td>2016-01-07 05:54:00</td>\n",
       "      <td>2016-01-07 15:34:00</td>\n",
       "    </tr>\n",
       "    <tr>\n",
       "      <th>3</th>\n",
       "      <td>2016-01-08 05:34:00</td>\n",
       "      <td>2016-01-08 05:54:00</td>\n",
       "    </tr>\n",
       "    <tr>\n",
       "      <th>4</th>\n",
       "      <td>2016-01-08 13:54:00</td>\n",
       "      <td>2016-01-08 15:54:00</td>\n",
       "    </tr>\n",
       "  </tbody>\n",
       "</table>\n",
       "</div>"
      ],
      "text/plain": [
       "        StartTime(UTC)         EndTime(UTC)\n",
       "0  2016-01-06 23:14:00  2016-01-07 00:34:00\n",
       "1  2016-01-07 04:14:00  2016-01-07 04:54:00\n",
       "2  2016-01-07 05:54:00  2016-01-07 15:34:00\n",
       "3  2016-01-08 05:34:00  2016-01-08 05:54:00\n",
       "4  2016-01-08 13:54:00  2016-01-08 15:54:00"
      ]
     },
     "execution_count": 14,
     "metadata": {},
     "output_type": "execute_result"
    }
   ],
   "source": [
    "X[['StartTime(UTC)', 'EndTime(UTC)']].head()"
   ]
  },
  {
   "cell_type": "code",
   "execution_count": 15,
   "metadata": {},
   "outputs": [
    {
     "data": {
      "text/html": [
       "<div>\n",
       "<style scoped>\n",
       "    .dataframe tbody tr th:only-of-type {\n",
       "        vertical-align: middle;\n",
       "    }\n",
       "\n",
       "    .dataframe tbody tr th {\n",
       "        vertical-align: top;\n",
       "    }\n",
       "\n",
       "    .dataframe thead th {\n",
       "        text-align: right;\n",
       "    }\n",
       "</style>\n",
       "<table border=\"1\" class=\"dataframe\">\n",
       "  <thead>\n",
       "    <tr style=\"text-align: right;\">\n",
       "      <th></th>\n",
       "      <th>StartTime(UTC)</th>\n",
       "      <th>EndTime(UTC)</th>\n",
       "    </tr>\n",
       "  </thead>\n",
       "  <tbody>\n",
       "    <tr>\n",
       "      <th>count</th>\n",
       "      <td>7479165</td>\n",
       "      <td>7479165</td>\n",
       "    </tr>\n",
       "    <tr>\n",
       "      <th>unique</th>\n",
       "      <td>1980059</td>\n",
       "      <td>1940056</td>\n",
       "    </tr>\n",
       "    <tr>\n",
       "      <th>top</th>\n",
       "      <td>2017-03-12 06:15:00</td>\n",
       "      <td>2016-03-13 06:15:00</td>\n",
       "    </tr>\n",
       "    <tr>\n",
       "      <th>freq</th>\n",
       "      <td>116</td>\n",
       "      <td>103</td>\n",
       "    </tr>\n",
       "  </tbody>\n",
       "</table>\n",
       "</div>"
      ],
      "text/plain": [
       "             StartTime(UTC)         EndTime(UTC)\n",
       "count               7479165              7479165\n",
       "unique              1980059              1940056\n",
       "top     2017-03-12 06:15:00  2016-03-13 06:15:00\n",
       "freq                    116                  103"
      ]
     },
     "execution_count": 15,
     "metadata": {},
     "output_type": "execute_result"
    }
   ],
   "source": [
    "X[['StartTime(UTC)', 'EndTime(UTC)']].describe()"
   ]
  },
  {
   "cell_type": "markdown",
   "metadata": {},
   "source": [
    "Precipitation:\n",
    "\n",
    "Extreme unbalanced data, the proportion of events in which it didn't rain<br>\n",
    "is far greater than the ones with some precipitation."
   ]
  },
  {
   "cell_type": "code",
   "execution_count": 16,
   "metadata": {},
   "outputs": [
    {
     "data": {
      "text/plain": [
       "count    7.479165e+06\n",
       "mean     9.518492e-02\n",
       "std      9.185906e-01\n",
       "min      0.000000e+00\n",
       "25%      0.000000e+00\n",
       "50%      0.000000e+00\n",
       "75%      5.000000e-02\n",
       "max      1.104130e+03\n",
       "Name: Precipitation(in), dtype: float64"
      ]
     },
     "execution_count": 16,
     "metadata": {},
     "output_type": "execute_result"
    }
   ],
   "source": [
    "X['Precipitation(in)'].describe()"
   ]
  },
  {
   "cell_type": "code",
   "execution_count": 17,
   "metadata": {},
   "outputs": [],
   "source": [
    "title = alt.TitleParams('Histograma de Precipitação (polegadas)', anchor='middle', fontSize=15)\n",
    "base = alt.Chart(X, title=title).encode(\n",
    "    alt.X(\n",
    "        'Precipitation(in)',\n",
    "        #axis=alt.Axis(labelAngle=0),\n",
    "        title='Precipitação (polegadas)'),\n",
    "    alt.Y('count()', title='Contagem').scale(type='log')\n",
    ").properties(\n",
    "    width=500,\n",
    "    height=400\n",
    ")\n",
    "p = base.mark_bar() + base.mark_text(align='center', dx=0, yOffset=-10)\n",
    "p.save('/Users/administrador/Documents/Pessoal/repositorios/information_visualization/images/preci_hist.png', ppi=300)"
   ]
  },
  {
   "cell_type": "markdown",
   "metadata": {},
   "source": [
    "TimeZone"
   ]
  },
  {
   "cell_type": "code",
   "execution_count": 18,
   "metadata": {},
   "outputs": [
    {
     "data": {
      "text/plain": [
       "0    US/Mountain\n",
       "1    US/Mountain\n",
       "2    US/Mountain\n",
       "3    US/Mountain\n",
       "4    US/Mountain\n",
       "Name: TimeZone, dtype: object"
      ]
     },
     "execution_count": 18,
     "metadata": {},
     "output_type": "execute_result"
    }
   ],
   "source": [
    "X['TimeZone'].head()"
   ]
  },
  {
   "cell_type": "code",
   "execution_count": 19,
   "metadata": {},
   "outputs": [
    {
     "data": {
      "text/plain": [
       "array(['US/Mountain', 'US/Central', 'US/Eastern', 'US/Pacific'],\n",
       "      dtype=object)"
      ]
     },
     "execution_count": 19,
     "metadata": {},
     "output_type": "execute_result"
    }
   ],
   "source": [
    "X['TimeZone'].unique()"
   ]
  },
  {
   "cell_type": "code",
   "execution_count": 20,
   "metadata": {},
   "outputs": [],
   "source": [
    "title = alt.TitleParams('Contagem por Fuso horário', anchor='middle', fontSize=15)\n",
    "base = alt.Chart(X, title=title).encode(\n",
    "    alt.X(\n",
    "        'TimeZone',\n",
    "        sort=alt.EncodingSortField(field=\"Letters\", op=\"count\", order='descending'), \n",
    "        axis=alt.Axis(labelAngle=0),\n",
    "        title='Fuso horário'),\n",
    "    alt.Y('count()', title='Contagem'),\n",
    "    text=alt.Text('count()', format=',.0f')\n",
    ").properties(\n",
    "    width=500,\n",
    "    height=400\n",
    ")\n",
    "p = base.mark_bar() + base.mark_text(align='center', dx=0, yOffset=-10)\n",
    "p.save('/Users/administrador/Documents/Pessoal/repositorios/information_visualization/images/4.timezone_count.png', ppi=300)"
   ]
  },
  {
   "cell_type": "markdown",
   "metadata": {},
   "source": [
    "AirportCode"
   ]
  },
  {
   "cell_type": "code",
   "execution_count": 21,
   "metadata": {},
   "outputs": [
    {
     "data": {
      "text/plain": [
       "0    K04V\n",
       "1    K04V\n",
       "2    K04V\n",
       "3    K04V\n",
       "4    K04V\n",
       "Name: AirportCode, dtype: object"
      ]
     },
     "execution_count": 21,
     "metadata": {},
     "output_type": "execute_result"
    }
   ],
   "source": [
    "X['AirportCode'].head()"
   ]
  },
  {
   "cell_type": "code",
   "execution_count": 22,
   "metadata": {},
   "outputs": [
    {
     "data": {
      "text/plain": [
       "2071"
      ]
     },
     "execution_count": 22,
     "metadata": {},
     "output_type": "execute_result"
    }
   ],
   "source": [
    "X['AirportCode'].nunique()"
   ]
  },
  {
   "cell_type": "code",
   "execution_count": 23,
   "metadata": {},
   "outputs": [
    {
     "data": {
      "text/plain": [
       "array(['K04V', 'KAXS', 'KAEL', ..., 'KB23', 'KARL', 'KBVR'], dtype=object)"
      ]
     },
     "execution_count": 23,
     "metadata": {},
     "output_type": "execute_result"
    }
   ],
   "source": [
    "X['AirportCode'].unique()"
   ]
  },
  {
   "cell_type": "code",
   "execution_count": 24,
   "metadata": {},
   "outputs": [],
   "source": [
    "title = alt.TitleParams('Contagem por código de aeroporto', anchor='middle', fontSize=15)\n",
    "base = alt.Chart(X, title=title).encode(\n",
    "    alt.X(\n",
    "        'AirportCode',\n",
    "        sort=alt.EncodingSortField(field=\"Letters\", op=\"count\", order='descending'), \n",
    "        axis=alt.Axis(labels=False, tickSize=0),\n",
    "        title='Código do Aeroporto'),\n",
    "    alt.Y('count()', title='Contagem')\n",
    ").properties(\n",
    "    width=800,\n",
    "    height=400\n",
    ")\n",
    "p = base.mark_bar() + base.mark_text(align='center', dx=0, yOffset=-10)\n",
    "p.save('/Users/administrador/Documents/Pessoal/repositorios/information_visualization/images/5.airportcode_count.png', ppi=300)"
   ]
  },
  {
   "cell_type": "markdown",
   "metadata": {},
   "source": [
    "Wheather Stations Locations (Latitude and Longitude)"
   ]
  },
  {
   "cell_type": "code",
   "execution_count": 25,
   "metadata": {},
   "outputs": [
    {
     "data": {
      "text/plain": [
       "2056"
      ]
     },
     "execution_count": 25,
     "metadata": {},
     "output_type": "execute_result"
    }
   ],
   "source": [
    "X['LocationLat'].nunique()"
   ]
  },
  {
   "cell_type": "code",
   "execution_count": 26,
   "metadata": {},
   "outputs": [
    {
     "data": {
      "text/plain": [
       "2063"
      ]
     },
     "execution_count": 26,
     "metadata": {},
     "output_type": "execute_result"
    }
   ],
   "source": [
    "X['LocationLng'].nunique()"
   ]
  },
  {
   "cell_type": "code",
   "execution_count": 27,
   "metadata": {},
   "outputs": [],
   "source": [
    "from vega_datasets import data"
   ]
  },
  {
   "cell_type": "code",
   "execution_count": 28,
   "metadata": {},
   "outputs": [],
   "source": [
    "states = alt.topo_feature(data.us_10m.url, 'states')\n",
    "capitals = data.us_state_capitals.url"
   ]
  },
  {
   "cell_type": "code",
   "execution_count": 29,
   "metadata": {},
   "outputs": [],
   "source": [
    "# US states background\n",
    "title = alt.Title('Localização das estações meteorológicas', fontSize=15)\n",
    "background = alt.Chart(states, title=title).mark_geoshape(\n",
    "    fill='lightgray',\n",
    "    stroke='black'\n",
    ").properties(\n",
    "    width=650,\n",
    "    height=400\n",
    ").project('albersUsa')"
   ]
  },
  {
   "cell_type": "code",
   "execution_count": 30,
   "metadata": {},
   "outputs": [],
   "source": [
    "# Points and text\n",
    "hover = alt.selection_point(on='pointerover', nearest=True,\n",
    "                      fields=['lat', 'lon'])\n"
   ]
  },
  {
   "cell_type": "code",
   "execution_count": 31,
   "metadata": {},
   "outputs": [],
   "source": [
    "base = alt.Chart(X[['LocationLat', 'LocationLng']].drop_duplicates()).encode(\n",
    "    longitude='LocationLng:Q',\n",
    "    latitude='LocationLat:Q',\n",
    ")"
   ]
  },
  {
   "cell_type": "code",
   "execution_count": 32,
   "metadata": {},
   "outputs": [],
   "source": [
    "text = base.mark_text(dy=-5, align='right').encode(\n",
    "    alt.Text('city:N'),\n",
    "    opacity=alt.condition(~hover, alt.value(0), alt.value(1))\n",
    ")"
   ]
  },
  {
   "cell_type": "code",
   "execution_count": 33,
   "metadata": {},
   "outputs": [],
   "source": [
    "points = base.mark_point().encode(\n",
    "    color=alt.value('blue'),\n",
    "    size= alt.value(5),#alt.condition(~hover, alt.value(5), alt.value(5))\n",
    "    opacity=alt.value(0.3)\n",
    ")#.add_params(hover)"
   ]
  },
  {
   "cell_type": "code",
   "execution_count": 34,
   "metadata": {},
   "outputs": [],
   "source": [
    "p = background + points #+ text\n",
    "p.save('/Users/administrador/Documents/Pessoal/repositorios/information_visualization/images/6.stations_locations.png', ppi=300)"
   ]
  },
  {
   "cell_type": "markdown",
   "metadata": {},
   "source": [
    "City"
   ]
  },
  {
   "cell_type": "code",
   "execution_count": 35,
   "metadata": {},
   "outputs": [
    {
     "data": {
      "text/plain": [
       "1716"
      ]
     },
     "execution_count": 35,
     "metadata": {},
     "output_type": "execute_result"
    }
   ],
   "source": [
    "X['City'].nunique()"
   ]
  },
  {
   "cell_type": "code",
   "execution_count": 36,
   "metadata": {},
   "outputs": [],
   "source": [
    "list_top_cities = X['City'].value_counts().head(10).index"
   ]
  },
  {
   "cell_type": "code",
   "execution_count": 37,
   "metadata": {},
   "outputs": [],
   "source": [
    "title = alt.TitleParams('Contagem das top 10 Cidades', anchor='middle', fontSize=15)\n",
    "base = alt.Chart(X[X['City'].isin(list_top_cities)], title=title).encode(\n",
    "    alt.X(\n",
    "        'City',\n",
    "        sort=alt.EncodingSortField(field=\"Letters\", op=\"count\", order='descending'), \n",
    "        axis=alt.Axis(labelAngle=0),\n",
    "        title='Cidade'),\n",
    "    alt.Y('count()', title='Contagem'),\n",
    "    text=alt.Text('count()', format=',.0f')\n",
    ").properties(\n",
    "    width=600,\n",
    "    height=400\n",
    ")\n",
    "p = base.mark_bar() + base.mark_text(align='center', dx=0, yOffset=-10)\n",
    "\n",
    "p.save('/Users/administrador/Documents/Pessoal/repositorios/information_visualization/images/7.cities.png', ppi=300)"
   ]
  },
  {
   "cell_type": "markdown",
   "metadata": {},
   "source": [
    "County"
   ]
  },
  {
   "cell_type": "code",
   "execution_count": 38,
   "metadata": {},
   "outputs": [
    {
     "data": {
      "text/plain": [
       "1100"
      ]
     },
     "execution_count": 38,
     "metadata": {},
     "output_type": "execute_result"
    }
   ],
   "source": [
    "X['County'].nunique()"
   ]
  },
  {
   "cell_type": "code",
   "execution_count": 39,
   "metadata": {},
   "outputs": [],
   "source": [
    "list_top_county = X['County'].value_counts().head(10).index"
   ]
  },
  {
   "cell_type": "code",
   "execution_count": 40,
   "metadata": {},
   "outputs": [],
   "source": [
    "title = alt.TitleParams('Contagem dos top 10 Condados', anchor='middle', fontSize=15)\n",
    "base = alt.Chart(X[X['County'].isin(list_top_county)], title=title).encode(\n",
    "    alt.X(\n",
    "        'County',\n",
    "        sort=alt.EncodingSortField(field=\"Letters\", op=\"count\", order='descending'), \n",
    "        axis=alt.Axis(labelAngle=0),\n",
    "        title='Condado'),\n",
    "    alt.Y('count()', title='Contagem'),\n",
    "    text=alt.Text('count()', format=',.0f')\n",
    ").properties(\n",
    "    width=600,\n",
    "    height=400\n",
    ")\n",
    "p = base.mark_bar() + base.mark_text(align='center', dx=0, yOffset=-10)\n",
    "\n",
    "p.save('/Users/administrador/Documents/Pessoal/repositorios/information_visualization/images/8.county.png', ppi=300)"
   ]
  },
  {
   "cell_type": "markdown",
   "metadata": {},
   "source": [
    "State"
   ]
  },
  {
   "cell_type": "code",
   "execution_count": 41,
   "metadata": {},
   "outputs": [
    {
     "data": {
      "text/plain": [
       "48"
      ]
     },
     "execution_count": 41,
     "metadata": {},
     "output_type": "execute_result"
    }
   ],
   "source": [
    "X['State'].nunique()"
   ]
  },
  {
   "cell_type": "code",
   "execution_count": 42,
   "metadata": {},
   "outputs": [],
   "source": [
    "list_top_state = X['State'].value_counts().head(10).index"
   ]
  },
  {
   "cell_type": "code",
   "execution_count": 43,
   "metadata": {},
   "outputs": [],
   "source": [
    "title = alt.TitleParams('Contagem dos top 10 Estados', anchor='middle', fontSize=15)\n",
    "base = alt.Chart(X[X['State'].isin(list_top_state)], title=title).encode(\n",
    "    alt.X(\n",
    "        'State',\n",
    "        sort=alt.EncodingSortField(field=\"Letters\", op=\"count\", order='descending'), \n",
    "        axis=alt.Axis(labelAngle=0),\n",
    "        title='Estado'),\n",
    "    alt.Y('count()', title='Contagem'),\n",
    "    text=alt.Text('count()', format=',.0f')\n",
    ").properties(\n",
    "    width=600,\n",
    "    height=400\n",
    ")\n",
    "p = base.mark_bar() + base.mark_text(align='center', dx=0, yOffset=-10)\n",
    "\n",
    "p.save('/Users/administrador/Documents/Pessoal/repositorios/information_visualization/images/9.state.png', ppi=300)\n"
   ]
  },
  {
   "cell_type": "markdown",
   "metadata": {},
   "source": [
    "ZipCode"
   ]
  },
  {
   "cell_type": "code",
   "execution_count": 44,
   "metadata": {},
   "outputs": [],
   "source": [
    "X['ZipCode'] = X['ZipCode'].astype('object')"
   ]
  },
  {
   "cell_type": "code",
   "execution_count": 45,
   "metadata": {},
   "outputs": [
    {
     "data": {
      "text/plain": [
       "2020"
      ]
     },
     "execution_count": 45,
     "metadata": {},
     "output_type": "execute_result"
    }
   ],
   "source": [
    "X['ZipCode'].nunique()"
   ]
  },
  {
   "cell_type": "code",
   "execution_count": 46,
   "metadata": {},
   "outputs": [],
   "source": [
    "list_top_zipcode = X['ZipCode'].value_counts().head(10).index"
   ]
  },
  {
   "cell_type": "code",
   "execution_count": 47,
   "metadata": {},
   "outputs": [],
   "source": [
    "title = alt.TitleParams('Contagem dos top 10 Códigos Postais', anchor='middle', fontSize=15)\n",
    "base = alt.Chart(X[X['ZipCode'].isin(list_top_zipcode)], title=title).encode(\n",
    "    alt.X(\n",
    "        'ZipCode:N',\n",
    "        sort=alt.EncodingSortField(field=\"Letters\", op=\"count\", order='descending'),\n",
    "        title='Código Postal'),\n",
    "    alt.Y('count()', title='Contagem'),\n",
    "    text=alt.Text('count()', format=',.0f')\n",
    ").properties(\n",
    "    width=600,\n",
    "    height=400\n",
    ")\n",
    "p = base.mark_bar() + base.mark_text(align='center', dx=0, yOffset=-10)\n",
    "p.save('/Users/administrador/Documents/Pessoal/repositorios/information_visualization/images/10.zipcode.png', ppi=300)\n"
   ]
  },
  {
   "cell_type": "markdown",
   "metadata": {},
   "source": [
    "## Data Cleaning"
   ]
  },
  {
   "cell_type": "markdown",
   "metadata": {},
   "source": [
    "### Checking for nulls\n",
    "\n",
    "All missing cities also don't have its zipcode"
   ]
  },
  {
   "cell_type": "code",
   "execution_count": 48,
   "metadata": {},
   "outputs": [
    {
     "data": {
      "text/plain": [
       "EventId                  0\n",
       "Type                     0\n",
       "Severity                 0\n",
       "StartTime(UTC)           0\n",
       "EndTime(UTC)             0\n",
       "Precipitation(in)        0\n",
       "TimeZone                 0\n",
       "AirportCode              0\n",
       "LocationLat              0\n",
       "LocationLng              0\n",
       "City                 14563\n",
       "County                   0\n",
       "State                    0\n",
       "ZipCode              59234\n",
       "dtype: int64"
      ]
     },
     "execution_count": 48,
     "metadata": {},
     "output_type": "execute_result"
    }
   ],
   "source": [
    "X.isnull().sum()"
   ]
  },
  {
   "cell_type": "code",
   "execution_count": 49,
   "metadata": {},
   "outputs": [
    {
     "data": {
      "text/plain": [
       "np.int64(14563)"
      ]
     },
     "execution_count": 49,
     "metadata": {},
     "output_type": "execute_result"
    }
   ],
   "source": [
    "X.loc[:,['City', 'ZipCode']].isnull().all(axis=1).sum()"
   ]
  },
  {
   "cell_type": "code",
   "execution_count": 50,
   "metadata": {},
   "outputs": [
    {
     "data": {
      "text/plain": [
       "np.int64(59234)"
      ]
     },
     "execution_count": 50,
     "metadata": {},
     "output_type": "execute_result"
    }
   ],
   "source": [
    "X.isnull().any(axis=1).sum()"
   ]
  },
  {
   "cell_type": "markdown",
   "metadata": {},
   "source": [
    "### Checking for Errors in registers - Start / End"
   ]
  },
  {
   "cell_type": "code",
   "execution_count": 51,
   "metadata": {},
   "outputs": [
    {
     "name": "stdout",
     "output_type": "stream",
     "text": [
      "<class 'pandas.core.frame.DataFrame'>\n",
      "RangeIndex: 7479165 entries, 0 to 7479164\n",
      "Data columns (total 14 columns):\n",
      " #   Column             Dtype  \n",
      "---  ------             -----  \n",
      " 0   EventId            object \n",
      " 1   Type               object \n",
      " 2   Severity           object \n",
      " 3   StartTime(UTC)     object \n",
      " 4   EndTime(UTC)       object \n",
      " 5   Precipitation(in)  float64\n",
      " 6   TimeZone           object \n",
      " 7   AirportCode        object \n",
      " 8   LocationLat        float64\n",
      " 9   LocationLng        float64\n",
      " 10  City               object \n",
      " 11  County             object \n",
      " 12  State              object \n",
      " 13  ZipCode            object \n",
      "dtypes: float64(3), object(11)\n",
      "memory usage: 798.9+ MB\n"
     ]
    }
   ],
   "source": [
    "X.info()"
   ]
  },
  {
   "cell_type": "code",
   "execution_count": 52,
   "metadata": {},
   "outputs": [],
   "source": [
    "X['StartTime(UTC)'] = pd.to_datetime(X['StartTime(UTC)'], format='%Y-%m-%d %H:%M:%S')\n",
    "X['EndTime(UTC)'] = pd.to_datetime(X['EndTime(UTC)'], format='%Y-%m-%d %H:%M:%S')"
   ]
  },
  {
   "cell_type": "code",
   "execution_count": 53,
   "metadata": {},
   "outputs": [
    {
     "data": {
      "text/plain": [
       "StartTime(UTC)   2016-01-06 23:14:00\n",
       "EndTime(UTC)     2016-01-07 00:34:00\n",
       "dtype: datetime64[ns]"
      ]
     },
     "execution_count": 53,
     "metadata": {},
     "output_type": "execute_result"
    }
   ],
   "source": [
    "X.loc[:,['StartTime(UTC)','EndTime(UTC)']].apply(lambda x: x[0])"
   ]
  },
  {
   "cell_type": "code",
   "execution_count": 54,
   "metadata": {},
   "outputs": [],
   "source": [
    "X['EventDuration'] = X['EndTime(UTC)'] - X['StartTime(UTC)'] \n",
    "X['EventDuration'] = X['EventDuration'].apply(lambda x: x.total_seconds())"
   ]
  },
  {
   "cell_type": "code",
   "execution_count": 55,
   "metadata": {},
   "outputs": [
    {
     "data": {
      "text/html": [
       "<div>\n",
       "<style scoped>\n",
       "    .dataframe tbody tr th:only-of-type {\n",
       "        vertical-align: middle;\n",
       "    }\n",
       "\n",
       "    .dataframe tbody tr th {\n",
       "        vertical-align: top;\n",
       "    }\n",
       "\n",
       "    .dataframe thead th {\n",
       "        text-align: right;\n",
       "    }\n",
       "</style>\n",
       "<table border=\"1\" class=\"dataframe\">\n",
       "  <thead>\n",
       "    <tr style=\"text-align: right;\">\n",
       "      <th></th>\n",
       "      <th>EventId</th>\n",
       "      <th>Type</th>\n",
       "      <th>Severity</th>\n",
       "      <th>StartTime(UTC)</th>\n",
       "      <th>EndTime(UTC)</th>\n",
       "      <th>Precipitation(in)</th>\n",
       "      <th>TimeZone</th>\n",
       "      <th>AirportCode</th>\n",
       "      <th>LocationLat</th>\n",
       "      <th>LocationLng</th>\n",
       "      <th>City</th>\n",
       "      <th>County</th>\n",
       "      <th>State</th>\n",
       "      <th>ZipCode</th>\n",
       "      <th>EventDuration</th>\n",
       "    </tr>\n",
       "  </thead>\n",
       "  <tbody>\n",
       "  </tbody>\n",
       "</table>\n",
       "</div>"
      ],
      "text/plain": [
       "Empty DataFrame\n",
       "Columns: [EventId, Type, Severity, StartTime(UTC), EndTime(UTC), Precipitation(in), TimeZone, AirportCode, LocationLat, LocationLng, City, County, State, ZipCode, EventDuration]\n",
       "Index: []"
      ]
     },
     "execution_count": 55,
     "metadata": {},
     "output_type": "execute_result"
    }
   ],
   "source": [
    "X[X['EventDuration'] < 0]"
   ]
  },
  {
   "cell_type": "code",
   "execution_count": 56,
   "metadata": {},
   "outputs": [
    {
     "data": {
      "text/html": [
       "<div>\n",
       "<style scoped>\n",
       "    .dataframe tbody tr th:only-of-type {\n",
       "        vertical-align: middle;\n",
       "    }\n",
       "\n",
       "    .dataframe tbody tr th {\n",
       "        vertical-align: top;\n",
       "    }\n",
       "\n",
       "    .dataframe thead th {\n",
       "        text-align: right;\n",
       "    }\n",
       "</style>\n",
       "<table border=\"1\" class=\"dataframe\">\n",
       "  <thead>\n",
       "    <tr style=\"text-align: right;\">\n",
       "      <th></th>\n",
       "      <th>EventId</th>\n",
       "      <th>Type</th>\n",
       "      <th>Severity</th>\n",
       "      <th>StartTime(UTC)</th>\n",
       "      <th>EndTime(UTC)</th>\n",
       "      <th>Precipitation(in)</th>\n",
       "      <th>TimeZone</th>\n",
       "      <th>AirportCode</th>\n",
       "      <th>LocationLat</th>\n",
       "      <th>LocationLng</th>\n",
       "      <th>City</th>\n",
       "      <th>County</th>\n",
       "      <th>State</th>\n",
       "      <th>ZipCode</th>\n",
       "      <th>EventDuration</th>\n",
       "    </tr>\n",
       "  </thead>\n",
       "  <tbody>\n",
       "    <tr>\n",
       "      <th>101876</th>\n",
       "      <td>W-103205</td>\n",
       "      <td>Snow</td>\n",
       "      <td>Light</td>\n",
       "      <td>2020-11-01 07:15:00</td>\n",
       "      <td>2020-11-01 07:15:00</td>\n",
       "      <td>0.00</td>\n",
       "      <td>US/Central</td>\n",
       "      <td>K04W</td>\n",
       "      <td>46.0244</td>\n",
       "      <td>-92.8991</td>\n",
       "      <td>Hinckley</td>\n",
       "      <td>Pine</td>\n",
       "      <td>MN</td>\n",
       "      <td>55037.0</td>\n",
       "      <td>0.0</td>\n",
       "    </tr>\n",
       "    <tr>\n",
       "      <th>148483</th>\n",
       "      <td>W-150530</td>\n",
       "      <td>Fog</td>\n",
       "      <td>Severe</td>\n",
       "      <td>2021-11-07 07:55:00</td>\n",
       "      <td>2021-11-07 07:55:00</td>\n",
       "      <td>0.00</td>\n",
       "      <td>US/Central</td>\n",
       "      <td>KFYG</td>\n",
       "      <td>38.5876</td>\n",
       "      <td>-90.9938</td>\n",
       "      <td>Marthasville</td>\n",
       "      <td>Warren</td>\n",
       "      <td>MO</td>\n",
       "      <td>63357.0</td>\n",
       "      <td>0.0</td>\n",
       "    </tr>\n",
       "    <tr>\n",
       "      <th>367097</th>\n",
       "      <td>W-372333</td>\n",
       "      <td>Fog</td>\n",
       "      <td>Severe</td>\n",
       "      <td>2019-11-03 07:15:00</td>\n",
       "      <td>2019-11-03 07:15:00</td>\n",
       "      <td>0.00</td>\n",
       "      <td>US/Central</td>\n",
       "      <td>KLXY</td>\n",
       "      <td>31.6412</td>\n",
       "      <td>-96.5144</td>\n",
       "      <td>Mexia</td>\n",
       "      <td>Limestone</td>\n",
       "      <td>TX</td>\n",
       "      <td>76667.0</td>\n",
       "      <td>0.0</td>\n",
       "    </tr>\n",
       "    <tr>\n",
       "      <th>716783</th>\n",
       "      <td>W-726704</td>\n",
       "      <td>Snow</td>\n",
       "      <td>Light</td>\n",
       "      <td>2019-11-03 07:53:00</td>\n",
       "      <td>2019-11-03 07:53:00</td>\n",
       "      <td>0.00</td>\n",
       "      <td>US/Central</td>\n",
       "      <td>KPIR</td>\n",
       "      <td>44.3827</td>\n",
       "      <td>-100.2860</td>\n",
       "      <td>Pierre</td>\n",
       "      <td>Hughes</td>\n",
       "      <td>SD</td>\n",
       "      <td>57501.0</td>\n",
       "      <td>0.0</td>\n",
       "    </tr>\n",
       "    <tr>\n",
       "      <th>793055</th>\n",
       "      <td>W-804001</td>\n",
       "      <td>Snow</td>\n",
       "      <td>Light</td>\n",
       "      <td>2020-11-01 07:55:00</td>\n",
       "      <td>2020-11-01 07:55:00</td>\n",
       "      <td>0.00</td>\n",
       "      <td>US/Central</td>\n",
       "      <td>KCBG</td>\n",
       "      <td>45.5628</td>\n",
       "      <td>-93.2644</td>\n",
       "      <td>Cambridge</td>\n",
       "      <td>Isanti</td>\n",
       "      <td>MN</td>\n",
       "      <td>55008.0</td>\n",
       "      <td>0.0</td>\n",
       "    </tr>\n",
       "    <tr>\n",
       "      <th>...</th>\n",
       "      <td>...</td>\n",
       "      <td>...</td>\n",
       "      <td>...</td>\n",
       "      <td>...</td>\n",
       "      <td>...</td>\n",
       "      <td>...</td>\n",
       "      <td>...</td>\n",
       "      <td>...</td>\n",
       "      <td>...</td>\n",
       "      <td>...</td>\n",
       "      <td>...</td>\n",
       "      <td>...</td>\n",
       "      <td>...</td>\n",
       "      <td>...</td>\n",
       "      <td>...</td>\n",
       "    </tr>\n",
       "    <tr>\n",
       "      <th>7326092</th>\n",
       "      <td>W-7422022</td>\n",
       "      <td>Rain</td>\n",
       "      <td>Light</td>\n",
       "      <td>2017-11-05 09:55:00</td>\n",
       "      <td>2017-11-05 09:55:00</td>\n",
       "      <td>0.01</td>\n",
       "      <td>US/Pacific</td>\n",
       "      <td>KS47</td>\n",
       "      <td>45.4175</td>\n",
       "      <td>-123.8087</td>\n",
       "      <td>Tillamook</td>\n",
       "      <td>Tillamook</td>\n",
       "      <td>OR</td>\n",
       "      <td>97141.0</td>\n",
       "      <td>0.0</td>\n",
       "    </tr>\n",
       "    <tr>\n",
       "      <th>7408757</th>\n",
       "      <td>W-7505805</td>\n",
       "      <td>Rain</td>\n",
       "      <td>Light</td>\n",
       "      <td>2017-11-05 09:35:00</td>\n",
       "      <td>2017-11-05 09:35:00</td>\n",
       "      <td>0.00</td>\n",
       "      <td>US/Pacific</td>\n",
       "      <td>KTDO</td>\n",
       "      <td>46.4772</td>\n",
       "      <td>-122.8065</td>\n",
       "      <td>Toledo</td>\n",
       "      <td>Lewis</td>\n",
       "      <td>WA</td>\n",
       "      <td>98591.0</td>\n",
       "      <td>0.0</td>\n",
       "    </tr>\n",
       "    <tr>\n",
       "      <th>7413848</th>\n",
       "      <td>W-7510896</td>\n",
       "      <td>Rain</td>\n",
       "      <td>Light</td>\n",
       "      <td>2021-11-07 09:35:00</td>\n",
       "      <td>2021-11-07 09:35:00</td>\n",
       "      <td>0.00</td>\n",
       "      <td>US/Pacific</td>\n",
       "      <td>KTDO</td>\n",
       "      <td>46.4772</td>\n",
       "      <td>-122.8065</td>\n",
       "      <td>Toledo</td>\n",
       "      <td>Lewis</td>\n",
       "      <td>WA</td>\n",
       "      <td>98591.0</td>\n",
       "      <td>0.0</td>\n",
       "    </tr>\n",
       "    <tr>\n",
       "      <th>7419635</th>\n",
       "      <td>W-7516895</td>\n",
       "      <td>Cold</td>\n",
       "      <td>Severe</td>\n",
       "      <td>2017-11-05 08:55:00</td>\n",
       "      <td>2017-11-05 08:55:00</td>\n",
       "      <td>0.00</td>\n",
       "      <td>US/Mountain</td>\n",
       "      <td>KSHC</td>\n",
       "      <td>41.9308</td>\n",
       "      <td>-109.9687</td>\n",
       "      <td>Green River</td>\n",
       "      <td>Sweetwater</td>\n",
       "      <td>WY</td>\n",
       "      <td>82935.0</td>\n",
       "      <td>0.0</td>\n",
       "    </tr>\n",
       "    <tr>\n",
       "      <th>7475287</th>\n",
       "      <td>W-7573319</td>\n",
       "      <td>Snow</td>\n",
       "      <td>Light</td>\n",
       "      <td>2017-11-05 08:35:00</td>\n",
       "      <td>2017-11-05 08:35:00</td>\n",
       "      <td>0.00</td>\n",
       "      <td>US/Mountain</td>\n",
       "      <td>KARL</td>\n",
       "      <td>41.6000</td>\n",
       "      <td>-106.2100</td>\n",
       "      <td>Rock River</td>\n",
       "      <td>Carbon</td>\n",
       "      <td>WY</td>\n",
       "      <td>82083.0</td>\n",
       "      <td>0.0</td>\n",
       "    </tr>\n",
       "  </tbody>\n",
       "</table>\n",
       "<p>114 rows × 15 columns</p>\n",
       "</div>"
      ],
      "text/plain": [
       "           EventId  Type Severity      StartTime(UTC)        EndTime(UTC)  \\\n",
       "101876    W-103205  Snow    Light 2020-11-01 07:15:00 2020-11-01 07:15:00   \n",
       "148483    W-150530   Fog   Severe 2021-11-07 07:55:00 2021-11-07 07:55:00   \n",
       "367097    W-372333   Fog   Severe 2019-11-03 07:15:00 2019-11-03 07:15:00   \n",
       "716783    W-726704  Snow    Light 2019-11-03 07:53:00 2019-11-03 07:53:00   \n",
       "793055    W-804001  Snow    Light 2020-11-01 07:55:00 2020-11-01 07:55:00   \n",
       "...            ...   ...      ...                 ...                 ...   \n",
       "7326092  W-7422022  Rain    Light 2017-11-05 09:55:00 2017-11-05 09:55:00   \n",
       "7408757  W-7505805  Rain    Light 2017-11-05 09:35:00 2017-11-05 09:35:00   \n",
       "7413848  W-7510896  Rain    Light 2021-11-07 09:35:00 2021-11-07 09:35:00   \n",
       "7419635  W-7516895  Cold   Severe 2017-11-05 08:55:00 2017-11-05 08:55:00   \n",
       "7475287  W-7573319  Snow    Light 2017-11-05 08:35:00 2017-11-05 08:35:00   \n",
       "\n",
       "         Precipitation(in)     TimeZone AirportCode  LocationLat  LocationLng  \\\n",
       "101876                0.00   US/Central        K04W      46.0244     -92.8991   \n",
       "148483                0.00   US/Central        KFYG      38.5876     -90.9938   \n",
       "367097                0.00   US/Central        KLXY      31.6412     -96.5144   \n",
       "716783                0.00   US/Central        KPIR      44.3827    -100.2860   \n",
       "793055                0.00   US/Central        KCBG      45.5628     -93.2644   \n",
       "...                    ...          ...         ...          ...          ...   \n",
       "7326092               0.01   US/Pacific        KS47      45.4175    -123.8087   \n",
       "7408757               0.00   US/Pacific        KTDO      46.4772    -122.8065   \n",
       "7413848               0.00   US/Pacific        KTDO      46.4772    -122.8065   \n",
       "7419635               0.00  US/Mountain        KSHC      41.9308    -109.9687   \n",
       "7475287               0.00  US/Mountain        KARL      41.6000    -106.2100   \n",
       "\n",
       "                 City      County State  ZipCode  EventDuration  \n",
       "101876       Hinckley        Pine    MN  55037.0            0.0  \n",
       "148483   Marthasville      Warren    MO  63357.0            0.0  \n",
       "367097          Mexia   Limestone    TX  76667.0            0.0  \n",
       "716783         Pierre      Hughes    SD  57501.0            0.0  \n",
       "793055      Cambridge      Isanti    MN  55008.0            0.0  \n",
       "...               ...         ...   ...      ...            ...  \n",
       "7326092     Tillamook   Tillamook    OR  97141.0            0.0  \n",
       "7408757        Toledo       Lewis    WA  98591.0            0.0  \n",
       "7413848        Toledo       Lewis    WA  98591.0            0.0  \n",
       "7419635   Green River  Sweetwater    WY  82935.0            0.0  \n",
       "7475287    Rock River      Carbon    WY  82083.0            0.0  \n",
       "\n",
       "[114 rows x 15 columns]"
      ]
     },
     "execution_count": 56,
     "metadata": {},
     "output_type": "execute_result"
    }
   ],
   "source": [
    "X[X['EventDuration'] == 0]"
   ]
  },
  {
   "cell_type": "code",
   "execution_count": 57,
   "metadata": {},
   "outputs": [],
   "source": [
    "X = X[X['EventDuration'] > 0]"
   ]
  },
  {
   "cell_type": "code",
   "execution_count": 58,
   "metadata": {},
   "outputs": [
    {
     "data": {
      "text/plain": [
       "count    7.479051e+06\n",
       "mean     5.021843e+03\n",
       "std      8.495643e+04\n",
       "min      6.000000e+01\n",
       "25%      1.200000e+03\n",
       "50%      2.400000e+03\n",
       "75%      4.560000e+03\n",
       "max      9.795192e+07\n",
       "Name: EventDuration, dtype: float64"
      ]
     },
     "execution_count": 58,
     "metadata": {},
     "output_type": "execute_result"
    }
   ],
   "source": [
    "X['EventDuration'].describe()"
   ]
  },
  {
   "cell_type": "code",
   "execution_count": 59,
   "metadata": {},
   "outputs": [],
   "source": [
    "title = alt.TitleParams('Histograma da duração dos Eventos', anchor='middle', fontSize=15)\n",
    "base = alt.Chart(X, title=title).encode(\n",
    "    alt.X(\n",
    "        'EventDuration',\n",
    "        #axis=alt.Axis(labelAngle=0),\n",
    "        title='Duração (s)'),\n",
    "    alt.Y('count()', title='Contagem').scale(type='log')\n",
    ").properties(\n",
    "    width=500,\n",
    "    height=400\n",
    ")\n",
    "p = base.mark_bar() + base.mark_text(align='center', dx=0, yOffset=-10)\n",
    "p.save('/Users/administrador/Documents/Pessoal/repositorios/information_visualization/images/11.duration_hist.png', ppi=300)"
   ]
  },
  {
   "cell_type": "markdown",
   "metadata": {},
   "source": [
    "## Transformation"
   ]
  },
  {
   "cell_type": "markdown",
   "metadata": {},
   "source": [
    "### Date variable"
   ]
  },
  {
   "cell_type": "code",
   "execution_count": 60,
   "metadata": {},
   "outputs": [],
   "source": [
    "X['EventDate'] = X['StartTime(UTC)'].apply(lambda x: x.date())"
   ]
  },
  {
   "cell_type": "markdown",
   "metadata": {},
   "source": [
    "Day, Month and Year (START and END)"
   ]
  },
  {
   "cell_type": "code",
   "execution_count": 61,
   "metadata": {},
   "outputs": [],
   "source": [
    "X['StartDay'] = X['StartTime(UTC)'].apply(lambda x: x.day)\n",
    "X['StartMonth'] = X['StartTime(UTC)'].apply(lambda x: x.month)\n",
    "X['StartYear'] = X['StartTime(UTC)'].apply(lambda x: x.year)\n",
    "\n",
    "X['EndDay'] = X['EndTime(UTC)'].apply(lambda x: x.day)\n",
    "X['EndMonth'] = X['EndTime(UTC)'].apply(lambda x: x.month)\n",
    "X['EndYear'] = X['EndTime(UTC)'].apply(lambda x: x.year)"
   ]
  },
  {
   "cell_type": "markdown",
   "metadata": {},
   "source": [
    "## Data Vizualization"
   ]
  },
  {
   "cell_type": "markdown",
   "metadata": {},
   "source": [
    "### Basic precipitation time series"
   ]
  },
  {
   "cell_type": "code",
   "execution_count": 62,
   "metadata": {},
   "outputs": [],
   "source": [
    "aggregation = {\n",
    "    'Precipitation(in)' : 'sum' \n",
    "}"
   ]
  },
  {
   "cell_type": "code",
   "execution_count": 63,
   "metadata": {},
   "outputs": [],
   "source": [
    "preci_by_date = X.groupby('EventDate').agg(aggregation)"
   ]
  },
  {
   "cell_type": "code",
   "execution_count": 64,
   "metadata": {},
   "outputs": [],
   "source": [
    "preci_by_date = preci_by_date.reset_index().copy()"
   ]
  },
  {
   "cell_type": "code",
   "execution_count": 65,
   "metadata": {},
   "outputs": [
    {
     "data": {
      "text/html": [
       "<div>\n",
       "<style scoped>\n",
       "    .dataframe tbody tr th:only-of-type {\n",
       "        vertical-align: middle;\n",
       "    }\n",
       "\n",
       "    .dataframe tbody tr th {\n",
       "        vertical-align: top;\n",
       "    }\n",
       "\n",
       "    .dataframe thead th {\n",
       "        text-align: right;\n",
       "    }\n",
       "</style>\n",
       "<table border=\"1\" class=\"dataframe\">\n",
       "  <thead>\n",
       "    <tr style=\"text-align: right;\">\n",
       "      <th></th>\n",
       "      <th>EventDate</th>\n",
       "      <th>Precipitation(in)</th>\n",
       "    </tr>\n",
       "  </thead>\n",
       "  <tbody>\n",
       "    <tr>\n",
       "      <th>0</th>\n",
       "      <td>2016-01-01</td>\n",
       "      <td>462.12</td>\n",
       "    </tr>\n",
       "    <tr>\n",
       "      <th>1</th>\n",
       "      <td>2016-01-02</td>\n",
       "      <td>40.10</td>\n",
       "    </tr>\n",
       "    <tr>\n",
       "      <th>2</th>\n",
       "      <td>2016-01-03</td>\n",
       "      <td>47.19</td>\n",
       "    </tr>\n",
       "    <tr>\n",
       "      <th>3</th>\n",
       "      <td>2016-01-04</td>\n",
       "      <td>34.00</td>\n",
       "    </tr>\n",
       "    <tr>\n",
       "      <th>4</th>\n",
       "      <td>2016-01-05</td>\n",
       "      <td>175.24</td>\n",
       "    </tr>\n",
       "  </tbody>\n",
       "</table>\n",
       "</div>"
      ],
      "text/plain": [
       "    EventDate  Precipitation(in)\n",
       "0  2016-01-01             462.12\n",
       "1  2016-01-02              40.10\n",
       "2  2016-01-03              47.19\n",
       "3  2016-01-04              34.00\n",
       "4  2016-01-05             175.24"
      ]
     },
     "execution_count": 65,
     "metadata": {},
     "output_type": "execute_result"
    }
   ],
   "source": [
    "preci_by_date.head()"
   ]
  },
  {
   "cell_type": "code",
   "execution_count": 66,
   "metadata": {},
   "outputs": [],
   "source": [
    "preci_by_date['EventDate'] = pd.to_datetime(preci_by_date['EventDate'])"
   ]
  },
  {
   "cell_type": "code",
   "execution_count": 67,
   "metadata": {},
   "outputs": [],
   "source": [
    "title = alt.Title('Precipitação total do país por dia', fontSize=15)\n",
    "\n",
    "ts_chart = alt.Chart(preci_by_date, title=title).mark_line().encode(\n",
    "    x=alt.X('EventDate:T', title='Dia'),\n",
    "    y=alt.Y(\n",
    "        'Precipitation(in):Q',\n",
    "        title='Precipitação (polegadas)'),\n",
    "    color=alt.value('navy')\n",
    ").properties(\n",
    "    width=600,\n",
    "    height=300\n",
    ")\n",
    "p = ts_chart\n",
    "p.save('/Users/administrador/Documents/Pessoal/repositorios/information_visualization/images/12.precipitation_day.png', ppi=300)"
   ]
  },
  {
   "cell_type": "markdown",
   "metadata": {},
   "source": [
    "Seasonal charts"
   ]
  },
  {
   "cell_type": "code",
   "execution_count": 68,
   "metadata": {},
   "outputs": [],
   "source": [
    "preci_by_month = X.groupby(['StartMonth', 'StartYear']).agg(aggregation).reset_index()"
   ]
  },
  {
   "cell_type": "code",
   "execution_count": 87,
   "metadata": {},
   "outputs": [],
   "source": [
    "title = alt.Title('Sazonalidade da precipitação por mês do ano')\n",
    "\n",
    "base = alt.Chart(preci_by_month, title=title).encode(\n",
    "    x=alt.X(\n",
    "        'StartMonth:N', \n",
    "        axis=alt.Axis(labelAngle=0),\n",
    "        title='Mês do ano'),\n",
    "    y=alt.Y('Precipitation(in):Q'),\n",
    "    color='StartYear:N'\n",
    ").properties(\n",
    "    width=600,\n",
    "    height=300\n",
    ")\n",
    "\n",
    "p = base.mark_line()\n",
    "p.save('/Users/administrador/Documents/Pessoal/repositorios/information_visualization/images/13.precipitation_seasonality_month.png', ppi=300)\n"
   ]
  },
  {
   "cell_type": "code",
   "execution_count": 91,
   "metadata": {},
   "outputs": [],
   "source": [
    "title = alt.Title('Tendência de precipitação por mês do ano')\n",
    "base = alt.Chart(preci_by_month).encode(\n",
    "    x=alt.X(\n",
    "        'StartYear:N',\n",
    "        axis=alt.Axis(labelAngle=-90),\n",
    "        scale=alt.Scale(nice={'interval': 'year', 'step': 2}),\n",
    "        title='Ano'),\n",
    "    y=alt.Y('Precipitation(in):Q', title='Precipitação (polegadas)')\n",
    ").properties(\n",
    "    width=50,\n",
    "    height=400\n",
    ")\n",
    "\n",
    "p = base.mark_line().facet(column='StartMonth')\n",
    "p.save('/Users/administrador/Documents/Pessoal/repositorios/information_visualization/images/14.precipitation_trend_month.png', ppi=300)"
   ]
  },
  {
   "cell_type": "markdown",
   "metadata": {},
   "source": [
    "Month"
   ]
  },
  {
   "cell_type": "code",
   "execution_count": 71,
   "metadata": {},
   "outputs": [
    {
     "data": {
      "text/plain": [
       "0           True\n",
       "1           True\n",
       "2           True\n",
       "3           True\n",
       "4           True\n",
       "           ...  \n",
       "7479160    False\n",
       "7479161    False\n",
       "7479162    False\n",
       "7479163    False\n",
       "7479164    False\n",
       "Name: StartYear, Length: 7479051, dtype: bool"
      ]
     },
     "execution_count": 71,
     "metadata": {},
     "output_type": "execute_result"
    }
   ],
   "source": [
    "X['StartYear'] == 2016"
   ]
  },
  {
   "cell_type": "code",
   "execution_count": 72,
   "metadata": {},
   "outputs": [],
   "source": [
    "preci_by_day = X[X['StartYear'] == 2016].groupby(['StartDay', 'StartMonth']).agg(aggregation).reset_index()"
   ]
  },
  {
   "cell_type": "code",
   "execution_count": 93,
   "metadata": {},
   "outputs": [],
   "source": [
    "title = alt.Title('Precipitação total por dia do mês em 2016')\n",
    "\n",
    "base = alt.Chart(preci_by_day, title=title).encode(\n",
    "    x=alt.X(\n",
    "        'StartDay:N', \n",
    "        axis=alt.Axis(labelAngle=0),\n",
    "        title='Dia do mês'),\n",
    "    y=alt.Y('Precipitation(in):Q', title='PrecipitaçAo (polegadas)'),\n",
    "    color=alt.Color('StartMonth:N').title('Mês')\n",
    ").properties(\n",
    "    width=600,\n",
    "    height=300\n",
    ")\n",
    "\n",
    "p = base.mark_line()\n",
    "p.save('/Users/administrador/Documents/Pessoal/repositorios/information_visualization/images/15.preci_seasonality_day_2016.png', ppi=300)\n"
   ]
  },
  {
   "cell_type": "code",
   "execution_count": null,
   "metadata": {},
   "outputs": [],
   "source": []
  },
  {
   "cell_type": "code",
   "execution_count": 74,
   "metadata": {},
   "outputs": [],
   "source": [
    "teste_scale = X[['Precipitation(in)', 'StartTime(UTC)']].copy()"
   ]
  },
  {
   "cell_type": "code",
   "execution_count": 75,
   "metadata": {},
   "outputs": [],
   "source": [
    "from sklearn.preprocessing import MinMaxScaler"
   ]
  },
  {
   "cell_type": "code",
   "execution_count": 76,
   "metadata": {},
   "outputs": [],
   "source": [
    "scaler = MinMaxScaler()\n",
    "preci_scaled = scaler.fit_transform(teste_scale[['Precipitation(in)']])"
   ]
  },
  {
   "cell_type": "code",
   "execution_count": 77,
   "metadata": {},
   "outputs": [],
   "source": [
    "teste_scale['Precipitation(in)'] = preci_scaled"
   ]
  },
  {
   "cell_type": "code",
   "execution_count": 78,
   "metadata": {},
   "outputs": [
    {
     "data": {
      "text/plain": [
       "np.float64(0.0)"
      ]
     },
     "execution_count": 78,
     "metadata": {},
     "output_type": "execute_result"
    }
   ],
   "source": [
    "preci_scaled.min()"
   ]
  },
  {
   "cell_type": "code",
   "execution_count": 79,
   "metadata": {},
   "outputs": [
    {
     "data": {
      "text/plain": [
       "np.float64(1.0)"
      ]
     },
     "execution_count": 79,
     "metadata": {},
     "output_type": "execute_result"
    }
   ],
   "source": [
    "preci_scaled.max()"
   ]
  },
  {
   "cell_type": "code",
   "execution_count": 90,
   "metadata": {},
   "outputs": [],
   "source": [
    "title = alt.TitleParams('Histograma de precipitação escalada', anchor='middle')\n",
    "base = alt.Chart(teste_scale, title=title).encode(\n",
    "    alt.X(\n",
    "        'Precipitation(in)',\n",
    "        #axis=alt.Axis(labelAngle=0),\n",
    "        title='Precipitação (polegadas)'),\n",
    "    alt.Y('count()', title='Contagem').scale(type='log')\n",
    ").properties(\n",
    "    width=500,\n",
    "    height=400\n",
    ")\n",
    "p = base.mark_bar() + base.mark_text(align='center', dx=0, yOffset=-10)\n",
    "p.save('/Users/administrador/Documents/Pessoal/repositorios/information_visualization/images/15.preci_min_max.png', ppi=300)"
   ]
  },
  {
   "cell_type": "code",
   "execution_count": 81,
   "metadata": {},
   "outputs": [],
   "source": [
    "X_na = X[X.isnull().any(axis=1)][['LocationLat', 'LocationLng']].drop_duplicates()"
   ]
  },
  {
   "cell_type": "code",
   "execution_count": 82,
   "metadata": {},
   "outputs": [
    {
     "data": {
      "text/plain": [
       "EventId                  0\n",
       "Type                     0\n",
       "Severity                 0\n",
       "StartTime(UTC)           0\n",
       "EndTime(UTC)             0\n",
       "Precipitation(in)        0\n",
       "TimeZone                 0\n",
       "AirportCode              0\n",
       "LocationLat              0\n",
       "LocationLng              0\n",
       "City                 14563\n",
       "County                   0\n",
       "State                    0\n",
       "ZipCode              59234\n",
       "EventDuration            0\n",
       "EventDate                0\n",
       "StartDay                 0\n",
       "StartMonth               0\n",
       "StartYear                0\n",
       "EndDay                   0\n",
       "EndMonth                 0\n",
       "EndYear                  0\n",
       "dtype: int64"
      ]
     },
     "execution_count": 82,
     "metadata": {},
     "output_type": "execute_result"
    }
   ],
   "source": [
    "X.isnull().sum()"
   ]
  },
  {
   "cell_type": "code",
   "execution_count": 83,
   "metadata": {},
   "outputs": [
    {
     "data": {
      "text/html": [
       "<div>\n",
       "<style scoped>\n",
       "    .dataframe tbody tr th:only-of-type {\n",
       "        vertical-align: middle;\n",
       "    }\n",
       "\n",
       "    .dataframe tbody tr th {\n",
       "        vertical-align: top;\n",
       "    }\n",
       "\n",
       "    .dataframe thead th {\n",
       "        text-align: right;\n",
       "    }\n",
       "</style>\n",
       "<table border=\"1\" class=\"dataframe\">\n",
       "  <thead>\n",
       "    <tr style=\"text-align: right;\">\n",
       "      <th></th>\n",
       "      <th>LocationLat</th>\n",
       "      <th>LocationLng</th>\n",
       "      <th>City</th>\n",
       "      <th>ZipCode</th>\n",
       "    </tr>\n",
       "  </thead>\n",
       "  <tbody>\n",
       "    <tr>\n",
       "      <th>47309</th>\n",
       "      <td>35.0222</td>\n",
       "      <td>-76.4625</td>\n",
       "      <td>Davis</td>\n",
       "      <td>NaN</td>\n",
       "    </tr>\n",
       "    <tr>\n",
       "      <th>194050</th>\n",
       "      <td>33.2338</td>\n",
       "      <td>-119.4559</td>\n",
       "      <td>None</td>\n",
       "      <td>NaN</td>\n",
       "    </tr>\n",
       "    <tr>\n",
       "      <th>729442</th>\n",
       "      <td>38.7578</td>\n",
       "      <td>-104.3013</td>\n",
       "      <td>None</td>\n",
       "      <td>NaN</td>\n",
       "    </tr>\n",
       "    <tr>\n",
       "      <th>961214</th>\n",
       "      <td>40.7187</td>\n",
       "      <td>-114.0309</td>\n",
       "      <td>Wendover</td>\n",
       "      <td>NaN</td>\n",
       "    </tr>\n",
       "    <tr>\n",
       "      <th>995177</th>\n",
       "      <td>26.9688</td>\n",
       "      <td>-99.2489</td>\n",
       "      <td>Zapata</td>\n",
       "      <td>NaN</td>\n",
       "    </tr>\n",
       "    <tr>\n",
       "      <th>1766339</th>\n",
       "      <td>35.8890</td>\n",
       "      <td>-101.0300</td>\n",
       "      <td>Miami</td>\n",
       "      <td>NaN</td>\n",
       "    </tr>\n",
       "    <tr>\n",
       "      <th>2364292</th>\n",
       "      <td>47.4542</td>\n",
       "      <td>-115.6697</td>\n",
       "      <td>Mullan</td>\n",
       "      <td>NaN</td>\n",
       "    </tr>\n",
       "    <tr>\n",
       "      <th>2936187</th>\n",
       "      <td>44.2708</td>\n",
       "      <td>-71.3035</td>\n",
       "      <td>Sargents</td>\n",
       "      <td>NaN</td>\n",
       "    </tr>\n",
       "    <tr>\n",
       "      <th>3327594</th>\n",
       "      <td>44.6629</td>\n",
       "      <td>-104.5678</td>\n",
       "      <td>None</td>\n",
       "      <td>NaN</td>\n",
       "    </tr>\n",
       "    <tr>\n",
       "      <th>4406000</th>\n",
       "      <td>31.3460</td>\n",
       "      <td>-85.6543</td>\n",
       "      <td>None</td>\n",
       "      <td>NaN</td>\n",
       "    </tr>\n",
       "    <tr>\n",
       "      <th>5369925</th>\n",
       "      <td>34.2950</td>\n",
       "      <td>-103.7860</td>\n",
       "      <td>Elida</td>\n",
       "      <td>NaN</td>\n",
       "    </tr>\n",
       "    <tr>\n",
       "      <th>6135418</th>\n",
       "      <td>39.4256</td>\n",
       "      <td>-107.3792</td>\n",
       "      <td>Glenwood Springs</td>\n",
       "      <td>NaN</td>\n",
       "    </tr>\n",
       "    <tr>\n",
       "      <th>6641334</th>\n",
       "      <td>31.6056</td>\n",
       "      <td>-110.4281</td>\n",
       "      <td>Sierra Vista</td>\n",
       "      <td>NaN</td>\n",
       "    </tr>\n",
       "    <tr>\n",
       "      <th>6705847</th>\n",
       "      <td>28.8625</td>\n",
       "      <td>-96.9297</td>\n",
       "      <td>Victoria</td>\n",
       "      <td>NaN</td>\n",
       "    </tr>\n",
       "    <tr>\n",
       "      <th>7293565</th>\n",
       "      <td>40.0503</td>\n",
       "      <td>-105.5839</td>\n",
       "      <td>Bald Mountain</td>\n",
       "      <td>NaN</td>\n",
       "    </tr>\n",
       "    <tr>\n",
       "      <th>7363116</th>\n",
       "      <td>28.2090</td>\n",
       "      <td>-100.0190</td>\n",
       "      <td>Carrizo Springs</td>\n",
       "      <td>NaN</td>\n",
       "    </tr>\n",
       "    <tr>\n",
       "      <th>7414101</th>\n",
       "      <td>46.5667</td>\n",
       "      <td>-119.6000</td>\n",
       "      <td>Hanford Site</td>\n",
       "      <td>NaN</td>\n",
       "    </tr>\n",
       "  </tbody>\n",
       "</table>\n",
       "</div>"
      ],
      "text/plain": [
       "         LocationLat  LocationLng              City ZipCode\n",
       "47309        35.0222     -76.4625             Davis     NaN\n",
       "194050       33.2338    -119.4559              None     NaN\n",
       "729442       38.7578    -104.3013              None     NaN\n",
       "961214       40.7187    -114.0309          Wendover     NaN\n",
       "995177       26.9688     -99.2489            Zapata     NaN\n",
       "1766339      35.8890    -101.0300             Miami     NaN\n",
       "2364292      47.4542    -115.6697            Mullan     NaN\n",
       "2936187      44.2708     -71.3035          Sargents     NaN\n",
       "3327594      44.6629    -104.5678              None     NaN\n",
       "4406000      31.3460     -85.6543              None     NaN\n",
       "5369925      34.2950    -103.7860             Elida     NaN\n",
       "6135418      39.4256    -107.3792  Glenwood Springs     NaN\n",
       "6641334      31.6056    -110.4281      Sierra Vista     NaN\n",
       "6705847      28.8625     -96.9297          Victoria     NaN\n",
       "7293565      40.0503    -105.5839     Bald Mountain     NaN\n",
       "7363116      28.2090    -100.0190   Carrizo Springs     NaN\n",
       "7414101      46.5667    -119.6000      Hanford Site     NaN"
      ]
     },
     "execution_count": 83,
     "metadata": {},
     "output_type": "execute_result"
    }
   ],
   "source": [
    "X[X.isnull().any(axis=1)][['LocationLat', 'LocationLng', 'City', 'ZipCode']].drop_duplicates()"
   ]
  },
  {
   "cell_type": "code",
   "execution_count": 84,
   "metadata": {},
   "outputs": [
    {
     "data": {
      "text/html": [
       "<div>\n",
       "<style scoped>\n",
       "    .dataframe tbody tr th:only-of-type {\n",
       "        vertical-align: middle;\n",
       "    }\n",
       "\n",
       "    .dataframe tbody tr th {\n",
       "        vertical-align: top;\n",
       "    }\n",
       "\n",
       "    .dataframe thead th {\n",
       "        text-align: right;\n",
       "    }\n",
       "</style>\n",
       "<table border=\"1\" class=\"dataframe\">\n",
       "  <thead>\n",
       "    <tr style=\"text-align: right;\">\n",
       "      <th></th>\n",
       "      <th>LocationLat</th>\n",
       "      <th>LocationLng</th>\n",
       "      <th>City</th>\n",
       "      <th>ZipCode</th>\n",
       "    </tr>\n",
       "  </thead>\n",
       "  <tbody>\n",
       "  </tbody>\n",
       "</table>\n",
       "</div>"
      ],
      "text/plain": [
       "Empty DataFrame\n",
       "Columns: [LocationLat, LocationLng, City, ZipCode]\n",
       "Index: []"
      ]
     },
     "execution_count": 84,
     "metadata": {},
     "output_type": "execute_result"
    }
   ],
   "source": [
    "X_na.merge(X[np.logical_not(X.isnull().any(axis=1))][['LocationLat', 'LocationLng', 'City', 'ZipCode']], left_on=['LocationLat', 'LocationLng'], right_on=['LocationLat', 'LocationLng'])"
   ]
  },
  {
   "cell_type": "code",
   "execution_count": 85,
   "metadata": {},
   "outputs": [
    {
     "data": {
      "text/plain": [
       "array([None], dtype=object)"
      ]
     },
     "execution_count": 85,
     "metadata": {},
     "output_type": "execute_result"
    }
   ],
   "source": [
    "X[(X['LocationLat'] == 33.2338) & (X['LocationLng'] == -119.4559)]['City'].unique()"
   ]
  },
  {
   "cell_type": "code",
   "execution_count": 86,
   "metadata": {},
   "outputs": [
    {
     "data": {
      "text/plain": [
       "array([nan, 95616.0], dtype=object)"
      ]
     },
     "execution_count": 86,
     "metadata": {},
     "output_type": "execute_result"
    }
   ],
   "source": [
    "X[X['City'] == 'Davis']['ZipCode'].unique()"
   ]
  },
  {
   "cell_type": "code",
   "execution_count": null,
   "metadata": {},
   "outputs": [],
   "source": []
  }
 ],
 "metadata": {
  "kernelspec": {
   "display_name": "info_viz_env",
   "language": "python",
   "name": "python3"
  },
  "language_info": {
   "codemirror_mode": {
    "name": "ipython",
    "version": 3
   },
   "file_extension": ".py",
   "mimetype": "text/x-python",
   "name": "python",
   "nbconvert_exporter": "python",
   "pygments_lexer": "ipython3",
   "version": "3.12.2"
  }
 },
 "nbformat": 4,
 "nbformat_minor": 2
}
