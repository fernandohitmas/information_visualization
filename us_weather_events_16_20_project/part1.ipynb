{
 "cells": [
  {
   "cell_type": "markdown",
   "metadata": {},
   "source": [
    "# Information Visualization Project - Part 1\n",
    "\n",
    "The dataset the group will dive into describes different kinds of weather phenomena <br>\n",
    "in the United States. It can be found through the following [LINK](https://openml.org/search?type=data&id=43380) \n",
    "accessing the OpenML website."
   ]
  },
  {
   "cell_type": "markdown",
   "metadata": {},
   "source": [
    "## A brief description"
   ]
  },
  {
   "cell_type": "markdown",
   "metadata": {},
   "source": [
    "The US Weather Dataset (2016-2020) compiles the climate data from 2 thousand airports<br>\n",
    "Throughout the country of the United States, it covers 49 states and all the data <br>\n",
    "streches from January 2016 up to December 2020."
   ]
  },
  {
   "cell_type": "markdown",
   "metadata": {},
   "source": [
    "# Libraries Imports"
   ]
  },
  {
   "cell_type": "code",
   "execution_count": 1,
   "metadata": {},
   "outputs": [],
   "source": [
    "# Basic libraries\n",
    "import numpy as np\n",
    "import pandas as pd\n",
    "import matplotlib.pyplot as plt\n",
    "import seaborn as sns\n",
    "\n",
    "# Vega Altair\n",
    "import altair as alt\n",
    "\n",
    "# Download Data\n",
    "import openml "
   ]
  },
  {
   "cell_type": "markdown",
   "metadata": {},
   "source": [
    "To use altair with larger datasets:"
   ]
  },
  {
   "cell_type": "code",
   "execution_count": null,
   "metadata": {},
   "outputs": [],
   "source": [
    "alt.data_transformers.enable(\"vegafusion\")"
   ]
  },
  {
   "cell_type": "markdown",
   "metadata": {},
   "source": [
    "## Downloading data"
   ]
  },
  {
   "cell_type": "code",
   "execution_count": 2,
   "metadata": {},
   "outputs": [],
   "source": [
    "dataset = openml.datasets.get_dataset(43380)"
   ]
  },
  {
   "cell_type": "code",
   "execution_count": 3,
   "metadata": {},
   "outputs": [
    {
     "data": {
      "text/plain": [
       "OpenML Dataset\n",
       "==============\n",
       "Name.........: US-Weather-Events-(2016---2020)\n",
       "Version......: 1\n",
       "Format.......: arff\n",
       "Upload Date..: 2022-03-23 12:51:42\n",
       "Licence......: CC BY-NC-SA 4.0\n",
       "Download URL.: https://api.openml.org/data/v1/download/22102205/US-Weather-Events-(2016---2020).arff\n",
       "OpenML URL...: https://www.openml.org/d/43380\n",
       "# of features: None"
      ]
     },
     "execution_count": 3,
     "metadata": {},
     "output_type": "execute_result"
    }
   ],
   "source": [
    "dataset"
   ]
  },
  {
   "cell_type": "code",
   "execution_count": 4,
   "metadata": {},
   "outputs": [],
   "source": [
    "X, y, _, _ = dataset.get_data(dataset_format=\"dataframe\")"
   ]
  },
  {
   "cell_type": "code",
   "execution_count": 5,
   "metadata": {},
   "outputs": [
    {
     "data": {
      "text/html": [
       "<div>\n",
       "<style scoped>\n",
       "    .dataframe tbody tr th:only-of-type {\n",
       "        vertical-align: middle;\n",
       "    }\n",
       "\n",
       "    .dataframe tbody tr th {\n",
       "        vertical-align: top;\n",
       "    }\n",
       "\n",
       "    .dataframe thead th {\n",
       "        text-align: right;\n",
       "    }\n",
       "</style>\n",
       "<table border=\"1\" class=\"dataframe\">\n",
       "  <thead>\n",
       "    <tr style=\"text-align: right;\">\n",
       "      <th></th>\n",
       "      <th>EventId</th>\n",
       "      <th>Type</th>\n",
       "      <th>Severity</th>\n",
       "      <th>StartTime(UTC)</th>\n",
       "      <th>EndTime(UTC)</th>\n",
       "      <th>Precipitation(in)</th>\n",
       "      <th>TimeZone</th>\n",
       "      <th>AirportCode</th>\n",
       "      <th>LocationLat</th>\n",
       "      <th>LocationLng</th>\n",
       "      <th>City</th>\n",
       "      <th>County</th>\n",
       "      <th>State</th>\n",
       "      <th>ZipCode</th>\n",
       "    </tr>\n",
       "  </thead>\n",
       "  <tbody>\n",
       "    <tr>\n",
       "      <th>0</th>\n",
       "      <td>W-1</td>\n",
       "      <td>Snow</td>\n",
       "      <td>Light</td>\n",
       "      <td>2016-01-06 23:14:00</td>\n",
       "      <td>2016-01-07 00:34:00</td>\n",
       "      <td>0.00</td>\n",
       "      <td>US/Mountain</td>\n",
       "      <td>K04V</td>\n",
       "      <td>38.0972</td>\n",
       "      <td>-106.1689</td>\n",
       "      <td>Saguache</td>\n",
       "      <td>Saguache</td>\n",
       "      <td>CO</td>\n",
       "      <td>81149.0</td>\n",
       "    </tr>\n",
       "    <tr>\n",
       "      <th>1</th>\n",
       "      <td>W-2</td>\n",
       "      <td>Snow</td>\n",
       "      <td>Light</td>\n",
       "      <td>2016-01-07 04:14:00</td>\n",
       "      <td>2016-01-07 04:54:00</td>\n",
       "      <td>0.00</td>\n",
       "      <td>US/Mountain</td>\n",
       "      <td>K04V</td>\n",
       "      <td>38.0972</td>\n",
       "      <td>-106.1689</td>\n",
       "      <td>Saguache</td>\n",
       "      <td>Saguache</td>\n",
       "      <td>CO</td>\n",
       "      <td>81149.0</td>\n",
       "    </tr>\n",
       "    <tr>\n",
       "      <th>2</th>\n",
       "      <td>W-3</td>\n",
       "      <td>Snow</td>\n",
       "      <td>Light</td>\n",
       "      <td>2016-01-07 05:54:00</td>\n",
       "      <td>2016-01-07 15:34:00</td>\n",
       "      <td>0.03</td>\n",
       "      <td>US/Mountain</td>\n",
       "      <td>K04V</td>\n",
       "      <td>38.0972</td>\n",
       "      <td>-106.1689</td>\n",
       "      <td>Saguache</td>\n",
       "      <td>Saguache</td>\n",
       "      <td>CO</td>\n",
       "      <td>81149.0</td>\n",
       "    </tr>\n",
       "    <tr>\n",
       "      <th>3</th>\n",
       "      <td>W-4</td>\n",
       "      <td>Snow</td>\n",
       "      <td>Light</td>\n",
       "      <td>2016-01-08 05:34:00</td>\n",
       "      <td>2016-01-08 05:54:00</td>\n",
       "      <td>0.00</td>\n",
       "      <td>US/Mountain</td>\n",
       "      <td>K04V</td>\n",
       "      <td>38.0972</td>\n",
       "      <td>-106.1689</td>\n",
       "      <td>Saguache</td>\n",
       "      <td>Saguache</td>\n",
       "      <td>CO</td>\n",
       "      <td>81149.0</td>\n",
       "    </tr>\n",
       "    <tr>\n",
       "      <th>4</th>\n",
       "      <td>W-5</td>\n",
       "      <td>Snow</td>\n",
       "      <td>Light</td>\n",
       "      <td>2016-01-08 13:54:00</td>\n",
       "      <td>2016-01-08 15:54:00</td>\n",
       "      <td>0.00</td>\n",
       "      <td>US/Mountain</td>\n",
       "      <td>K04V</td>\n",
       "      <td>38.0972</td>\n",
       "      <td>-106.1689</td>\n",
       "      <td>Saguache</td>\n",
       "      <td>Saguache</td>\n",
       "      <td>CO</td>\n",
       "      <td>81149.0</td>\n",
       "    </tr>\n",
       "  </tbody>\n",
       "</table>\n",
       "</div>"
      ],
      "text/plain": [
       "  EventId  Type Severity       StartTime(UTC)         EndTime(UTC)  \\\n",
       "0     W-1  Snow    Light  2016-01-06 23:14:00  2016-01-07 00:34:00   \n",
       "1     W-2  Snow    Light  2016-01-07 04:14:00  2016-01-07 04:54:00   \n",
       "2     W-3  Snow    Light  2016-01-07 05:54:00  2016-01-07 15:34:00   \n",
       "3     W-4  Snow    Light  2016-01-08 05:34:00  2016-01-08 05:54:00   \n",
       "4     W-5  Snow    Light  2016-01-08 13:54:00  2016-01-08 15:54:00   \n",
       "\n",
       "   Precipitation(in)     TimeZone AirportCode  LocationLat  LocationLng  \\\n",
       "0               0.00  US/Mountain        K04V      38.0972    -106.1689   \n",
       "1               0.00  US/Mountain        K04V      38.0972    -106.1689   \n",
       "2               0.03  US/Mountain        K04V      38.0972    -106.1689   \n",
       "3               0.00  US/Mountain        K04V      38.0972    -106.1689   \n",
       "4               0.00  US/Mountain        K04V      38.0972    -106.1689   \n",
       "\n",
       "       City    County State  ZipCode  \n",
       "0  Saguache  Saguache    CO  81149.0  \n",
       "1  Saguache  Saguache    CO  81149.0  \n",
       "2  Saguache  Saguache    CO  81149.0  \n",
       "3  Saguache  Saguache    CO  81149.0  \n",
       "4  Saguache  Saguache    CO  81149.0  "
      ]
     },
     "execution_count": 5,
     "metadata": {},
     "output_type": "execute_result"
    }
   ],
   "source": [
    "X.head()"
   ]
  },
  {
   "cell_type": "code",
   "execution_count": 6,
   "metadata": {},
   "outputs": [
    {
     "name": "stdout",
     "output_type": "stream",
     "text": [
      "<class 'pandas.core.frame.DataFrame'>\n",
      "RangeIndex: 7479165 entries, 0 to 7479164\n",
      "Data columns (total 14 columns):\n",
      " #   Column             Dtype  \n",
      "---  ------             -----  \n",
      " 0   EventId            object \n",
      " 1   Type               object \n",
      " 2   Severity           object \n",
      " 3   StartTime(UTC)     object \n",
      " 4   EndTime(UTC)       object \n",
      " 5   Precipitation(in)  float64\n",
      " 6   TimeZone           object \n",
      " 7   AirportCode        object \n",
      " 8   LocationLat        float64\n",
      " 9   LocationLng        float64\n",
      " 10  City               object \n",
      " 11  County             object \n",
      " 12  State              object \n",
      " 13  ZipCode            float64\n",
      "dtypes: float64(4), object(10)\n",
      "memory usage: 798.9+ MB\n"
     ]
    }
   ],
   "source": [
    "X.info()"
   ]
  },
  {
   "cell_type": "markdown",
   "metadata": {},
   "source": [
    "## Data Exploration"
   ]
  },
  {
   "cell_type": "markdown",
   "metadata": {},
   "source": [
    "### Describing the variables"
   ]
  },
  {
   "cell_type": "markdown",
   "metadata": {},
   "source": [
    "EventID: \n",
    "\n",
    "The variable has no duplicates and has no meaning attached to it."
   ]
  },
  {
   "cell_type": "code",
   "execution_count": 10,
   "metadata": {},
   "outputs": [
    {
     "data": {
      "text/plain": [
       "7479165"
      ]
     },
     "execution_count": 10,
     "metadata": {},
     "output_type": "execute_result"
    }
   ],
   "source": [
    "X['EventId'].nunique()"
   ]
  },
  {
   "cell_type": "markdown",
   "metadata": {},
   "source": [
    "Type:\n",
    "\n",
    "There are 7 kinds of events: \n",
    "- Snow, Fog, Cold, Storm, Rain, Precipitation "
   ]
  },
  {
   "cell_type": "code",
   "execution_count": 12,
   "metadata": {},
   "outputs": [
    {
     "data": {
      "text/plain": [
       "array(['Snow', 'Fog', 'Cold', 'Storm', 'Rain', 'Precipitation', 'Hail'],\n",
       "      dtype=object)"
      ]
     },
     "execution_count": 12,
     "metadata": {},
     "output_type": "execute_result"
    }
   ],
   "source": [
    "X['Type'].unique()"
   ]
  },
  {
   "cell_type": "code",
   "execution_count": 13,
   "metadata": {},
   "outputs": [
    {
     "data": {
      "text/plain": [
       "Type\n",
       "Rain             4397546\n",
       "Fog              1722738\n",
       "Snow              980411\n",
       "Cold              197691\n",
       "Precipitation     128836\n",
       "Storm              49203\n",
       "Hail                2740\n",
       "Name: count, dtype: int64"
      ]
     },
     "execution_count": 13,
     "metadata": {},
     "output_type": "execute_result"
    }
   ],
   "source": [
    "X['Type'].value_counts()"
   ]
  },
  {
   "cell_type": "markdown",
   "metadata": {},
   "source": [
    "Char initialization"
   ]
  },
  {
   "cell_type": "code",
   "execution_count": 8,
   "metadata": {},
   "outputs": [],
   "source": [
    "chart = alt.Chart(X)"
   ]
  },
  {
   "cell_type": "code",
   "execution_count": 16,
   "metadata": {},
   "outputs": [
    {
     "data": {
      "text/plain": [
       "DataTransformerRegistry.enable('vegafusion')"
      ]
     },
     "execution_count": 16,
     "metadata": {},
     "output_type": "execute_result"
    }
   ],
   "source": []
  },
  {
   "cell_type": "code",
   "execution_count": 34,
   "metadata": {},
   "outputs": [
    {
     "data": {
      "text/html": [
       "\n",
       "<style>\n",
       "  #altair-viz-bd4ca19611554b8d9743825999c5fbee.vega-embed {\n",
       "    width: 100%;\n",
       "    display: flex;\n",
       "  }\n",
       "\n",
       "  #altair-viz-bd4ca19611554b8d9743825999c5fbee.vega-embed details,\n",
       "  #altair-viz-bd4ca19611554b8d9743825999c5fbee.vega-embed details summary {\n",
       "    position: relative;\n",
       "  }\n",
       "</style>\n",
       "<div id=\"altair-viz-bd4ca19611554b8d9743825999c5fbee\"></div>\n",
       "<script type=\"text/javascript\">\n",
       "  var VEGA_DEBUG = (typeof VEGA_DEBUG == \"undefined\") ? {} : VEGA_DEBUG;\n",
       "  (function(spec, embedOpt){\n",
       "    let outputDiv = document.currentScript.previousElementSibling;\n",
       "    if (outputDiv.id !== \"altair-viz-bd4ca19611554b8d9743825999c5fbee\") {\n",
       "      outputDiv = document.getElementById(\"altair-viz-bd4ca19611554b8d9743825999c5fbee\");\n",
       "    }\n",
       "    const paths = {\n",
       "      \"vega\": \"https://cdn.jsdelivr.net/npm/vega@5?noext\",\n",
       "      \"vega-lib\": \"https://cdn.jsdelivr.net/npm/vega-lib?noext\",\n",
       "      \"vega-lite\": \"https://cdn.jsdelivr.net/npm/vega-lite@5.20.1?noext\",\n",
       "      \"vega-embed\": \"https://cdn.jsdelivr.net/npm/vega-embed@6?noext\",\n",
       "    };\n",
       "\n",
       "    function maybeLoadScript(lib, version) {\n",
       "      var key = `${lib.replace(\"-\", \"\")}_version`;\n",
       "      return (VEGA_DEBUG[key] == version) ?\n",
       "        Promise.resolve(paths[lib]) :\n",
       "        new Promise(function(resolve, reject) {\n",
       "          var s = document.createElement('script');\n",
       "          document.getElementsByTagName(\"head\")[0].appendChild(s);\n",
       "          s.async = true;\n",
       "          s.onload = () => {\n",
       "            VEGA_DEBUG[key] = version;\n",
       "            return resolve(paths[lib]);\n",
       "          };\n",
       "          s.onerror = () => reject(`Error loading script: ${paths[lib]}`);\n",
       "          s.src = paths[lib];\n",
       "        });\n",
       "    }\n",
       "\n",
       "    function showError(err) {\n",
       "      outputDiv.innerHTML = `<div class=\"error\" style=\"color:red;\">${err}</div>`;\n",
       "      throw err;\n",
       "    }\n",
       "\n",
       "    function displayChart(vegaEmbed) {\n",
       "      vegaEmbed(outputDiv, spec, embedOpt)\n",
       "        .catch(err => showError(`Javascript Error: ${err.message}<br>This usually means there's a typo in your chart specification. See the javascript console for the full traceback.`));\n",
       "    }\n",
       "\n",
       "    if(typeof define === \"function\" && define.amd) {\n",
       "      requirejs.config({paths});\n",
       "      require([\"vega-embed\"], displayChart, err => showError(`Error loading script: ${err.message}`));\n",
       "    } else {\n",
       "      maybeLoadScript(\"vega\", \"5\")\n",
       "        .then(() => maybeLoadScript(\"vega-lite\", \"5.20.1\"))\n",
       "        .then(() => maybeLoadScript(\"vega-embed\", \"6\"))\n",
       "        .catch(showError)\n",
       "        .then(() => displayChart(vegaEmbed));\n",
       "    }\n",
       "  })({\"$schema\": \"https://vega.github.io/schema/vega/v5.json\", \"data\": [{\"name\": \"source_0\"}, {\"name\": \"data_0\", \"values\": [{\"Type\": \"Snow\", \"__count\": 980411}, {\"Type\": \"Fog\", \"__count\": 1722738}, {\"Type\": \"Cold\", \"__count\": 197691}, {\"Type\": \"Storm\", \"__count\": 49203}, {\"Type\": \"Rain\", \"__count\": 4397546}, {\"Type\": \"Precipitation\", \"__count\": 128836}, {\"Type\": \"Hail\", \"__count\": 2740}]}, {\"name\": \"source_0_x_domain_Type\", \"values\": [{\"Type\": \"Snow\", \"sort_field\": 980411}, {\"Type\": \"Fog\", \"sort_field\": 1722738}, {\"Type\": \"Cold\", \"sort_field\": 197691}, {\"Type\": \"Storm\", \"sort_field\": 49203}, {\"Type\": \"Rain\", \"sort_field\": 4397546}, {\"Type\": \"Precipitation\", \"sort_field\": 128836}, {\"Type\": \"Hail\", \"sort_field\": 2740}]}, {\"name\": \"data_0_y_domain___count\", \"values\": [{\"min\": 2740, \"max\": 4397546}]}], \"marks\": [{\"type\": \"rect\", \"name\": \"layer_0_marks\", \"from\": {\"data\": \"data_0\"}, \"encode\": {\"update\": {\"width\": {\"signal\": \"max(0.25, bandwidth('x'))\"}, \"y\": {\"field\": \"__count\", \"scale\": \"y\"}, \"x\": {\"field\": \"Type\", \"scale\": \"x\"}, \"y2\": {\"value\": 0, \"scale\": \"y\"}, \"fill\": {\"value\": \"#4c78a8\"}}}, \"style\": [\"bar\"]}, {\"type\": \"text\", \"name\": \"layer_1_marks\", \"from\": {\"data\": \"data_0\"}, \"encode\": {\"update\": {\"text\": {\"signal\": \"format(datum[\\\"__count\\\"], \\\"\\\")\"}, \"dx\": {\"value\": 0}, \"baseline\": {\"value\": \"middle\"}, \"align\": {\"value\": \"center\"}, \"y\": {\"field\": \"__count\", \"scale\": \"y\", \"offset\": -10}, \"x\": {\"field\": \"Type\", \"scale\": \"x\", \"band\": 0.5}, \"fill\": {\"value\": \"black\"}}}, \"style\": [\"text\"]}], \"scales\": [{\"name\": \"x\", \"type\": \"band\", \"domain\": {\"data\": \"source_0_x_domain_Type\", \"field\": \"Type\", \"sort\": {\"op\": \"max\", \"field\": \"sort_field\", \"order\": \"descending\"}}, \"range\": [0, {\"signal\": \"width\"}], \"paddingInner\": 0.1, \"paddingOuter\": 0.05}, {\"name\": \"y\", \"type\": \"linear\", \"domain\": [{\"signal\": \"(data(\\\"data_0_y_domain___count\\\")[0] || {}).min\"}, {\"signal\": \"(data(\\\"data_0_y_domain___count\\\")[0] || {}).max\"}], \"range\": [{\"signal\": \"height\"}, 0], \"zero\": true, \"nice\": true}], \"axes\": [{\"scale\": \"y\", \"zindex\": 0, \"grid\": true, \"ticks\": false, \"aria\": false, \"labels\": false, \"domain\": false, \"orient\": \"left\", \"maxExtent\": 0, \"gridScale\": \"x\", \"tickCount\": {\"signal\": \"ceil(height/40)\"}, \"minExtent\": 0}, {\"scale\": \"x\", \"title\": \"Type of event\", \"labelBaseline\": \"top\", \"labelAngle\": 0, \"zindex\": 0, \"grid\": false, \"orient\": \"bottom\"}, {\"scale\": \"y\", \"orient\": \"left\", \"title\": \"Count of events\", \"grid\": false, \"zindex\": 0, \"labelOverlap\": true, \"tickCount\": {\"signal\": \"ceil(height/40)\"}}], \"title\": {\"text\": \"Events Count\", \"frame\": \"group\", \"anchor\": \"middle\"}, \"padding\": 5, \"height\": 400, \"background\": \"white\", \"width\": 500, \"style\": \"cell\"}, {\"mode\": \"vega\"});\n",
       "</script>"
      ],
      "text/plain": [
       "alt.LayerChart(...)"
      ]
     },
     "execution_count": 34,
     "metadata": {},
     "output_type": "execute_result"
    }
   ],
   "source": [
    "title = alt.TitleParams('Events Count', anchor='middle')\n",
    "base = alt.Chart(X, title=title).encode(\n",
    "    alt.X(\n",
    "        'Type',\n",
    "        sort=alt.EncodingSortField(field=\"Letters\", op=\"count\", order='descending'), \n",
    "        axis=alt.Axis(labelAngle=0),\n",
    "        title='Type of event'),\n",
    "    alt.Y('count()', title='Count of events'),\n",
    "    text='count(Type)'\n",
    ").properties(\n",
    "    width=500,\n",
    "    height=400\n",
    ")\n",
    "base.mark_bar() + base.mark_text(align='center', dx=0, yOffset=-10)"
   ]
  },
  {
   "cell_type": "code",
   "execution_count": null,
   "metadata": {},
   "outputs": [],
   "source": []
  },
  {
   "cell_type": "markdown",
   "metadata": {},
   "source": []
  }
 ],
 "metadata": {
  "kernelspec": {
   "display_name": "info_viz_env",
   "language": "python",
   "name": "python3"
  },
  "language_info": {
   "codemirror_mode": {
    "name": "ipython",
    "version": 3
   },
   "file_extension": ".py",
   "mimetype": "text/x-python",
   "name": "python",
   "nbconvert_exporter": "python",
   "pygments_lexer": "ipython3",
   "version": "3.12.2"
  }
 },
 "nbformat": 4,
 "nbformat_minor": 2
}
